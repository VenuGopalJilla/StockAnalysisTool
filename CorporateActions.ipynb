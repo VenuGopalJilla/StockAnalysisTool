{
 "cells": [
  {
   "cell_type": "code",
   "execution_count": 1,
   "metadata": {},
   "outputs": [],
   "source": [
    "import time, csv, requests, datetime, random, datetime, os, shutil, glob\n",
    "import pandas as pd\n",
    "import numpy as np\n",
    "from pathlib import Path\n",
    "from datetime import tzinfo, timedelta, datetime, date\n",
    "from os import path\n",
    "from bs4 import BeautifulSoup\n",
    "from selenium import webdriver\n",
    "from selenium.webdriver.common.by import By\n",
    "from selenium.webdriver.support.ui import Select\n",
    "from selenium.webdriver.common.keys import Keys\n",
    "from selenium.webdriver.chrome.options import Options\n",
    "from selenium.webdriver.support.ui import WebDriverWait\n",
    "from selenium.webdriver.support import expected_conditions as EC\n",
    "from selenium.common.exceptions import StaleElementReferenceException\n",
    "from selenium.common.exceptions import NoSuchElementException,TimeoutException,WebDriverException"
   ]
  },
  {
   "cell_type": "code",
   "execution_count": 3,
   "metadata": {},
   "outputs": [
    {
     "name": "stdout",
     "output_type": "stream",
     "text": [
      "C:\\Users\\venu\\Desktop\\Stock Market Analysis\\Data\n",
      "C:\\Users\\venu\\Desktop\\Stock Market Analysis\\CorporateActions\n",
      "C:\\Users\\venu\\Desktop\\Stock Market Analysis\\Data\n"
     ]
    }
   ],
   "source": [
    "path = os.path.join(os.getcwd(),\"Data\")\n",
    "stockspath = os.path.join(os.getcwd(),\"Data\")\n",
    "corporateactionspath = os.path.join(os.getcwd(),\"CorporateActions\")\n",
    "print(stockspath)\n",
    "print(corporateactionspath)\n",
    "print(path)"
   ]
  },
  {
   "cell_type": "markdown",
   "metadata": {},
   "source": [
    "# Bonus Issue"
   ]
  },
  {
   "cell_type": "code",
   "execution_count": 4,
   "metadata": {},
   "outputs": [],
   "source": [
    "def BonusIssue(data,date_f,date_t,r1,r2):\n",
    "    print(\"inside bonus issue -> \" + \" -------- \" + date_f + \" \" + date_t + \" ---------- ratios : \" + str(r1) + \" \" + str(r2))\n",
    "    now = date_f\n",
    "    count = 0\n",
    "    for i in range(0, data.shape[0]):\n",
    "        now = data.iloc[i].loc['Date']\n",
    "        if date_f == now:\n",
    "            if count == 1:\n",
    "                data.at[i,\"Open Price\"] = data.at[i,\"Open Price\"] * (r2/(r1+r2))\n",
    "                data.at[i,\"Low Price\"] = data.at[i,\"Low Price\"] * (r2/(r1+r2))\n",
    "                data.at[i,\"High Price\"] = data.at[i,\"High Price\"] * (r2/(r1+r2))\n",
    "                data.at[i,\"Close Price\"] = data.at[i,\"Close Price\"] * (r2/(r1+r2))\n",
    "                data.at[i,\"WAP\"] = data.at[i,\"WAP\"] * (r2/(r1+r2))\n",
    "            date_f = data.iloc[i+1].loc[\"Date\"]\n",
    "            count = 1\n",
    "            if date_f == date_t:\n",
    "                #upating the last column\n",
    "                data.at[data.shape[0]-1,\"Open Price\"] = data.at[data.shape[0]-1,\"Open Price\"] * (r2/(r1+r2))\n",
    "                data.at[data.shape[0]-1,\"Low Price\"] = data.at[data.shape[0]-1,\"Low Price\"] * (r2/(r1+r2))\n",
    "                data.at[data.shape[0]-1,\"High Price\"] = data.at[data.shape[0]-1,\"High Price\"] * (r2/(r1+r2))\n",
    "                data.at[data.shape[0]-1,\"Close Price\"] = data.at[data.shape[0]-1,\"Close Price\"] * (r2/(r1+r2))\n",
    "                data.at[data.shape[0]-1,\"WAP\"] = data.at[data.shape[0]-1,\"WAP\"] * (r2/(r1+r2))\n",
    "                break\n",
    "    return data"
   ]
  },
  {
   "cell_type": "markdown",
   "metadata": {},
   "source": [
    "# Stock Split"
   ]
  },
  {
   "cell_type": "code",
   "execution_count": 5,
   "metadata": {},
   "outputs": [],
   "source": [
    "def StockSplit(data,date_f, date_t,r1,r2):\n",
    "    print(\"inside stock split -> \" + \" -------- \" + date_f + \" \" + date_t + \" ---------- ratios : \" + str(r1) + \" \" + str(r2))\n",
    "    now = date_f\n",
    "    count = 0\n",
    "    for i in range(0, data.shape[0]):\n",
    "        now = data.iloc[i].loc['Date']\n",
    "        if date_f == now:\n",
    "            if count == 1:\n",
    "                data.at[i,\"Open Price\"] = data.at[i,\"Open Price\"] * (r1/r2)\n",
    "                data.at[i,\"Low Price\"] = data.at[i,\"Low Price\"] * (r1/r2)\n",
    "                data.at[i,\"High Price\"] = data.at[i,\"High Price\"] * (r1/r2)\n",
    "                data.at[i,\"Close Price\"] = data.at[i,\"Close Price\"] * (r1/r2)\n",
    "                data.at[i,\"WAP\"] = data.at[i,\"WAP\"] * (r1/r2)\n",
    "            date_f = data.iloc[i+1].loc[\"Date\"]\n",
    "            count = 1\n",
    "            if date_f == date_t:\n",
    "                #updating the last column\n",
    "                data.at[data.shape[0]-1,\"Open Price\"] = data.at[data.shape[0]-1,\"Open Price\"] * (r1/r2)\n",
    "                data.at[data.shape[0]-1,\"Low Price\"] = data.at[data.shape[0]-1,\"Low Price\"] * (r1/r2)\n",
    "                data.at[data.shape[0]-1,\"High Price\"] = data.at[data.shape[0]-1,\"High Price\"] * (r1/r2)\n",
    "                data.at[data.shape[0]-1,\"Close Price\"] = data.at[data.shape[0]-1,\"Close Price\"] * (r1/r2)\n",
    "                data.at[data.shape[0]-1,\"WAP\"] = data.at[data.shape[0]-1,\"WAP\"] * (r1/r2)\n",
    "                break\n",
    "    return data"
   ]
  },
  {
   "cell_type": "code",
   "execution_count": 6,
   "metadata": {},
   "outputs": [],
   "source": [
    "def apply_corporate_actions(stock_data, corporate_data):\n",
    "    for each in range(0, corporate_data.shape[0]):\n",
    "        row = corporate_data.iloc[each].loc['Purpose'].split(\" \")\n",
    "        if row[0] == \"Bonus\":\n",
    "            ratio = row[2].split(\":\")\n",
    "            stock_data = BonusIssue(stock_data, corporate_data.iloc[each].loc[\"Ex Date\"], stock_data.iloc[stock_data.shape[0]-1].loc['Date'], int(ratio[0]), int(ratio[1]))\n",
    "        elif row[0] == \"Stock\":\n",
    "            ratio1 = row[4].split(\".\")\n",
    "            ratio2 = row[6].split(\".\")\n",
    "            rat1 = ratio1[1].split(\"/\")\n",
    "            rat2 = ratio2[1].split(\"/\")\n",
    "            r1 = int(rat1[0])\n",
    "            r2 = int(rat2[0])\n",
    "            stock_data = StockSplit(stock_data, corporate_data.iloc[each].loc[\"Ex Date\"], stock_data.iloc[stock_data.shape[0]-1].loc['Date'] ,r2,r1)\n",
    "    return stock_data"
   ]
  },
  {
   "cell_type": "code",
   "execution_count": null,
   "metadata": {},
   "outputs": [],
   "source": []
  }
 ],
 "metadata": {
  "kernelspec": {
   "display_name": "Python 3",
   "language": "python",
   "name": "python3"
  },
  "language_info": {
   "codemirror_mode": {
    "name": "ipython",
    "version": 3
   },
   "file_extension": ".py",
   "mimetype": "text/x-python",
   "name": "python",
   "nbconvert_exporter": "python",
   "pygments_lexer": "ipython3",
   "version": "3.8.3"
  }
 },
 "nbformat": 4,
 "nbformat_minor": 4
}
