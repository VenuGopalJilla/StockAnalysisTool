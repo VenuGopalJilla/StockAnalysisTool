{
 "cells": [
  {
   "cell_type": "code",
   "execution_count": 5,
   "metadata": {},
   "outputs": [],
   "source": [
    "import os\n",
    "import pandas as pd"
   ]
  },
  {
   "cell_type": "code",
   "execution_count": 6,
   "metadata": {},
   "outputs": [],
   "source": [
    "path = os.path.join(os.getcwd(),\"Data\")\n",
    "BhavCopyPath = os.path.join(path,\"BhavCopies\")\n",
    "DeliverablesPath = os.path.join(path,\"Deliverables\")\n",
    "path = os.path.join(os.getcwd(),\"Data\\BhavConvertedToStock\")\n",
    "# print(path)\n",
    "# print(BhavCopyPath)\n",
    "# print(DeliverablesPath)"
   ]
  },
  {
   "cell_type": "code",
   "execution_count": 7,
   "metadata": {},
   "outputs": [],
   "source": [
    "def convertBhavCopyToStock(bhav,deli):\n",
    "    # bhav = pd.read_csv(os.path.join(BhavCopyPath,name))\n",
    "    # deli = pd.read_csv(os.path.join(DeliverablesPath,name))\n",
    "    df = pd.DataFrame()\n",
    "    df[\"SC_CODE\"] = bhav[\"SC_CODE\"]\n",
    "    df[\"SC_NAME\"] = bhav[\"SC_NAME\"]\n",
    "    df[\"Open Price\"] = bhav[\"OPEN\"]\n",
    "    df[\"High Price\"] = bhav[\"HIGH\"]\n",
    "    df[\"Low Price\"] = bhav[\"LOW\"]\n",
    "    df[\"Close Price\"] = bhav[\"CLOSE\"]\n",
    "    df[\"WAP\"] = bhav[\"NET_TURNOV\"] / bhav[\"NO_OF_SHRS\"]\n",
    "    df[\"No.of Shares\"] = bhav[\"NO_OF_SHRS\"]\n",
    "    df[\"No. of Trades\"] = bhav[\"NO_TRADES\"]\n",
    "    df[\"Total Turnover (Rs.)\"] = bhav[\"NET_TURNOV\"]\n",
    "    df[\"Spread High-Low\"] = bhav[\"HIGH\"] - bhav[\"LOW\"]\n",
    "    df[\"Spread Close-Open\"] = bhav[\"CLOSE\"] - bhav[\"OPEN\"]\n",
    "    df[\"Deliverable Quantity\"] = deli[\"DELIVERY QTY\"]\n",
    "    df[\"% Deli. Qty to Traded Qty\"] = deli[\"DELV. PER.\"]\n",
    "    return df\n",
    "    # df.to_csv(os.path.join(path,name),index=None)"
   ]
  },
  {
   "cell_type": "code",
   "execution_count": null,
   "metadata": {},
   "outputs": [],
   "source": []
  },
  {
   "cell_type": "code",
   "execution_count": null,
   "metadata": {},
   "outputs": [],
   "source": []
  }
 ],
 "metadata": {
  "kernelspec": {
   "display_name": "Python 3",
   "language": "python",
   "name": "python3"
  },
  "language_info": {
   "codemirror_mode": {
    "name": "ipython",
    "version": 3
   },
   "file_extension": ".py",
   "mimetype": "text/x-python",
   "name": "python",
   "nbconvert_exporter": "python",
   "pygments_lexer": "ipython3",
   "version": "3.8.3"
  }
 },
 "nbformat": 4,
 "nbformat_minor": 4
}
