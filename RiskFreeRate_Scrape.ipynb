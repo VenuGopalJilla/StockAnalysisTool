{
 "cells": [
  {
   "cell_type": "code",
   "execution_count": 1,
   "metadata": {},
   "outputs": [],
   "source": [
    "import os\n",
    "from selenium import webdriver\n",
    "from selenium.webdriver.common.keys import Keys\n",
    "from selenium.webdriver.support.ui import Select\n",
    "from webdriver_manager.chrome import ChromeDriverManager\n",
    "import pandas as pd\n",
    "import time\n",
    "from bs4 import BeautifulSoup\n",
    "import calendar\n",
    "import datetime"
   ]
  },
  {
   "cell_type": "code",
   "execution_count": 2,
   "metadata": {},
   "outputs": [],
   "source": [
    "risk_free_rate_url = \"https://www.treasury.gov/resource-center/data-chart-center/interest-rates/pages/textview.aspx?data=yield\""
   ]
  },
  {
   "cell_type": "code",
   "execution_count": 3,
   "metadata": {},
   "outputs": [
    {
     "name": "stdout",
     "output_type": "stream",
     "text": [
      "C:\\Users\\venu\\Desktop\\Stock Market Analysis\\Data\n"
     ]
    }
   ],
   "source": [
    "path = os.path.join(os.getcwd(),\"Data\")\n",
    "print(path)\n",
    "\n",
    "def download_risk_free_rate():\n",
    "\n",
    "    def create_driver():\n",
    "        chromeOptions = webdriver.ChromeOptions()\n",
    "#         chromeOptions.add_argument(\"--headless\")\n",
    "        chromeOptions.add_experimental_option(\"prefs\",{\"download.default_directory\":path})\n",
    "        driver = webdriver.Chrome(ChromeDriverManager().install(), options = chromeOptions)\n",
    "        return driver\n",
    "\n",
    "    def download():\n",
    "        ele = driver.find_element_by_xpath('//*[@id=\"interestRateTimePeriod\"]')\n",
    "        ele = Select(ele)\n",
    "        ele.select_by_visible_text(\"All\") \n",
    "\n",
    "        btn = driver.find_element_by_xpath('/html/body/form/div[8]/div/div[1]/div/div[2]/div/div/div/div[1]/div[2]/div/table/tbody/tr/td/div/div[3]/div[2]/input')\n",
    "        btn.click()\n",
    "        time.sleep(15)\n",
    "        soup = BeautifulSoup(driver.page_source,'html')\n",
    "        driver.quit()\n",
    "        table = soup.find_all(\"table\", {\"class\": \"t-chart\"})\n",
    "        risk_free_rate = pd.read_html(str(table))[0]\n",
    "        risk_free = risk_free_rate[[\"Date\",\"3 mo\"]]\n",
    "        risk_free_rate[\"Rate\"] = risk_free_rate[\"3 mo\"]\n",
    "        risk_free.columns = [\"Date\",\"Rate\"]\n",
    "        risk_free.dropna(inplace=True)\n",
    "        risk_free.to_csv(os.path.join(path,\"RiskFreeRate.csv\"),index=None)\n",
    "    driver = create_driver()\n",
    "    driver.get(risk_free_rate_url)\n",
    "    download()"
   ]
  },
  {
   "cell_type": "code",
   "execution_count": 4,
   "metadata": {},
   "outputs": [],
   "source": [
    "# download_risk_free_rate()"
   ]
  },
  {
   "cell_type": "code",
   "execution_count": null,
   "metadata": {},
   "outputs": [],
   "source": []
  }
 ],
 "metadata": {
  "kernelspec": {
   "display_name": "Python 3",
   "language": "python",
   "name": "python3"
  },
  "language_info": {
   "codemirror_mode": {
    "name": "ipython",
    "version": 3
   },
   "file_extension": ".py",
   "mimetype": "text/x-python",
   "name": "python",
   "nbconvert_exporter": "python",
   "pygments_lexer": "ipython3",
   "version": "3.8.3"
  }
 },
 "nbformat": 4,
 "nbformat_minor": 4
}
