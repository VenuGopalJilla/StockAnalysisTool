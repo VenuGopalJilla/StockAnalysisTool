{
 "cells": [
  {
   "cell_type": "code",
   "execution_count": null,
   "metadata": {},
   "outputs": [],
   "source": [
    "import os\n",
    "from sklearn.model_selection import train_test_split\n",
    "import numpy as np\n",
    "import pandas as pd\n",
    "from sklearn.model_selection import GridSearchCV,RandomizedSearchCV\n",
    "from sklearn import metrics\n",
    "from keras.models import Sequential\n",
    "from keras.layers import Dense\n",
    "from keras.layers import LSTM\n",
    "from keras.layers import Dropout\n",
    "from keras.backend import sigmoid\n",
    "from sklearn.metrics import confusion_matrix\n",
    "from keras.wrappers.scikit_learn import KerasClassifier\n",
    "from sklearn.metrics import precision_score, make_scorer\n",
    "from math import sqrt\n",
    "import threading\n",
    "from multiprocessing.pool import ThreadPool\n",
    "import time\n",
    "import multiprocessing\n",
    "import traceback\n",
    "import tensorflow as tf"
   ]
  },
  {
   "cell_type": "code",
   "execution_count": null,
   "metadata": {},
   "outputs": [],
   "source": [
    "import warnings; \n",
    "warnings.filterwarnings(\"ignore\")"
   ]
  },
  {
   "cell_type": "code",
   "execution_count": null,
   "metadata": {},
   "outputs": [],
   "source": [
    "from tune_sklearn import TuneGridSearchCV"
   ]
  },
  {
   "cell_type": "code",
   "execution_count": null,
   "metadata": {},
   "outputs": [],
   "source": [
    "def pre_process_data(data,null_threshold):\n",
    "    \"\"\"\n",
    "    Drops Date and Unix Date columns from the data.\n",
    "    Drops the columns which has null values more than specified null_threshold.\n",
    "    Replaces infinite values with NAN.\n",
    "    Drops the rows which has null values.\n",
    "\n",
    "    Parameters\n",
    "    ----------\n",
    "    data : dataframe\n",
    "\n",
    "    null_threshold : numeric\n",
    "        numeric value describing the amount of null values that can be present.\n",
    "\n",
    "    Returns\n",
    "    -------\n",
    "    data : dataframe\n",
    "        an updated dataframe after performing all the opertaions.\n",
    "    \"\"\"\n",
    "    \n",
    "    data.drop(columns=['Unix Date','Date'],axis=1,inplace=True)\n",
    "    total = data.shape[0]\n",
    "    for col in data.columns:\n",
    "        if null_threshold * total / 100 < data[col].isnull().sum():\n",
    "            data.drop(columns=[col],axis=1,inplace=True)\n",
    "    data.replace([np.inf, -np.inf], np.nan, inplace=True)\n",
    "    data = data.apply(pd.to_numeric,errors='coerce')\n",
    "    data.dropna(axis=0,inplace=True)\n",
    "    return data"
   ]
  },
  {
   "cell_type": "code",
   "execution_count": null,
   "metadata": {},
   "outputs": [],
   "source": [
    "def dependent_column(data,column):\n",
    "    \"\"\"\n",
    "    Removes all the Next Day columns.\n",
    "    Removes all the non Growth Rate Columns (GR)\n",
    "    add the predictor column to list of columns.\n",
    "\n",
    "    Parameters\n",
    "    ----------\n",
    "    data : dataframe\n",
    "\n",
    "    column : string\n",
    "        name of the predictor column \n",
    "\n",
    "    Returns\n",
    "    -------\n",
    "    data : dataframe\n",
    "        an updated dataframe after performing all the opertaions.\n",
    "    column : string\n",
    "        name of the predictor column\n",
    "    \"\"\"\n",
    "    cols = [col for col in data.columns if \"next\" not in col.lower() and col.lower().endswith(\"gr\")]\n",
    "    cols.append(column)\n",
    "    data = data[cols]\n",
    "    return (data,column)"
   ]
  },
  {
   "cell_type": "code",
   "execution_count": null,
   "metadata": {},
   "outputs": [],
   "source": [
    "def reshape_data_r(x_train, x_test, y_train, y_test):\n",
    "    x_train = np.array(x_train)\n",
    "    x_train = np.reshape(x_train, (x_train.shape[0],1, x_train.shape[1]))\n",
    "    x_test = np.array(x_test)\n",
    "    x_test = np.reshape(x_test, (x_test.shape[0],1, x_test.shape[1]))\n",
    "    y_test = np.array(y_test)\n",
    "    y_test = np.reshape(y_test, (y_test.shape[0],1,))\n",
    "    y_train = np.array(y_train)\n",
    "    y_train = np.reshape(y_train, (y_train.shape[0],1,))\n",
    "    return (x_train, x_test, y_train, y_test)"
   ]
  },
  {
   "cell_type": "code",
   "execution_count": null,
   "metadata": {},
   "outputs": [],
   "source": [
    "from keras import backend as K\n",
    "def f1_score(y_true, y_pred):\n",
    "    def recall(y_true, y_pred):\n",
    "        true_positives = K.sum(K.round(K.clip(y_true * y_pred, 0, 1)))\n",
    "        possible_positives = K.sum(K.round(K.clip(y_true, 0, 1)))\n",
    "        recall = true_positives / (possible_positives + K.epsilon())\n",
    "        return recall\n",
    "\n",
    "    def precision(y_true, y_pred):\n",
    "        true_positives = K.sum(K.round(K.clip(y_true * y_pred, 0, 1)))\n",
    "        predicted_positives = K.sum(K.round(K.clip(y_pred, 0, 1)))\n",
    "        precision = true_positives / (predicted_positives + K.epsilon())\n",
    "        return precision\n",
    "    precision = precision(y_true, y_pred)\n",
    "    recall = recall(y_true, y_pred)\n",
    "    return 2*((precision*recall)/(precision+recall+K.epsilon()))"
   ]
  },
  {
   "cell_type": "code",
   "execution_count": null,
   "metadata": {},
   "outputs": [],
   "source": [
    "def build_lstm(input_shape):\n",
    "    model = Sequential()\n",
    "    model.add(LSTM(units=32,return_sequences=True,input_shape=input_shape))\n",
    "    model.add(Dropout(0.2))\n",
    "    model.add(LSTM(units=32,return_sequences=True))\n",
    "    model.add(Dropout(0.2))\n",
    "    model.add(LSTM(units=32))\n",
    "    model.add(Dropout(0.2))\n",
    "    model.add(Dense(units = 1,activation = 'sigmoid'))\n",
    "    model.compile(loss='binary_crossentropy', optimizer=\"Adam\", metrics=f1_score)\n",
    "    return model"
   ]
  },
  {
   "cell_type": "code",
   "execution_count": null,
   "metadata": {},
   "outputs": [],
   "source": [
    "def best_parameters_rnn(X,Y):\n",
    "    custom_scorer = make_scorer(metrics.f1_score, greater_is_better = True, pos_label = 1)\n",
    "    batch_size = [25,32,48,64,100]\n",
    "    epochs = [25,50,75,100]\n",
    "    param_grid = dict(epochs=epochs,batch_size=batch_size)\n",
    "    input_shape = (X.shape[1],X.shape[2])\n",
    "    model = KerasClassifier(build_fn = build_lstm,input_shape=input_shape,verbose=1)\n",
    "    grid = TuneGridSearchCV(estimator=model, param_grid=param_grid,scoring=custom_scorer,verbose=1,use_gpu=True)\n",
    "#     grid = GridSearchCV(estimator=model, param_grid=param_grid,scoring=custom_scorer,verbose=0,n_jobs=-1)\n",
    "    grid_result = grid.fit(X,Y) \n",
    "    epoch = grid_result.best_params_['epochs']\n",
    "    batch_size = grid_result.best_params_['batch_size']\n",
    "    return (epoch,batch_size)"
   ]
  },
  {
   "cell_type": "code",
   "execution_count": null,
   "metadata": {},
   "outputs": [],
   "source": [
    "def split_dataset(X,Y,t):\n",
    "    tr = int(len(X)*t)\n",
    "    tt = len(X) - tr\n",
    "    xtr = X[:tr]\n",
    "    xtt = X[tr:tr+tt]\n",
    "    ytr = Y[:tr]\n",
    "    ytt = Y[tr:tr+tt]\n",
    "    return (xtr,xtt,ytr,ytt)\n",
    "    "
   ]
  },
  {
   "cell_type": "code",
   "execution_count": null,
   "metadata": {},
   "outputs": [],
   "source": [
    "def create_confusion_matrix(y_pred,y_true):\n",
    "    \n",
    "    cm = confusion_matrix(y_true,y_pred)\n",
    "    accuracy = metrics.accuracy_score(y_true,y_pred)\n",
    "    precision = metrics.precision_score(y_true,y_pred)\n",
    "    recall = metrics.recall_score(y_true,y_pred)\n",
    "    f1_score = metrics.f1_score(y_true,y_pred)\n",
    "    return {\"accuracy\":accuracy,\"precision\":precision,\"recall\":recall,\"f1_score\":f1_score,\"confusion matrix\":cm}"
   ]
  },
  {
   "cell_type": "code",
   "execution_count": null,
   "metadata": {},
   "outputs": [],
   "source": [
    "def error_metrics(y_true, y_pred):\n",
    "    rmse = sqrt(metrics.mean_squared_error(y_true, y_pred))\n",
    "    mae = metrics.mean_absolute_error(y_true, y_pred)\n",
    "    mse = metrics.mean_squared_error(y_true, y_pred)\n",
    "    return {\"root_mean_squared_error\":rmse,\"mean_absolute_error\":mae,\"mean_squared_error\":mse}"
   ]
  },
  {
   "cell_type": "code",
   "execution_count": null,
   "metadata": {},
   "outputs": [],
   "source": [
    "def reshape_data(x_train, x_test, y_train, y_test,units = 60):\n",
    "    my_x_train = list()\n",
    "    my_y_train = list()\n",
    "    my_x_test = list()\n",
    "    my_y_test = list()\n",
    "    for i in range(x_train.shape[0]-units):\n",
    "        my_x_train.append(x_train.iloc[i:i+units,:])\n",
    "        my_y_train.append(y_train.iloc[i+units,])\n",
    "    \n",
    "    my_x_train = np.array(my_x_train)\n",
    "    my_x_train = np.reshape(my_x_train,(my_x_train.shape[0],my_x_train.shape[1],my_x_train.shape[2]))\n",
    "    \n",
    "    my_y_train = np.array(my_y_train)\n",
    "    my_y_train = np.reshape(my_y_train,(my_y_train.shape[0],1))\n",
    "    \n",
    "    for i in range(x_test.shape[0]-units):\n",
    "        my_x_test.append(x_test.iloc[i:i+units,:])\n",
    "        my_y_test.append(y_test.iloc[i+units,])\n",
    "        \n",
    "    my_x_test = np.array(my_x_test)\n",
    "    my_x_test = np.reshape(my_x_test,(my_x_test.shape[0],my_x_test.shape[1],my_x_test.shape[2]))\n",
    "    \n",
    "    my_y_test = np.array(my_y_test)\n",
    "    my_y_test = np.reshape(my_y_test,(my_y_test.shape[0],1))\n",
    "    \n",
    "    return (my_x_train, my_x_test, my_y_train, my_y_test)"
   ]
  },
  {
   "cell_type": "code",
   "execution_count": null,
   "metadata": {},
   "outputs": [],
   "source": [
    "def create_rnn_classification(df,column,epochs,batch_size,rate):\n",
    "    df[\"Target\"] = df[column].apply(lambda x : 1 if x >= rate else 0)\n",
    "    X = df.drop(columns=[\"Target\",column])\n",
    "    Y = df[\"Target\"]\n",
    "#     x_train, x_test, y_train, y_test = train_test_split(X, Y, test_size=0.3,random_state = 0)\n",
    "    x_train, x_test, y_train, y_test = split_dataset(X,Y,0.70)\n",
    "#     x_train, x_test, y_train, y_test = reshape_data_r(x_train, x_test, y_train, y_test)\n",
    "    x_train, x_test, y_train, y_test = reshape_data(x_train, x_test, y_train, y_test,units = 60)\n",
    "\n",
    "    input_dim = (x_train.shape[1],x_train.shape[2])\n",
    "\n",
    "    model = KerasClassifier(build_fn = build_lstm, batch_size=batch_size, epochs=epochs,input_shape=input_dim,verbose=0) \n",
    "    history = model.fit(x_train,y_train)\n",
    "\n",
    "    y_pred = model.predict(x_test)\n",
    "    y_pred = np.array(y_pred)\n",
    "    y_pred = np.reshape(y_pred, (y_pred.shape[0],1))\n",
    "\n",
    "    result = {}\n",
    "    error = error_metrics(y_test, y_pred)\n",
    "    confusion = create_confusion_matrix(y_test,y_pred)\n",
    "    result.update(error)\n",
    "    result.update(confusion)\n",
    "    return result"
   ]
  },
  {
   "cell_type": "code",
   "execution_count": null,
   "metadata": {},
   "outputs": [],
   "source": [
    "def rnn_classification(df,column = \"Next Day Close Price GR\"):\n",
    "    rate_of_growth = [0.01,0.02,0.03,0.04,0.05]\n",
    "    solution = list()\n",
    "    for t in rate_of_growth:\n",
    "        try:\n",
    "            print(\"rate = \",t)\n",
    "            df[\"Target\"] = df[column].apply(lambda x : 1 if x >= t else 0)\n",
    "            X = df.drop(columns=[\"Target\",column])\n",
    "            Y = df[\"Target\"]\n",
    "    #         x_train, x_test, y_train, y_test = train_test_split(X, Y, test_size=0.3,random_state = 0)\n",
    "            x_train, x_test, y_train, y_test = split_dataset(X,Y,0.70)\n",
    "            x_train, x_test, y_train, y_test = reshape_data(x_train, x_test, y_train, y_test)\n",
    "            epochs,batch_size = best_parameters_rnn(x_train,y_train)\n",
    "            result = create_rnn_classification(df,column = \"Next Day Close Price GR\",epochs = epochs,batch_size = batch_size,rate = t)\n",
    "            result.update({\"epochs\":epochs,\"batch_size\":batch_size,\"rate_of_growth\":t})\n",
    "            solution.append(result)\n",
    "        except:\n",
    "            traceback.print_exc()\n",
    "            break\n",
    "    return solution"
   ]
  },
  {
   "cell_type": "code",
   "execution_count": null,
   "metadata": {},
   "outputs": [],
   "source": [
    "total = pd.read_csv(\"../input/stockdata/all.csv\")\n",
    "inputpath = \"../input/stockdata/Data/Stock\""
   ]
  },
  {
   "cell_type": "code",
   "execution_count": null,
   "metadata": {},
   "outputs": [],
   "source": [
    "%%time\n",
    "for _,row in total.iterrows():\n",
    "    try:\n",
    "        security_id = str(row['security id'])\n",
    "        print(security_id)\n",
    "        df = pd.read_csv(os.path.join(inputpath,\"gr\"+str(security_id)+\".csv\"))\n",
    "        df = pre_process_data(df,60)\n",
    "        df,column = dependent_column(df, column = \"Next Day Close Price GR\")\n",
    "        rnn_res = rnn_classification(df,column)\n",
    "        rnn_df = pd.DataFrame(rnn_res)\n",
    "        rnn_df.to_csv('rnn_'+str(security_id)+\".csv\",index=None)\n",
    "    except Exception as e:\n",
    "        traceback.print_exc()"
   ]
  },
  {
   "cell_type": "code",
   "execution_count": null,
   "metadata": {},
   "outputs": [],
   "source": []
  }
 ],
 "metadata": {
  "kernelspec": {
   "display_name": "Python 3",
   "language": "python",
   "name": "python3"
  },
  "language_info": {
   "codemirror_mode": {
    "name": "ipython",
    "version": 3
   },
   "file_extension": ".py",
   "mimetype": "text/x-python",
   "name": "python",
   "nbconvert_exporter": "python",
   "pygments_lexer": "ipython3",
   "version": "3.8.8"
  }
 },
 "nbformat": 4,
 "nbformat_minor": 4
}
