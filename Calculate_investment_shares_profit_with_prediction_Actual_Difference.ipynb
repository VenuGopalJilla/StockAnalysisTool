{
 "cells": [
  {
   "cell_type": "code",
   "execution_count": 4,
   "id": "phantom-psychology",
   "metadata": {},
   "outputs": [],
   "source": [
    "import pandas as pd\n",
    "import os\n",
    "from datetime import datetime, timedelta\n",
    "import numpy as np\n",
    "import math\n",
    "\n",
    "import warnings; warnings.simplefilter('ignore')"
   ]
  },
  {
   "cell_type": "code",
   "execution_count": 5,
   "id": "inner-exhibit",
   "metadata": {},
   "outputs": [],
   "source": [
    "# sp500_url = \"https://raw.githubusercontent.com/saikr789/stock-index-risk/master/SP500companies.csv\""
   ]
  },
  {
   "cell_type": "code",
   "execution_count": 8,
   "id": "fifty-special",
   "metadata": {},
   "outputs": [],
   "source": [
    "# sp500 = pd.read_csv(sp500_url)\n",
    "sp500 = pd.read_csv(\"C:\\\\Users\\\\venu\\\\Desktop\\\\Stock Market Analysis\\\\Data\\\\SP500companies.csv\")\n",
    "sp500_sc = list(sp500['Security Code'])\n",
    "sp500_sn = list(sp500['Security Name'])\n",
    "sp500_companies = {str(sp500_sc[i]) : sp500_sn[i] for i in range(len(sp500_sc))}\n",
    "# sp500_companies"
   ]
  },
  {
   "cell_type": "code",
   "execution_count": 9,
   "id": "attached-graduate",
   "metadata": {},
   "outputs": [
    {
     "data": {
      "text/plain": [
       "'C:\\\\Users\\\\venu\\\\Desktop\\\\Stock Market Analysis'"
      ]
     },
     "execution_count": 9,
     "metadata": {},
     "output_type": "execute_result"
    }
   ],
   "source": [
    "path = os.getcwd()\n",
    "path"
   ]
  },
  {
   "cell_type": "code",
   "execution_count": 10,
   "id": "quarterly-trader",
   "metadata": {},
   "outputs": [],
   "source": [
    "# cols = [\"Company\", \"Security Id\", \"Actual Average Returns %\", \"Predicted Negative Range\", \"Predicted Positive Range\", \"Prediction Range\"]\n",
    "# results_df = pd.DataFrame(columns = cols)\n",
    "# results_df"
   ]
  },
  {
   "cell_type": "code",
   "execution_count": 11,
   "id": "sensitive-reach",
   "metadata": {},
   "outputs": [
    {
     "name": "stdout",
     "output_type": "stream",
     "text": [
      "Wall time: 0 ns\n"
     ]
    }
   ],
   "source": [
    "%%time\n",
    "\n",
    "def getAverageResults(data, company, sec_id, days, results_df):\n",
    "    try :\n",
    "        df = data[data[\"Security Id\"] == sec_id]\n",
    "        if (df.shape[0] != 0):\n",
    "            df1 = df[df[\"Difference\"] < 0]\n",
    "            df2 = df[df[\"Difference\"] > 0]\n",
    "            actual_average_returns = df[\"Actual average returns %\"].sum() / df.shape[0]\n",
    "            if (actual_average_returns == 0):\n",
    "                row = {}\n",
    "                row[\"Company\"] = company\n",
    "                row[\"Security Id\"] = sec_id\n",
    "                row[\"Days\"] = days\n",
    "                row[\"Actual Average Returns %\"] = actual_average_returns\n",
    "                row[\"Predicted Negative Range\"] = 0\n",
    "                row[\"Predicted Positive Range\"] = 0\n",
    "                row[\"Prediction Range\"] = \"-\"\n",
    "            else:\n",
    "                predicted_negative_range = df1[\"Difference\"].sum() / df1.shape[0]\n",
    "                predicted_positive_range = df2[\"Difference\"].sum() / df2.shape[0]\n",
    "                if (math.isnan(predicted_negative_range)):\n",
    "                    predicted_negative_range = actual_average_returns\n",
    "                    range1 = actual_average_returns\n",
    "                    range2 = (1 + predicted_positive_range) * actual_average_returns\n",
    "                elif (math.isnan(predicted_positive_range)):\n",
    "                    predicted_positive_range = actual_average_returns\n",
    "                    range1 = (1- abs(predicted_negative_range)) * actual_average_returns\n",
    "                    range2 = actual_average_returns\n",
    "                else:\n",
    "                    range1 = (1- abs(predicted_negative_range)) * actual_average_returns\n",
    "                    range2 = (1 + predicted_positive_range) * actual_average_returns\n",
    "    #             print(range1, range2)\n",
    "                row = {}\n",
    "                row[\"Company\"] = company\n",
    "                row[\"Security Id\"] = sec_id\n",
    "                row[\"Days\"] = days\n",
    "                row[\"Actual Average Returns %\"] = actual_average_returns\n",
    "                row[\"Predicted Negative Range\"] = predicted_negative_range\n",
    "                row[\"Predicted Positive Range\"] = predicted_positive_range\n",
    "                row[\"Prediction Range\"] = str(range1) + \" to \" + str(range2)\n",
    "            results_df = results_df.append(row, ignore_index=True)\n",
    "    except Exception as e:\n",
    "        print(e)\n",
    "\n",
    "    return results_df\n",
    "\n",
    "    "
   ]
  },
  {
   "cell_type": "code",
   "execution_count": 12,
   "id": "adverse-approach",
   "metadata": {},
   "outputs": [
    {
     "name": "stdout",
     "output_type": "stream",
     "text": [
      "30\n",
      "*****************************************************************\n",
      "*****************************************************************\n",
      "60\n",
      "*****************************************************************\n",
      "*****************************************************************\n",
      "90\n",
      "*****************************************************************\n",
      "*****************************************************************\n",
      "180\n",
      "*****************************************************************\n",
      "*****************************************************************\n",
      "360\n",
      "*****************************************************************\n",
      "*****************************************************************\n",
      "720\n",
      "*****************************************************************\n",
      "*****************************************************************\n"
     ]
    }
   ],
   "source": [
    "# days = [30, 60, 90, 180, 270, 360, 540, 720, 900, 1080]\n",
    "# days = [30, 60, 90, 360, 720, 180, 1080]\n",
    "days = [30, 60, 90, 180, 360, 720]\n",
    "\n",
    "for d in days:\n",
    "    print(d)\n",
    "    print(\"*****************************************************************\")\n",
    "    \n",
    "    cols = [\"Company\", \"Security Id\", \"Days\", \"Actual Average Returns %\", \"Predicted Negative Range\", \"Predicted Positive Range\", \"Prediction Range\"]\n",
    "    results_df = pd.DataFrame(columns = cols)\n",
    "    \n",
    "    all_results_data = pd.read_csv(\"C:\\\\Users\\\\venu\\\\Desktop\\\\Stock Market Analysis\\\\Data\\\\SP500_simulation_results\\\\All_\" + str(d) + \"days_Results (2).csv\")\n",
    "    \n",
    "    for sec_id in sp500_sc:\n",
    "        company_name = sp500_companies[str(sec_id)]\n",
    "        results_df = getAverageResults(all_results_data, company_name, sec_id, d, results_df)\n",
    "    \n",
    "#     print(results_df)\n",
    "    \n",
    "    results_df = results_df.sort_values(by = ['Actual Average Returns %'], ascending = [False])\n",
    "    results_df.to_csv(\"C:\\\\Users\\\\venu\\\\Desktop\\\\Stock Market Analysis\\\\Data\\\\SP500_simulation_results\\\\Top_New_Updated_\" + str(d) + \"days_WithPredictionRange.csv\", index = False)\n",
    "    \n",
    "    print(\"*****************************************************************\")\n",
    "#     break"
   ]
  },
  {
   "cell_type": "code",
   "execution_count": null,
   "id": "educated-headline",
   "metadata": {},
   "outputs": [],
   "source": []
  },
  {
   "cell_type": "code",
   "execution_count": null,
   "id": "measured-digest",
   "metadata": {},
   "outputs": [],
   "source": []
  }
 ],
 "metadata": {
  "kernelspec": {
   "display_name": "Python 3",
   "language": "python",
   "name": "python3"
  },
  "language_info": {
   "codemirror_mode": {
    "name": "ipython",
    "version": 3
   },
   "file_extension": ".py",
   "mimetype": "text/x-python",
   "name": "python",
   "nbconvert_exporter": "python",
   "pygments_lexer": "ipython3",
   "version": "3.8.8"
  }
 },
 "nbformat": 4,
 "nbformat_minor": 5
}
