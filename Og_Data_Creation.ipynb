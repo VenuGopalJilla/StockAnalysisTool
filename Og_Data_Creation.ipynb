{
 "cells": [
  {
   "cell_type": "code",
   "execution_count": 8,
   "metadata": {},
   "outputs": [],
   "source": [
    "from ipynb.fs.full.Equity_Scrape import download_equity\n",
    "from ipynb.fs.full.Stock_Scrape1 import download_stocks\n",
    "from ipynb.fs.full.CorporateActions_Scrape1 import download_corporate_actions\n",
    "from ipynb.fs.full.BhavCopy_Scrape import download_bhavcopy\n",
    "from ipynb.fs.full.Deliverable_Scrape import download_deliverables\n",
    "from ipynb.fs.full.ConvertBhavToStock import convertBhavCopyToStock\n",
    "from ipynb.fs.full.Index_Scrape import download_index\n",
    "from ipynb.fs.full.RiskFreeRate_Scrape import download_risk_free_rate\n",
    "from ipynb.fs.full.Revenue_Profit_Scrape import download_revenue_profit\n",
    "\n",
    "from ipynb.fs.full.Data_Cleaning import data_cleaning\n",
    "from ipynb.fs.full.CorporateActions import apply_corporate_actions\n",
    "from ipynb.fs.full.Feature_Creation1 import calculate_beta, calculate_alpha, add_risk_free_column,create_lower_upper_bands, calculate_band_area, create_dividend, create_index, add_next_day_columns\n",
    "from ipynb.fs.full.Revenue import create_eps_pe_ratio_revenue_income_expenditure_net_profit\n",
    "from ipynb.fs.full.GrowthRate import find_gain_loss, close_price_as_percent_of_LV_HV_BA, sequential_increase, sequential_decrease, sequential_increase_percentage, sequential_decrease_percentage, max_min_avg_of_sequential_data, sequential_increase_decrease, generate_dictionary_for_quarterwise_data, generate_dictionary_for_quarterwise_growthrate_data, update_growthrate_for_quarterwise_data, quarter_wise_growthrate\n",
    "\n",
    "import pandas as pd \n",
    "import numpy as np\n",
    "import os\n",
    "import time"
   ]
  },
  {
   "cell_type": "code",
   "execution_count": 9,
   "metadata": {},
   "outputs": [
    {
     "data": {
      "text/plain": [
       "'C:\\\\Users\\\\venu\\\\Desktop\\\\Stock Market Analysis\\\\Data'"
      ]
     },
     "execution_count": 9,
     "metadata": {},
     "output_type": "execute_result"
    }
   ],
   "source": [
    "path = os.getcwd()\n",
    "datapath = os.path.join(path,\"Data\")\n",
    "datapath"
   ]
  },
  {
   "cell_type": "code",
   "execution_count": 10,
   "metadata": {},
   "outputs": [],
   "source": [
    "companies = {\"500112\" : \"SBIN\" ,\n",
    "\"500325\" : \"RELIANCE INDUSTRIES LTD\",\n",
    "\"532540\" : \"TATA CONSULTANCY SERVICES LTD\" ,\n",
    "\"500209\" : \"INFOSYS LTD\", \n",
    "\"532174\" : \"ICICI BANK LTD\", \n",
    "\"507685\" : \"WIPRO LTD\", \n",
    "\"530965\" : \"INDIAN OIL CORPORATION LTD\", \n",
    "\"500182\" : \"HERO MOTOCORP LTD\", \n",
    "\"532210\" : \"CITY UNION BANK LTD\", \n",
    "\"500180\" : \"HDFC Bank Ltd\"}"
   ]
  },
  {
   "cell_type": "code",
   "execution_count": 11,
   "metadata": {},
   "outputs": [],
   "source": [
    "security_id = list(companies.keys())\n",
    "company_name = list(companies.values())"
   ]
  },
  {
   "cell_type": "code",
   "execution_count": 12,
   "metadata": {},
   "outputs": [
    {
     "name": "stdout",
     "output_type": "stream",
     "text": [
      "['500112', '500325', '532540', '500209', '532174', '507685', '530965', '500182', '532210', '500180']\n",
      "['SBIN', 'RELIANCE INDUSTRIES LTD', 'TATA CONSULTANCY SERVICES LTD', 'INFOSYS LTD', 'ICICI BANK LTD', 'WIPRO LTD', 'INDIAN OIL CORPORATION LTD', 'HERO MOTOCORP LTD', 'CITY UNION BANK LTD', 'HDFC Bank Ltd']\n"
     ]
    }
   ],
   "source": [
    "print(security_id)\n",
    "print(company_name)"
   ]
  },
  {
   "cell_type": "code",
   "execution_count": 6,
   "metadata": {},
   "outputs": [
    {
     "name": "stdout",
     "output_type": "stream",
     "text": [
      "Equity file already exists\n"
     ]
    }
   ],
   "source": [
    "download_equity()"
   ]
  },
  {
   "cell_type": "code",
   "execution_count": 7,
   "metadata": {},
   "outputs": [
    {
     "name": "stderr",
     "output_type": "stream",
     "text": [
      "[WDM] - Current google-chrome version is 88.0.4324\n",
      "[WDM] - Get LATEST driver version for 88.0.4324\n",
      "[WDM] - Driver [C:\\Users\\venu\\.wdm\\drivers\\chromedriver\\win32\\88.0.4324.96\\chromedriver.exe] found in cache\n"
     ]
    },
    {
     "name": "stdout",
     "output_type": "stream",
     "text": [
      " \n"
     ]
    }
   ],
   "source": [
    "download_bhavcopy()"
   ]
  },
  {
   "cell_type": "code",
   "execution_count": 8,
   "metadata": {},
   "outputs": [
    {
     "name": "stderr",
     "output_type": "stream",
     "text": [
      "[WDM] - Current google-chrome version is 88.0.4324\n",
      "[WDM] - Get LATEST driver version for 88.0.4324\n",
      "[WDM] - Driver [C:\\Users\\venu\\.wdm\\drivers\\chromedriver\\win32\\88.0.4324.96\\chromedriver.exe] found in cache\n"
     ]
    },
    {
     "name": "stdout",
     "output_type": "stream",
     "text": [
      " \n"
     ]
    }
   ],
   "source": [
    "download_deliverables()"
   ]
  },
  {
   "cell_type": "code",
   "execution_count": 9,
   "metadata": {},
   "outputs": [],
   "source": [
    "bhav_df_today = pd.read_csv(os.path.join(datapath,\"BhavCopies/01032021.csv\"))\n",
    "deliverables_df_today = pd.read_csv(os.path.join(datapath,\"Deliverables/01032021.csv\"))\n",
    "df_stocks_today = convertBhavCopyToStock(bhav_df_today,deliverables_df_today)\n",
    "df_stocks_today.to_csv(os.path.join(datapath,\"BhavConvertedToStock/01032021.csv\"),index=None)"
   ]
  },
  {
   "cell_type": "code",
   "execution_count": 10,
   "metadata": {},
   "outputs": [
    {
     "name": "stderr",
     "output_type": "stream",
     "text": [
      "[WDM] - Current google-chrome version is 88.0.4324\n",
      "[WDM] - Get LATEST driver version for 88.0.4324\n",
      "[WDM] - Driver [C:\\Users\\venu\\.wdm\\drivers\\chromedriver\\win32\\88.0.4324.96\\chromedriver.exe] found in cache\n"
     ]
    },
    {
     "name": "stdout",
     "output_type": "stream",
     "text": [
      " \n"
     ]
    }
   ],
   "source": [
    "download_index()"
   ]
  },
  {
   "cell_type": "code",
   "execution_count": 11,
   "metadata": {},
   "outputs": [
    {
     "name": "stderr",
     "output_type": "stream",
     "text": [
      "[WDM] - Current google-chrome version is 88.0.4324\n",
      "[WDM] - Get LATEST driver version for 88.0.4324\n",
      "[WDM] - Driver [C:\\Users\\venu\\.wdm\\drivers\\chromedriver\\win32\\88.0.4324.96\\chromedriver.exe] found in cache\n"
     ]
    },
    {
     "name": "stdout",
     "output_type": "stream",
     "text": [
      " \n"
     ]
    },
    {
     "name": "stderr",
     "output_type": "stream",
     "text": [
      "C:\\Users\\venu\\Desktop\\Stock Market Analysis\\RiskFreeRate_Scrape.ipynb:46: SettingWithCopyWarning: \n",
      "A value is trying to be set on a copy of a slice from a DataFrame\n",
      "\n",
      "See the caveats in the documentation: https://pandas.pydata.org/pandas-docs/stable/user_guide/indexing.html#returning-a-view-versus-a-copy\n",
      "  \"        return driver\\n\",\n"
     ]
    }
   ],
   "source": [
    "download_risk_free_rate()"
   ]
  },
  {
   "cell_type": "code",
   "execution_count": 14,
   "metadata": {},
   "outputs": [
    {
     "name": "stderr",
     "output_type": "stream",
     "text": [
      "[WDM] - Current google-chrome version is 88.0.4324\n",
      "[WDM] - Get LATEST driver version for 88.0.4324\n",
      "[WDM] - Driver [C:\\Users\\venu\\.wdm\\drivers\\chromedriver\\win32\\88.0.4324.96\\chromedriver.exe] found in cache\n"
     ]
    },
    {
     "name": "stdout",
     "output_type": "stream",
     "text": [
      "500180\n",
      "1614702077.5471733\n",
      " \n"
     ]
    },
    {
     "name": "stderr",
     "output_type": "stream",
     "text": [
      "[WDM] - Current google-chrome version is 88.0.4324\n",
      "[WDM] - Get LATEST driver version for 88.0.4324\n",
      "[WDM] - Driver [C:\\Users\\venu\\.wdm\\drivers\\chromedriver\\win32\\88.0.4324.96\\chromedriver.exe] found in cache\n"
     ]
    },
    {
     "name": "stdout",
     "output_type": "stream",
     "text": [
      " \n",
      "--- 342.93392300605774 seconds ---\n",
      "500180 completed\n",
      "Wall time: 5min 42s\n"
     ]
    }
   ],
   "source": [
    "%%time\n",
    "for i in range(9, len(security_id)):\n",
    "    print(security_id[i])\n",
    "    start_time = time.time()\n",
    "    print(start_time)\n",
    "#     download_corporate_actions(security_id[i])\n",
    "    download_revenue_profit(security_id[i],company_name[i])\n",
    "    stock_df = download_stocks(security_id[i])\n",
    "    \n",
    "    modified_stock_path = os.path.join(os.getcwd(),\"Data\\Stock\\mod\" + security_id[i] + \".csv\")\n",
    "    modified_stock = pd.read_csv(modified_stock_path) if os.path.exists(modified_stock_path) else pd.DataFrame()\n",
    "    \n",
    "    index_df = pd.read_csv(os.path.join(datapath,\"Index.csv\"))\n",
    "    corporate_df = pd.read_csv(os.path.join(datapath,\"Corporate Actions\\\\\" + \"Corporate_Actions_\" + security_id[i] + \".csv\"))\n",
    "    revenue_df = pd.read_csv(os.path.join(datapath,\"Revenue/\" + security_id[i] + \".csv\"))\n",
    "    \n",
    "    stock_df = data_cleaning(stock_df,index_df)\n",
    "    stock_df = apply_corporate_actions(stock_df,corporate_df)\n",
    "    stock_df = add_risk_free_column(stock_df)\n",
    "    \n",
    "    create_index()\n",
    "    \n",
    "    stock_df = calculate_beta(stock_df)\n",
    "    stock_df = calculate_alpha(stock_df)\n",
    "    stock_df = create_dividend(corporate_df,stock_df)\n",
    "    stock_df = create_eps_pe_ratio_revenue_income_expenditure_net_profit(revenue_df,stock_df)\n",
    "    stock_df = create_lower_upper_bands(stock_df, modified_stock.tail(1))\n",
    "    stock_df = add_next_day_columns(stock_df)\n",
    "    \n",
    "    modified_stock = modified_stock.append(stock_df,ignore_index=True)\n",
    "    modified_stock = modified_stock.drop_duplicates(subset = [\"Date\"], keep = \"first\")\n",
    "    modified_stock.to_csv(modified_stock_path,index=None)\n",
    "    \n",
    "    modified_GRstock_path = os.path.join(os.getcwd(),\"Data\\Stock\\mod\" + security_id[i] +\"GR.csv\")\n",
    "#     modified_stockGR = pd.read_csv(modified_GRstock_path) if os.path.exists(modified_GRstock_path) else pd.DataFrame()\n",
    "    mstock_df = pd.read_csv(modified_stock_path)\n",
    "    \n",
    "    mstock_df['Alpha'] = pd.to_numeric(mstock_df['Alpha'], errors='coerce')\n",
    "    mstock_df['Beta'] = pd.to_numeric(mstock_df['Beta'], errors='coerce')\n",
    "    \n",
    "    stock = find_gain_loss(mstock_df)\n",
    "    stock = sequential_increase(stock)\n",
    "    stock = sequential_decrease(stock)\n",
    "    stock = sequential_increase_percentage(stock)\n",
    "    stock = sequential_decrease_percentage(stock)\n",
    "    stock = sequential_increase_decrease(stock)\n",
    "    \n",
    "    \n",
    "    cols = [\"Revenue\",\"Dividend\",\"Income\",\"Expenditure\",\"Net Profit\",\"EPS\"]\n",
    "    for col in cols:\n",
    "        try:\n",
    "            stock = quarter_wise_growthrate(stock, col)\n",
    "        except:\n",
    "            pass\n",
    "    \n",
    "    stock = close_price_as_percent_of_LV_HV_BA(stock)\n",
    "    \n",
    "    if (os.path.exists(modified_GRstock_path)):\n",
    "        os.remove(modified_GRstock_path)\n",
    "        stock.to_csv(os.path.join(datapath,\"Stock\\\\\"+\"mod\"+security_id[i]+\"GR.csv\"),index=None)\n",
    "    else:\n",
    "        stock.to_csv(os.path.join(datapath,\"Stock\\\\\"+\"mod\"+security_id[i]+\"GR.csv\"),index=None)\n",
    "    \n",
    "    print(\"--- %s seconds ---\" % (time.time() - start_time))\n",
    "    print(security_id[i], \"completed\")\n",
    "    "
   ]
  },
  {
   "cell_type": "code",
   "execution_count": null,
   "metadata": {},
   "outputs": [],
   "source": []
  }
 ],
 "metadata": {
  "kernelspec": {
   "display_name": "Python 3",
   "language": "python",
   "name": "python3"
  },
  "language_info": {
   "codemirror_mode": {
    "name": "ipython",
    "version": 3
   },
   "file_extension": ".py",
   "mimetype": "text/x-python",
   "name": "python",
   "nbconvert_exporter": "python",
   "pygments_lexer": "ipython3",
   "version": "3.8.3"
  }
 },
 "nbformat": 4,
 "nbformat_minor": 4
}
