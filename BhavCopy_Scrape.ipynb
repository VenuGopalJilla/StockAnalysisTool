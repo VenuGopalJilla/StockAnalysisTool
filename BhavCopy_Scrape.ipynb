{
 "cells": [
  {
   "cell_type": "code",
   "execution_count": 1,
   "metadata": {},
   "outputs": [],
   "source": [
    "import os\n",
    "from selenium import webdriver\n",
    "from selenium.webdriver.common.keys import Keys\n",
    "from selenium.webdriver.support.ui import Select\n",
    "from webdriver_manager.chrome import ChromeDriverManager\n",
    "import pandas as pd\n",
    "import time\n",
    "import datetime\n",
    "import calendar\n",
    "import zipfile\n",
    "from multiprocessing.pool import ThreadPool"
   ]
  },
  {
   "cell_type": "code",
   "execution_count": 2,
   "metadata": {},
   "outputs": [],
   "source": [
    "bhav_copy_url = \"https://www.bseindia.com/markets/MarketInfo/BhavCopy.aspx\""
   ]
  },
  {
   "cell_type": "code",
   "execution_count": 3,
   "metadata": {},
   "outputs": [],
   "source": [
    "path = os.path.join(os.getcwd(),\"Data\\BhavCopies\")\n",
    "# print(path)\n",
    "\n",
    "def download_bhavcopy():\n",
    "\n",
    "    # set date\n",
    "    def set_date(d,m,y):\n",
    "        year = driver.find_element_by_xpath('//*[@id=\"ContentPlaceHolder1_fyear1\"]') \n",
    "        year = Select(year)\n",
    "        year.select_by_visible_text(y) \n",
    "\n",
    "        month = driver.find_element_by_xpath('//*[@id=\"ContentPlaceHolder1_fmonth1\"]') \n",
    "        month = Select(month)\n",
    "        month.select_by_visible_text(m)  \n",
    "        \n",
    "        day = driver.find_element_by_xpath('//*[@id=\"ContentPlaceHolder1_fdate1\"]') \n",
    "        day = Select(day)\n",
    "        day.select_by_visible_text(d)  \n",
    "\n",
    "    def extract_save(name):\n",
    "        res = zipfile.ZipFile(os.path.join(path,name))\n",
    "        res.extractall(path)\n",
    "        name = name.split(\".\")[0]\n",
    "        today = datetime.date.today()-datetime.timedelta(days=1)\n",
    "        output_name = str(today.day).zfill(2) + str(today.month).zfill(2)+str(today.year).zfill(4)\n",
    "        os.rename(os.path.join(path,name[:-4]+\".csv\"),os.path.join(path,output_name+\".csv\"))\n",
    "\n",
    "    def download():\n",
    "        submit = driver.find_element_by_xpath('//*[@id=\"ContentPlaceHolder1_btnSubmit\"]')\n",
    "        submit.click()\n",
    "        time.sleep(1)\n",
    "        element = driver.find_element_by_xpath('//*[@id=\"ContentPlaceHolder1_btnHylSearBhav\"]')\n",
    "        element.click()\n",
    "        time.sleep(3)\n",
    "        url = element.get_attribute(\"href\")\n",
    "        driver.quit()\n",
    "        name = url.split(\"/\")[-1]\n",
    "        extract_save(name)\n",
    "        os.remove(os.path.join(path,name))\n",
    "\n",
    "    def create_driver():\n",
    "        chromeOptions = webdriver.ChromeOptions()\n",
    "        chromeOptions.add_argument(\"--headless\")\n",
    "        chromeOptions.add_experimental_option(\"prefs\",{\"download.default_directory\":path})\n",
    "        driver = webdriver.Chrome(ChromeDriverManager().install(), options = chromeOptions)\n",
    "        return driver\n",
    "\n",
    "    driver = create_driver()\n",
    "    driver.get(bhav_copy_url)\n",
    "    today = datetime.date.today()-datetime.timedelta(days=1)\n",
    "    set_date(str(today.day).zfill(2),calendar.month_abbr[today.month],str(today.year))\n",
    "    download()"
   ]
  },
  {
   "cell_type": "code",
   "execution_count": 4,
   "metadata": {},
   "outputs": [],
   "source": [
    "# download_bhavcopy()"
   ]
  },
  {
   "cell_type": "code",
   "execution_count": null,
   "metadata": {},
   "outputs": [],
   "source": []
  },
  {
   "cell_type": "code",
   "execution_count": null,
   "metadata": {},
   "outputs": [],
   "source": []
  }
 ],
 "metadata": {
  "kernelspec": {
   "display_name": "Python 3",
   "language": "python",
   "name": "python3"
  },
  "language_info": {
   "codemirror_mode": {
    "name": "ipython",
    "version": 3
   },
   "file_extension": ".py",
   "mimetype": "text/x-python",
   "name": "python",
   "nbconvert_exporter": "python",
   "pygments_lexer": "ipython3",
   "version": "3.8.3"
  }
 },
 "nbformat": 4,
 "nbformat_minor": 4
}
