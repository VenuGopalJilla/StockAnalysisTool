{
 "cells": [
  {
   "cell_type": "code",
   "execution_count": 1,
   "metadata": {},
   "outputs": [],
   "source": [
    "import numpy as np \n",
    "import pandas as pd \n",
    "import os\n",
    "import re"
   ]
  },
  {
   "cell_type": "code",
   "execution_count": 2,
   "metadata": {},
   "outputs": [],
   "source": [
    "path = os.path.join(os.getcwd(),\"Data\")\n",
    "revenuepath = os.path.join(path,\"Revenue\")\n",
    "stockspath = os.path.join(path,\"Stock\")\n",
    "# print(stockspath)\n",
    "# print(revenuepath)\n",
    "# print(path)\n",
    "def create_eps_pe_ratio_revenue_income_expenditure_net_profit(rev,stk):\n",
    "    stk[\"Date\"] = pd.to_datetime(stk[\"Date\"])\n",
    "    s = min(rev.year)\n",
    "    e = max(rev.year)\n",
    "    stk['Revenue'] = ''\n",
    "    stk['Income'] = ''\n",
    "    stk['Expenditure'] = ''\n",
    "    stk['Net Profit'] = ''\n",
    "    stk['EPS'] = ''\n",
    "    cols = ['Revenue','Income','Expenditure','Net Profit','EPS']\n",
    "    rep = ['net sales/revenue from operations','total income','expenditure','net profit','eps']\n",
    "\n",
    "    for index,row in stk.iterrows():\n",
    "        q = (row.Date.month-1)//3 + 1\n",
    "        samp = rev[(rev['year']==row.Date.year)&(rev['quartile']==q)]\n",
    "        if samp.shape[0] !=0:\n",
    "            stk.loc[index,cols] = samp.iloc[0][rep].values\n",
    "        else:\n",
    "            stk.loc[index,cols] = [np.nan]*5\n",
    "    stk['year'] = pd.DatetimeIndex(stk['Date']).year\n",
    "    # stk = stk[(stk.year >= s)&(stk.year <= e) & stk[\"Revenue\"] !=0 ]\n",
    "    # stk = stk.drop([\"year\"],axis=1)\n",
    "\n",
    "    bands = [2,4,8]\n",
    "\n",
    "    for band in bands:\n",
    "        stk['Revenue last '+str(band)+' quarters'] = ''\n",
    "        stk['Income last '+str(band)+' quarters'] = ''\n",
    "        stk['Expenditure  last '+str(band)+' quarters'] = ''\n",
    "        stk['Net Profit  last '+str(band)+' quarters'] = ''\n",
    "        stk['EPS last '+str(band)+' quarters'] = ''\n",
    "        bcols = ['Revenue last '+str(band)+' quarters','Income last '+str(band)+' quarters','Expenditure  last '+str(band)+' quarters','Net Profit  last '+str(band)+' quarters','EPS last '+str(band)+' quarters']\n",
    "\n",
    "        for index,row in stk.iterrows():\n",
    "            q = (row.Date.month-1)//3 + 1\n",
    "            samp = rev[(rev['year']==row.Date.year)&(rev['quartile']==q)]\n",
    "            if samp.shape[0] == 0:\n",
    "                r = 1\n",
    "            else:\n",
    "                r = samp.index.values[0]\n",
    "            if r+band+1 < rev.shape[0]:\n",
    "                v = range(r+1,r+band+1)\n",
    "                stk.loc[index,bcols] = rev.loc[v,rep].sum().values\n",
    "    stk[\"p/e\"] = stk[\"Close Price\"]/stk[\"EPS\"]\n",
    "    return stk"
   ]
  },
  {
   "cell_type": "code",
   "execution_count": null,
   "metadata": {},
   "outputs": [],
   "source": []
  }
 ],
 "metadata": {
  "kernelspec": {
   "display_name": "Python 3",
   "language": "python",
   "name": "python3"
  },
  "language_info": {
   "codemirror_mode": {
    "name": "ipython",
    "version": 3
   },
   "file_extension": ".py",
   "mimetype": "text/x-python",
   "name": "python",
   "nbconvert_exporter": "python",
   "pygments_lexer": "ipython3",
   "version": "3.8.3"
  }
 },
 "nbformat": 4,
 "nbformat_minor": 4
}
