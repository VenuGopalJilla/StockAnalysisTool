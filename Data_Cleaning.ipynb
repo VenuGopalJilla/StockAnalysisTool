{
 "cells": [
  {
   "cell_type": "code",
   "execution_count": 1,
   "metadata": {},
   "outputs": [],
   "source": [
    "import pandas as pd\n",
    "import numpy as np \n",
    "import os\n",
    "from dateutil.parser import parse"
   ]
  },
  {
   "cell_type": "code",
   "execution_count": 2,
   "metadata": {},
   "outputs": [
    {
     "name": "stdout",
     "output_type": "stream",
     "text": [
      "C:\\Users\\venu\\Desktop\\Stock Market Analysis\\Data\n",
      "C:\\Users\\venu\\Desktop\\Stock Market Analysis\n"
     ]
    }
   ],
   "source": [
    "path = os.getcwd()\n",
    "stockspath = os.path.join(path,\"Data\")\n",
    "print(stockspath)\n",
    "print(path)"
   ]
  },
  {
   "cell_type": "code",
   "execution_count": 3,
   "metadata": {},
   "outputs": [],
   "source": [
    "def clean_index(ind):\n",
    "    ind[\"Date\"] = pd.to_datetime(ind[\"Date\"])\n",
    "    ind = ind.drop_duplicates(subset=[\"Date\"],keep=\"first\")\n",
    "    return ind"
   ]
  },
  {
   "cell_type": "code",
   "execution_count": 4,
   "metadata": {},
   "outputs": [],
   "source": [
    "def data_cleaning(df,ind):\n",
    "    ind = clean_index(ind)\n",
    "    df[\"Date\"] = pd.to_datetime(df[\"Date\"])\n",
    "    df = df.drop_duplicates(subset=[\"Date\"],keep=\"first\")\n",
    "    df = add_missing_rows(df,ind)\n",
    "    df = fill_with_previous_values(df)\n",
    "    return df"
   ]
  },
  {
   "cell_type": "code",
   "execution_count": 5,
   "metadata": {},
   "outputs": [],
   "source": [
    "def add_missing_rows(df,ind):\n",
    "    s = df.Date.head(1).values[0]\n",
    "    e = df.Date.tail(1).values[0]\n",
    "    ind = ind[ind.Date.between(e,s)]\n",
    "    missing_df = pd.DataFrame(columns=df.columns)\n",
    "    indexes_dates = ind.Date.values\n",
    "    df.Date = pd.to_datetime(df.Date)\n",
    "    df_dates = df.Date.values\n",
    "    start = 0\n",
    "    for i,v in enumerate(indexes_dates):\n",
    "        if v not in df.Date.values:\n",
    "            res = list(np.append(ind.iloc[i].values,[np.nan]*8))\n",
    "            missing_df.loc[start] = res\n",
    "            start += 1\n",
    "    df = pd.concat([df,missing_df])\n",
    "    return df"
   ]
  },
  {
   "cell_type": "code",
   "execution_count": 6,
   "metadata": {},
   "outputs": [],
   "source": [
    "def fill_with_previous_values(df):\n",
    "    df.fillna(method=\"ffill\",inplace=True)\n",
    "    return df"
   ]
  },
  {
   "cell_type": "code",
   "execution_count": null,
   "metadata": {},
   "outputs": [],
   "source": []
  }
 ],
 "metadata": {
  "kernelspec": {
   "display_name": "Python 3",
   "language": "python",
   "name": "python3"
  },
  "language_info": {
   "codemirror_mode": {
    "name": "ipython",
    "version": 3
   },
   "file_extension": ".py",
   "mimetype": "text/x-python",
   "name": "python",
   "nbconvert_exporter": "python",
   "pygments_lexer": "ipython3",
   "version": "3.8.3"
  }
 },
 "nbformat": 4,
 "nbformat_minor": 4
}
