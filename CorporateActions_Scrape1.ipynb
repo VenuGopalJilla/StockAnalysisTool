{
 "cells": [
  {
   "cell_type": "code",
   "execution_count": 1,
   "metadata": {},
   "outputs": [],
   "source": [
    "import requests\n",
    "import urllib\n",
    "from bs4 import BeautifulSoup\n",
    "import re\n",
    "import io\n",
    "import gzip\n",
    "import time\n",
    "import csv\n",
    "from selenium import webdriver\n",
    "from selenium.webdriver.common.keys import Keys\n",
    "from webdriver_manager.chrome import ChromeDriverManager\n",
    "import pandas as pd\n",
    "import glob\n",
    "import os\n",
    "from os import path\n",
    "import datetime\n",
    "from dateutil.parser import parse\n",
    "from selenium.webdriver.support.ui import Select\n"
   ]
  },
  {
   "cell_type": "code",
   "execution_count": 2,
   "metadata": {},
   "outputs": [],
   "source": [
    "def get_date(d,m,y, driver):\n",
    "#     print(d, m, y)\n",
    "    yy = 2021\n",
    "    if (int(d) < 10):\n",
    "        if (len(str(d)) < 2):\n",
    "            d = \"0\" + str(d)\n",
    "#     print(d, m, y)\n",
    "    while (int(y) < yy):\n",
    "        yy -= 10\n",
    "        year = driver.find_element_by_xpath('/html/body/div[2]/div/div/select[2]')\n",
    "        segment = Select(year)\n",
    "        segment.select_by_visible_text(str(yy))\n",
    "    year = driver.find_element_by_xpath('/html/body/div[2]/div/div/select[2]')\n",
    "    segment = Select(year)\n",
    "    segment.select_by_visible_text(y)\n",
    "\n",
    "    month = driver.find_element_by_xpath('/html/body/div[2]/div/div/select[1]')\n",
    "    segment = Select(month)\n",
    "    segment.select_by_visible_text(m)\n",
    "#     time.sleep(5)\n",
    "    days = driver.find_element_by_xpath(\"//table/tbody/tr/td/a[text()=\"+str(d)+\"]\")\n",
    "    days.click()\n",
    "    \n",
    "        "
   ]
  },
  {
   "cell_type": "code",
   "execution_count": 3,
   "metadata": {},
   "outputs": [],
   "source": [
    "def traverse_stock(security, driver):\n",
    "    if (path.exists(\"C:\\\\Users\\\\venu\\\\Desktop\\\\Stock Market Analysis\\\\Data\\\\Corporate Actions\\\\Corporate_Actions_\" + security + \".csv\")):\n",
    "#         print(\"present\")\n",
    "        df = pd.read_csv(\"C:\\\\Users\\\\venu\\\\Desktop\\\\Stock Market Analysis\\\\Data\\\\Corporate Actions\\\\Corporate_Actions_\" + security + \".csv\")\n",
    "        fr_df = df.tail(1)['Ex Date']\n",
    "        fr_date = fr_df.iloc[0]\n",
    "        f = parse(fr_date)\n",
    "        fd = f.date()\n",
    "        if (fd == (datetime.datetime.today() - datetime.timedelta(days=1)).date()):\n",
    "            return None\n",
    "        else:\n",
    "#             print(\"not current date\")\n",
    "            months = {1 : \"Jan\", 2 : \"Feb\", 3 : \"Mar\", 4 : \"Apr\", 5 : \"May\", 6 : \"Jun\", \n",
    "                     7 : \"Jul\", 8 : \"Aug\", 9 : \"Sep\", 10 : \"Oct\", 11 : \"Nov\", 12 : \"Dec\"}\n",
    "            day = 1 if (fd.day + 1 == 32) else fd.day + 1\n",
    "            month = -1\n",
    "            if (fd.day + 1 == 32):\n",
    "                month = fd.month + 1\n",
    "                if (month == 13):\n",
    "                    month = 1\n",
    "            else:\n",
    "                month = fd.month\n",
    "            year = -1\n",
    "            if (fd.day + 1 == 32 and fd.month + 1 == 13):\n",
    "                year = fd.year + 1\n",
    "            else:\n",
    "                year = fd.year\n",
    "            element = driver.find_element_by_xpath('//*[@id=\"ContentPlaceHolder1_SmartSearch_smartSearch\"]')\n",
    "            element.clear()\n",
    "            element.send_keys(security)\n",
    "            element.send_keys(Keys.ENTER)\n",
    "            time.sleep(2)\n",
    "            from_date = driver.find_element_by_xpath('//*[@id=\"ContentPlaceHolder1_txtDate\"]')\n",
    "            from_date.clear()\n",
    "            from_date.click()\n",
    "            get_date(str(day),months[month],str(year), driver)\n",
    "            time.sleep(2)\n",
    "            to_date = driver.find_element_by_xpath('//*[@id=\"ContentPlaceHolder1_txtTodate\"]')\n",
    "            to_date.clear()\n",
    "            to_date.click()\n",
    "            cd = datetime.datetime.today()\n",
    "            get_date(str(cd.day),months[cd.month],str(cd.year), driver)\n",
    "            time.sleep(2)\n",
    "            submit = driver.find_element_by_xpath('//*[@id=\"ContentPlaceHolder1_btnSubmit\"]')\n",
    "            submit.click()\n",
    "            time.sleep(2)\n",
    "            store_stock(security, driver)\n",
    "            return None\n",
    "\n",
    "\n",
    "#     print(\"Intitial non presence\")\n",
    "    element = driver.find_element_by_xpath('//*[@id=\"ContentPlaceHolder1_SmartSearch_smartSearch\"]')\n",
    "    element.clear()\n",
    "    element.send_keys(security)\n",
    "    element.send_keys(Keys.ENTER)\n",
    "    time.sleep(2)\n",
    "\n",
    "#     print(\"Not present\")\n",
    "    months = {1 : \"Jan\", 2 : \"Feb\", 3 : \"Mar\", 4 : \"Apr\", 5 : \"May\", 6 : \"Jun\", \n",
    "             7 : \"Jul\", 8 : \"Aug\", 9 : \"Sep\", 10 : \"Oct\", 11 : \"Nov\", 12 : \"Dec\"}\n",
    "    from_date = driver.find_element_by_xpath('//*[@id=\"ContentPlaceHolder1_txtDate\"]')\n",
    "    from_date.clear()\n",
    "    from_date.click()\n",
    "    get_date(\"01\",\"Aug\",\"2007\", driver)\n",
    "    to_date = driver.find_element_by_xpath('//*[@id=\"ContentPlaceHolder1_txtTodate\"]')\n",
    "    to_date.clear()\n",
    "    to_date.click()\n",
    "    cd = datetime.datetime.today()\n",
    "    get_date(str(cd.day),months[cd.month],str(cd.year), driver)\n",
    "#     get_date(\"28\", \"Feb\", \"2021\", driver)\n",
    "#     print(\"submit click\")\n",
    "    submit = driver.find_element_by_xpath('//*[@id=\"ContentPlaceHolder1_btnSubmit\"]')\n",
    "    submit.click()\n",
    "    time.sleep(5)\n",
    "    store_stock(security, driver)"
   ]
  },
  {
   "cell_type": "code",
   "execution_count": 4,
   "metadata": {},
   "outputs": [],
   "source": [
    "def store_stock(security, driver):\n",
    "    try :\n",
    "#         print(\"downloading\")\n",
    "        download_stock = driver.find_element_by_xpath(\"/html/body/div[1]/form/div[4]/div/div/div[2]/div/div/div[2]/a/i\")\n",
    "        download_stock.click()\n",
    "        time.sleep(8)\n",
    "        remake_stock(security)\n",
    "    except Exception as e:\n",
    "#         print(e)\n",
    "        pass"
   ]
  },
  {
   "cell_type": "code",
   "execution_count": 5,
   "metadata": {},
   "outputs": [],
   "source": [
    "def remake_stock(security):\n",
    "    files_list = os.listdir(\"C:\\\\Users\\\\venu\\\\Desktop\\\\Stock Market Analysis\\\\Data\\\\Corporate Actions\\\\\")\n",
    "    if (\"Corporate_Actions_\" + security +  \".csv\") not in files_list:\n",
    "#         print(\"not present\")\n",
    "        path = \"C:\\\\Users\\\\venu\\\\Desktop\\\\Stock Market Analysis\\\\Data\\\\Corporate Actions\\\\Corporate_Actions\" + \".csv\"\n",
    "        stock = pd.read_csv(path)\n",
    "        stock.to_csv(\"C:\\\\Users\\\\venu\\\\Desktop\\\\Stock Market Analysis\\\\Data\\\\Corporate Actions\\\\Corporate_Actions_\" + security + \".csv\", index=False)\n",
    "        os.remove(path)\n",
    "    else:\n",
    "#         print(\"already present\")\n",
    "        path = \"C:\\\\Users\\\\venu\\\\Desktop\\\\Stock Market Analysis\\\\Corporate Actions\\\\Corporate_Actions.csv\"\n",
    "        merge_files = []\n",
    "        for file in files_list:\n",
    "            if file.startswith(\"Corporate_Actions\"):\n",
    "                merge_files.append(file)\n",
    "#         print(merge_files)\n",
    "        pth = \"C:\\\\Users\\\\venu\\\\Desktop\\\\Stock Market Analysis\\\\Data\\\\Corporate Actions\\\\\"\n",
    "        combined_csv = pd.concat([pd.read_csv(pth + merge_files[f]) for f in range(len(merge_files) - 1, -1, -1)])\n",
    "        combined_csv.to_csv( pth + \"Corporate_Actions_\" + security + \".csv\", index=False, encoding='utf-8-sig')\n",
    "        os.remove(path + \"Corporate_Actions.csv\")"
   ]
  },
  {
   "cell_type": "code",
   "execution_count": 6,
   "metadata": {},
   "outputs": [],
   "source": [
    "def download_corporate_actions(nums):\n",
    "    chromeOptions = webdriver.ChromeOptions()\n",
    "#     chromeOptions.add_argument(\"--headless\")\n",
    "    chromeOptions.add_experimental_option(\"prefs\", {\"download.default_directory\": \"C:\\\\Users\\\\venu\\\\Desktop\\\\Stock Market Analysis\\\\Data\\\\Corporate Actions\"})\n",
    "    driver = webdriver.Chrome(ChromeDriverManager().install(),chrome_options=chromeOptions)\n",
    "    url = \"https://www.bseindia.com/corporates/corporate_act.aspx\"\n",
    "    driver.get(url)\n",
    "    traverse_stock(str(nums), driver)\n",
    "    driver.quit()\n"
   ]
  },
  {
   "cell_type": "code",
   "execution_count": 7,
   "metadata": {},
   "outputs": [],
   "source": [
    "# download_corporate_actions(532210)"
   ]
  },
  {
   "cell_type": "code",
   "execution_count": 8,
   "metadata": {},
   "outputs": [],
   "source": [
    "df_equity = pd.read_csv(\"C:\\\\Users\\\\venu\\\\Desktop\\\\Stock Market Analysis\\\\Data\\\\Equity.csv\")\n",
    "security_numbers = df_equity[\"Security Code\"].tolist()"
   ]
  },
  {
   "cell_type": "code",
   "execution_count": 9,
   "metadata": {},
   "outputs": [],
   "source": [
    "# security_numbers[282 : 299]"
   ]
  },
  {
   "cell_type": "code",
   "execution_count": 10,
   "metadata": {},
   "outputs": [],
   "source": [
    "# %%time\n",
    "\n",
    "# for sec_num in security_numbers[282 : 299]:\n",
    "#     print(sec_num)\n",
    "#     download_corporate_actions(sec_num)"
   ]
  },
  {
   "cell_type": "code",
   "execution_count": 11,
   "metadata": {},
   "outputs": [],
   "source": [
    "sec_numb = [500285, 500298, 500317, 500319, 500356, 500358, 500388, 500400, 500402, 500405, 500414, 500456, 500458, 500890, 501110, 501144, 501242, 501261, 501421, 501477]"
   ]
  },
  {
   "cell_type": "code",
   "execution_count": 12,
   "metadata": {},
   "outputs": [
    {
     "name": "stderr",
     "output_type": "stream",
     "text": [
      "[WDM] - ====== WebDriver manager ======\n",
      "[WDM] - Current google-chrome version is 89.0.4389\n",
      "[WDM] - Get LATEST driver version for 89.0.4389\n"
     ]
    },
    {
     "name": "stdout",
     "output_type": "stream",
     "text": [
      "500402\n",
      "\n",
      "\n"
     ]
    },
    {
     "name": "stderr",
     "output_type": "stream",
     "text": [
      "[WDM] - Driver [C:\\Users\\venu\\.wdm\\drivers\\chromedriver\\win32\\89.0.4389.23\\chromedriver.exe] found in cache\n",
      "<ipython-input-6-bf128eaa9cfb>:5: DeprecationWarning: use options instead of chrome_options\n",
      "  driver = webdriver.Chrome(ChromeDriverManager().install(),chrome_options=chromeOptions)\n",
      "[WDM] - ====== WebDriver manager ======\n",
      "[WDM] - Current google-chrome version is 89.0.4389\n",
      "[WDM] - Get LATEST driver version for 89.0.4389\n"
     ]
    },
    {
     "name": "stdout",
     "output_type": "stream",
     "text": [
      "500405\n",
      "\n",
      "\n"
     ]
    },
    {
     "name": "stderr",
     "output_type": "stream",
     "text": [
      "[WDM] - Driver [C:\\Users\\venu\\.wdm\\drivers\\chromedriver\\win32\\89.0.4389.23\\chromedriver.exe] found in cache\n",
      "[WDM] - ====== WebDriver manager ======\n",
      "[WDM] - Current google-chrome version is 89.0.4389\n",
      "[WDM] - Get LATEST driver version for 89.0.4389\n"
     ]
    },
    {
     "name": "stdout",
     "output_type": "stream",
     "text": [
      "500414\n",
      "\n",
      "\n"
     ]
    },
    {
     "name": "stderr",
     "output_type": "stream",
     "text": [
      "[WDM] - Driver [C:\\Users\\venu\\.wdm\\drivers\\chromedriver\\win32\\89.0.4389.23\\chromedriver.exe] found in cache\n",
      "[WDM] - ====== WebDriver manager ======\n",
      "[WDM] - Current google-chrome version is 89.0.4389\n",
      "[WDM] - Get LATEST driver version for 89.0.4389\n"
     ]
    },
    {
     "name": "stdout",
     "output_type": "stream",
     "text": [
      "500456\n",
      "\n",
      "\n"
     ]
    },
    {
     "name": "stderr",
     "output_type": "stream",
     "text": [
      "[WDM] - Driver [C:\\Users\\venu\\.wdm\\drivers\\chromedriver\\win32\\89.0.4389.23\\chromedriver.exe] found in cache\n",
      "[WDM] - ====== WebDriver manager ======\n",
      "[WDM] - Current google-chrome version is 89.0.4389\n",
      "[WDM] - Get LATEST driver version for 89.0.4389\n"
     ]
    },
    {
     "name": "stdout",
     "output_type": "stream",
     "text": [
      "500458\n",
      "\n",
      "\n"
     ]
    },
    {
     "name": "stderr",
     "output_type": "stream",
     "text": [
      "[WDM] - Driver [C:\\Users\\venu\\.wdm\\drivers\\chromedriver\\win32\\89.0.4389.23\\chromedriver.exe] found in cache\n",
      "[WDM] - ====== WebDriver manager ======\n",
      "[WDM] - Current google-chrome version is 89.0.4389\n",
      "[WDM] - Get LATEST driver version for 89.0.4389\n"
     ]
    },
    {
     "name": "stdout",
     "output_type": "stream",
     "text": [
      "500890\n",
      "\n",
      "\n"
     ]
    },
    {
     "name": "stderr",
     "output_type": "stream",
     "text": [
      "[WDM] - Driver [C:\\Users\\venu\\.wdm\\drivers\\chromedriver\\win32\\89.0.4389.23\\chromedriver.exe] found in cache\n",
      "[WDM] - ====== WebDriver manager ======\n",
      "[WDM] - Current google-chrome version is 89.0.4389\n",
      "[WDM] - Get LATEST driver version for 89.0.4389\n"
     ]
    },
    {
     "name": "stdout",
     "output_type": "stream",
     "text": [
      "501110\n",
      "\n",
      "\n"
     ]
    },
    {
     "name": "stderr",
     "output_type": "stream",
     "text": [
      "[WDM] - Driver [C:\\Users\\venu\\.wdm\\drivers\\chromedriver\\win32\\89.0.4389.23\\chromedriver.exe] found in cache\n",
      "[WDM] - ====== WebDriver manager ======\n",
      "[WDM] - Current google-chrome version is 89.0.4389\n",
      "[WDM] - Get LATEST driver version for 89.0.4389\n"
     ]
    },
    {
     "name": "stdout",
     "output_type": "stream",
     "text": [
      "501144\n",
      "\n",
      "\n"
     ]
    },
    {
     "name": "stderr",
     "output_type": "stream",
     "text": [
      "[WDM] - Driver [C:\\Users\\venu\\.wdm\\drivers\\chromedriver\\win32\\89.0.4389.23\\chromedriver.exe] found in cache\n",
      "[WDM] - ====== WebDriver manager ======\n",
      "[WDM] - Current google-chrome version is 89.0.4389\n",
      "[WDM] - Get LATEST driver version for 89.0.4389\n"
     ]
    },
    {
     "name": "stdout",
     "output_type": "stream",
     "text": [
      "501242\n",
      "\n",
      "\n"
     ]
    },
    {
     "name": "stderr",
     "output_type": "stream",
     "text": [
      "[WDM] - Driver [C:\\Users\\venu\\.wdm\\drivers\\chromedriver\\win32\\89.0.4389.23\\chromedriver.exe] found in cache\n",
      "[WDM] - ====== WebDriver manager ======\n",
      "[WDM] - Current google-chrome version is 89.0.4389\n",
      "[WDM] - Get LATEST driver version for 89.0.4389\n"
     ]
    },
    {
     "name": "stdout",
     "output_type": "stream",
     "text": [
      "501261\n",
      "\n",
      "\n"
     ]
    },
    {
     "name": "stderr",
     "output_type": "stream",
     "text": [
      "[WDM] - Driver [C:\\Users\\venu\\.wdm\\drivers\\chromedriver\\win32\\89.0.4389.23\\chromedriver.exe] found in cache\n",
      "[WDM] - ====== WebDriver manager ======\n",
      "[WDM] - Current google-chrome version is 89.0.4389\n",
      "[WDM] - Get LATEST driver version for 89.0.4389\n"
     ]
    },
    {
     "name": "stdout",
     "output_type": "stream",
     "text": [
      "501421\n",
      "\n",
      "\n"
     ]
    },
    {
     "name": "stderr",
     "output_type": "stream",
     "text": [
      "[WDM] - Driver [C:\\Users\\venu\\.wdm\\drivers\\chromedriver\\win32\\89.0.4389.23\\chromedriver.exe] found in cache\n",
      "[WDM] - ====== WebDriver manager ======\n",
      "[WDM] - Current google-chrome version is 89.0.4389\n",
      "[WDM] - Get LATEST driver version for 89.0.4389\n"
     ]
    },
    {
     "name": "stdout",
     "output_type": "stream",
     "text": [
      "501477\n",
      "\n",
      "\n"
     ]
    },
    {
     "name": "stderr",
     "output_type": "stream",
     "text": [
      "[WDM] - Driver [C:\\Users\\venu\\.wdm\\drivers\\chromedriver\\win32\\89.0.4389.23\\chromedriver.exe] found in cache\n"
     ]
    },
    {
     "name": "stdout",
     "output_type": "stream",
     "text": [
      "Wall time: 7min 3s\n"
     ]
    }
   ],
   "source": [
    "%%time\n",
    "\n",
    "for sec_num in sec_numb[8 : ]:\n",
    "    print(sec_num)\n",
    "    download_corporate_actions(sec_num)"
   ]
  },
  {
   "cell_type": "code",
   "execution_count": null,
   "metadata": {},
   "outputs": [],
   "source": []
  }
 ],
 "metadata": {
  "kernelspec": {
   "display_name": "Python 3",
   "language": "python",
   "name": "python3"
  },
  "language_info": {
   "codemirror_mode": {
    "name": "ipython",
    "version": 3
   },
   "file_extension": ".py",
   "mimetype": "text/x-python",
   "name": "python",
   "nbconvert_exporter": "python",
   "pygments_lexer": "ipython3",
   "version": "3.8.8"
  }
 },
 "nbformat": 4,
 "nbformat_minor": 4
}
