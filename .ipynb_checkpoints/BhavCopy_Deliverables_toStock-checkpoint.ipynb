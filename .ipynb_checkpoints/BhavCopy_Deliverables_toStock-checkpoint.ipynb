{
 "cells": [
  {
   "cell_type": "code",
   "execution_count": 24,
   "metadata": {},
   "outputs": [],
   "source": [
    "import os  \n",
    "from selenium import webdriver  \n",
    "from selenium.webdriver.common.keys import Keys  \n",
    "from selenium.webdriver.chrome.options import Options  \n",
    "import unittest\n",
    "import multiprocessing as mp\n",
    "from multiprocessing import Pool\n",
    "import pandas as pd\n",
    "from webdriver_manager.chrome import ChromeDriverManager\n",
    "from selenium.webdriver.common.by import By\n",
    "from selenium.webdriver.support.ui import WebDriverWait\n",
    "from selenium.webdriver.support import expected_conditions as EC\n",
    "from selenium.webdriver.support.ui import Select\n",
    "from selenium.common.exceptions import StaleElementReferenceException\n",
    "from selenium.common.exceptions import NoSuchElementException,TimeoutException,WebDriverException\n",
    "\n",
    "import time, csv\n",
    "import datetime\n",
    "\n",
    "import zipfile\n",
    "import glob\n",
    "\n",
    "from zipfile import ZipFile"
   ]
  },
  {
   "cell_type": "code",
   "execution_count": 25,
   "metadata": {},
   "outputs": [],
   "source": [
    "BSEBCURL='https://www.bseindia.com/markets/MarketInfo/BhavCopy.aspx'\n",
    "BSEDELI = 'https://www.bseindia.com/markets/equity/EQReports/GrossShortPos.aspx?flag=0'"
   ]
  },
  {
   "cell_type": "code",
   "execution_count": 26,
   "metadata": {},
   "outputs": [],
   "source": [
    "def setWebDriver(Dest_Data_Folder,url):\n",
    "    chrome_options = Options()\n",
    "    prefs = {\"download.default_directory\": Dest_Data_Folder, \"download.prompt_for_download\": False,}\n",
    "    chrome_options.add_experimental_option(\"prefs\",prefs)\n",
    "    driver = webdriver.Chrome(ChromeDriverManager().install(), options=chrome_options)\n",
    "    driver.command_executor._commands[\"send_command\"] = (\"POST\", '/session/$sessionId/chromium/send_command')\n",
    "    # Changing the chrome downloads from default directory to Destination directory\n",
    "    params = {'cmd': 'Page.setDownloadBehavior', 'params': {'behavior': 'allow', 'downloadPath':Dest_Data_Folder}}\n",
    "    driver.execute(\"send_command\", params)\n",
    "    driver.delete_all_cookies()\n",
    "    driver.get(url) \n",
    "    return driver"
   ]
  },
  {
   "cell_type": "code",
   "execution_count": 27,
   "metadata": {},
   "outputs": [],
   "source": [
    "def downloadBhavCopy():\n",
    "    # names in the given directory \n",
    "    listOfFile = os.listdir('C:\\\\Users\\\\venu\\\\Desktop\\\\Stock Market Analysis\\\\BhavCopies')\n",
    "    allFiles = list()\n",
    "    # Iterate over all the entries\n",
    "    for entry in listOfFile:\n",
    "        # Create full path\n",
    "        fullPath = os.path.join('C:\\\\Users\\\\venu\\\\Desktop\\\\Stock Market Analysis\\\\BhavCopies', entry)\n",
    "        # If entry is a directory then get the list of files in this directory \n",
    "        if os.path.isfile(fullPath):\n",
    "            os.remove(fullPath)\n",
    "    \n",
    "    #Initializing driver\n",
    "    driver=setWebDriver('C:\\\\Users\\\\venu\\\\Desktop\\\\Stock Market Analysis\\\\BhavCopies', BSEBCURL)\n",
    "    x = datetime.datetime.now()\n",
    "\n",
    "    month = x.strftime(\"%b\")\n",
    "    year = x.strftime(\"%Y\")\n",
    "    date = x.strftime(\"%d\")\n",
    "    date = int(date) - 1\n",
    "#     print(date)\n",
    "\n",
    "    select = Select(driver.find_element_by_id('ContentPlaceHolder1_fdate1'))\n",
    "    select.select_by_visible_text(str(date))\n",
    "    time.sleep(2)\n",
    "\n",
    "    select = Select(driver.find_element_by_id('ContentPlaceHolder1_fmonth1'))\n",
    "    select.select_by_visible_text(month)\n",
    "    time.sleep(2)\n",
    "\n",
    "    select = Select(driver.find_element_by_id('ContentPlaceHolder1_fyear1'))\n",
    "    select.select_by_visible_text(year)\n",
    "    time.sleep(2)\n",
    "\n",
    "    driver.find_element_by_id('ContentPlaceHolder1_btnSubmit').click()\n",
    "    time.sleep(3)\n",
    "\n",
    "    driver.find_element_by_id('ContentPlaceHolder1_btnHylSearBhav').click()\n",
    "    time.sleep(3)\n",
    "    \n",
    "    \n",
    "    \n",
    "    listOfFile = os.listdir('C:\\\\Users\\\\venu\\\\Desktop\\\\Stock Market Analysis\\\\BhavCopies')\n",
    "    allFiles = list()\n",
    "    # Iterate over all the entries\n",
    "    global fileName\n",
    "    for entry in listOfFile:\n",
    "#         if '.ZIP' not in entry:\n",
    "            fileName = entry\n",
    "            print(fileName)\n",
    "    \n",
    "    \n",
    "    zf = ZipFile('C:\\\\Users\\\\venu\\\\Desktop\\\\Stock Market Analysis\\\\BhavCopies\\\\' + fileName, 'r')\n",
    "    zf.extractall('C:\\\\Users\\\\venu\\\\Desktop\\\\Stock Market Analysis\\\\BhavCopies')\n",
    "    zf.close()\n",
    "    \n",
    "    time.sleep(10)\n",
    "    driver.close()"
   ]
  },
  {
   "cell_type": "code",
   "execution_count": 28,
   "metadata": {},
   "outputs": [
    {
     "name": "stderr",
     "output_type": "stream",
     "text": [
      "[WDM] - Current google-chrome version is 88.0.4324\n",
      "[WDM] - Get LATEST driver version for 88.0.4324\n",
      "[WDM] - Driver [C:\\Users\\venu\\.wdm\\drivers\\chromedriver\\win32\\88.0.4324.96\\chromedriver.exe] found in cache\n"
     ]
    },
    {
     "name": "stdout",
     "output_type": "stream",
     "text": [
      " \n",
      "EQ110221_CSV.ZIP\n"
     ]
    }
   ],
   "source": [
    "downloadBhavCopy()"
   ]
  },
  {
   "cell_type": "code",
   "execution_count": 29,
   "metadata": {},
   "outputs": [],
   "source": [
    "def downloadDeliverables():\n",
    "    # names in the given directory \n",
    "    listOfFile = os.listdir('C:\\\\Users\\\\venu\\\\Desktop\\\\Stock Market Analysis\\\\Deliverables')\n",
    "    allFiles = list()\n",
    "    # Iterate over all the entries\n",
    "    for entry in listOfFile:\n",
    "        # Create full path\n",
    "        fullPath = os.path.join('C:\\\\Users\\\\venu\\\\Desktop\\\\Stock Market Analysis\\\\Deliverables', entry)\n",
    "        # If entry is a directory then get the list of files in this directory \n",
    "        if os.path.isfile(fullPath):\n",
    "            os.remove(fullPath)\n",
    "    \n",
    "    #Initializing driver\n",
    "    driver=setWebDriver('C:\\\\Users\\\\venu\\\\Desktop\\\\Stock Market Analysis\\\\Deliverables', BSEDELI)\n",
    "    driver.find_element_by_id('ContentPlaceHolder1_hylinksearch').click()\n",
    "    time.sleep(3)\n",
    "    \n",
    "    \n",
    "    listOfFile = os.listdir('C:\\\\Users\\\\venu\\\\Desktop\\\\Stock Market Analysis\\\\Deliverables')\n",
    "    allFiles = list()\n",
    "    # Iterate over all the entries\n",
    "    global deliName\n",
    "    global n\n",
    "    for entry in listOfFile:\n",
    "#         if '.ZIP' not in entry:\n",
    "            deliName = entry\n",
    "            print(deliName)\n",
    "    \n",
    "    from zipfile import ZipFile\n",
    "    zf = ZipFile('C:\\\\Users\\\\venu\\\\Desktop\\\\Stock Market Analysis\\\\Deliverables\\\\' + deliName, 'r')\n",
    "    zf.extractall('C:\\\\Users\\\\venu\\\\Desktop\\\\Stock Market Analysis\\\\Deliverables')\n",
    "    zf.close()\n",
    "    \n",
    "    time.sleep(10)\n",
    "    driver.close()\n",
    "# df = pd.read_csv(\"D:\\MSIT\\Second Year\\Data Science\\Project Trial\\SCBSEALL1202.TXT\",delimiter='|')\n",
    "# df.to_csv('D:\\MSIT\\Second Year\\Data Science\\Project Trial\\SCBSEALL1202.CSV', index = False)\n",
    "    n = deliName.replace(\".zip\",\"\")\n",
    "    df = pd.read_csv(\"C:\\\\Users\\\\venu\\\\Desktop\\\\Stock Market Analysis\\\\Deliverables\\\\\" + n + \".TXT\", delimiter='|')\n",
    "    df.to_csv('C:\\\\Users\\\\venu\\\\Desktop\\\\Stock Market Analysis\\\\Deliverables\\\\' + n + \".CSV\", index = False)"
   ]
  },
  {
   "cell_type": "code",
   "execution_count": 30,
   "metadata": {},
   "outputs": [
    {
     "name": "stderr",
     "output_type": "stream",
     "text": [
      "[WDM] - Current google-chrome version is 88.0.4324\n",
      "[WDM] - Get LATEST driver version for 88.0.4324\n"
     ]
    },
    {
     "name": "stdout",
     "output_type": "stream",
     "text": [
      " \n"
     ]
    },
    {
     "name": "stderr",
     "output_type": "stream",
     "text": [
      "[WDM] - Driver [C:\\Users\\venu\\.wdm\\drivers\\chromedriver\\win32\\88.0.4324.96\\chromedriver.exe] found in cache\n"
     ]
    },
    {
     "name": "stdout",
     "output_type": "stream",
     "text": [
      "SCBSEALL1102.zip\n"
     ]
    }
   ],
   "source": [
    "downloadDeliverables()"
   ]
  },
  {
   "cell_type": "code",
   "execution_count": null,
   "metadata": {},
   "outputs": [],
   "source": [
    "def convertBhavToStock(df):\n",
    "    name = fileName.replace(\"_CSV.ZIP\", \".CSV\")\n",
    "#     print(name)\n",
    "    bhav = pd.read_csv(\"C:\\\\Users\\\\venu\\\\Desktop\\\\Stock Market Analysis\\\\BhavCopies\\\\\" + name)\n",
    "    deliverableData = pd.read_csv('C:\\\\Users\\\\venu\\\\Desktop\\\\Stock Market Analysis\\\\Deliverables\\\\' + n + \".CSV\")\n",
    "    deliverableData = deliverableData.drop(columns=[\"DATE\", \"DELIVERY VAL\", \"DAY'S VOLUME\", \"DAY'S TURNOVER\"])\n",
    "    \n",
    "    deliverableData.rename(columns={\"SCRIP CODE\": \"SC_CODE\", \"DELIVERY QTY\":\"Deliverable Quantity\", \"DELV. PER.\":\"% Deli. Qty to Traded Qty\"}, inplace = True)\n",
    "    print(deliverableData)\n",
    "    df[\"SC_CODE\"] = bhav[\"SC_CODE\"]\n",
    "    df[\"SC_NAME\"] = bhav[\"SC_NAME\"]\n",
    "    df[\"Open Price\"] = bhav[\"OPEN\"]\n",
    "    df[\"High Price\"] = bhav[\"HIGH\"]\n",
    "    df[\"Low Price\"] = bhav[\"LOW\"]\n",
    "    df[\"Close Price\"] = bhav[\"CLOSE\"]\n",
    "    df[\"WAP\"] = bhav[\"NET_TURNOV\"] / bhav[\"NO_OF_SHRS\"]\n",
    "    df[\"No.of Shares\"] = bhav[\"NO_OF_SHRS\"]\n",
    "    df[\"No. of Trades\"] = bhav[\"NO_TRADES\"]\n",
    "    df[\"Total Turnover (Rs.)\"] = bhav[\"NET_TURNOV\"]\n",
    "    df[\"Spread High-Low\"] = bhav[\"HIGH\"] - bhav[\"LOW\"]\n",
    "    df[\"Spread Close-Open\"] = bhav[\"CLOSE\"] - bhav[\"OPEN\"]\n",
    "    df = pd.merge(df, deliverableData, on='SC_CODE', how='left')\n",
    "    return df"
   ]
  },
  {
   "cell_type": "code",
   "execution_count": null,
   "metadata": {},
   "outputs": [],
   "source": [
    "df = pd.DataFrame()\n",
    "df = convertBhavToStock(df)\n",
    "df"
   ]
  }
 ],
 "metadata": {
  "kernelspec": {
   "display_name": "Python 3",
   "language": "python",
   "name": "python3"
  },
  "language_info": {
   "codemirror_mode": {
    "name": "ipython",
    "version": 3
   },
   "file_extension": ".py",
   "mimetype": "text/x-python",
   "name": "python",
   "nbconvert_exporter": "python",
   "pygments_lexer": "ipython3",
   "version": "3.8.3"
  }
 },
 "nbformat": 4,
 "nbformat_minor": 4
}
