{
 "cells": [
  {
   "cell_type": "code",
   "execution_count": 77,
   "id": "round-sharing",
   "metadata": {},
   "outputs": [],
   "source": [
    "import pandas as pd\n",
    "import os\n",
    "from datetime import datetime, timedelta\n",
    "import numpy as np\n",
    "import math"
   ]
  },
  {
   "cell_type": "code",
   "execution_count": 78,
   "id": "industrial-suicide",
   "metadata": {},
   "outputs": [],
   "source": [
    "def calculate_profit(data, start_date, days_to_search, investment, final_df):\n",
    "    inv = investment\n",
    "    shares = 0\n",
    "    i = days_to_search - 1\n",
    "    inv_status = False\n",
    "    ext_status = False\n",
    "    d = 0\n",
    "    while (i >= 0 and d <= days_to_search):\n",
    "#         print(data.loc[i, \"Date\"])\n",
    "        if (not inv_status):\n",
    "            if (data.loc[i, \"Investment Status\"] == \"INVEST\"):\n",
    "                shares = inv // data.loc[i, \"Close Price\"]\n",
    "                inv = 0\n",
    "                inv_status = True\n",
    "                ext_status = False\n",
    "                row = {}\n",
    "                row[\"Date\"] = data.loc[i, \"Date\"]\n",
    "                row[\"Close Price\"] = data.loc[i, \"Close Price\"]\n",
    "                row[\"Invest/Exit\"] = data.loc[i, \"Investment Status\"]\n",
    "#                 row[\"Exit Status\"] = data.loc[i, \"Exit Status\"]\n",
    "                row[\"Investment\"] = inv\n",
    "                row[\"Shares\"] = shares\n",
    "                final_df = final_df.append(row, ignore_index=True)\n",
    "        else:\n",
    "            if (data.loc[i, \"Exit Status\"] == \"EXIT\"):\n",
    "                inv = shares * data.loc[i, \"Close Price\"]\n",
    "                shares = 0\n",
    "                ext_status = True\n",
    "                inv_status = False\n",
    "                row = {}\n",
    "                row[\"Date\"] = data.loc[i, \"Date\"]\n",
    "                row[\"Close Price\"] = data.loc[i, \"Close Price\"]\n",
    "#                 row[\"Investment Status\"] = data.loc[i, \"Investment Status\"]\n",
    "                row[\"Invest/Exit\"] = data.loc[i, \"Exit Status\"]\n",
    "                row[\"Investment\"] = inv\n",
    "                row[\"Shares\"] = shares\n",
    "                final_df = final_df.append(row, ignore_index=True)\n",
    "        i -= 1\n",
    "        d += 1\n",
    "        \n",
    "    \n",
    "    if (inv_status and (not ext_status)):\n",
    "        inv = shares * data.loc[0, \"Close Price\"]\n",
    "        shares = 0\n",
    "        row = {}\n",
    "        row[\"Date\"] = data.loc[0, \"Date\"]\n",
    "        row[\"Close Price\"] = data.loc[0, \"Close Price\"]\n",
    "        row[\"Invest/Exit\"] = \"-\"\n",
    "        row[\"Investment\"] = inv\n",
    "        row[\"Shares\"] = shares\n",
    "        final_df = final_df.append(row, ignore_index=True)\n",
    "    \n",
    "    return inv, shares, final_df\n",
    "        \n",
    "            "
   ]
  },
  {
   "cell_type": "code",
   "execution_count": 79,
   "id": "static-danger",
   "metadata": {},
   "outputs": [
    {
     "data": {
      "text/html": [
       "<div>\n",
       "<style scoped>\n",
       "    .dataframe tbody tr th:only-of-type {\n",
       "        vertical-align: middle;\n",
       "    }\n",
       "\n",
       "    .dataframe tbody tr th {\n",
       "        vertical-align: top;\n",
       "    }\n",
       "\n",
       "    .dataframe thead th {\n",
       "        text-align: right;\n",
       "    }\n",
       "</style>\n",
       "<table border=\"1\" class=\"dataframe\">\n",
       "  <thead>\n",
       "    <tr style=\"text-align: right;\">\n",
       "      <th></th>\n",
       "      <th>Date</th>\n",
       "      <th>Close Price</th>\n",
       "      <th>Invest/Exit</th>\n",
       "      <th>Investment</th>\n",
       "      <th>Shares</th>\n",
       "    </tr>\n",
       "  </thead>\n",
       "  <tbody>\n",
       "  </tbody>\n",
       "</table>\n",
       "</div>"
      ],
      "text/plain": [
       "Empty DataFrame\n",
       "Columns: [Date, Close Price, Invest/Exit, Investment, Shares]\n",
       "Index: []"
      ]
     },
     "execution_count": 79,
     "metadata": {},
     "output_type": "execute_result"
    }
   ],
   "source": [
    "columns = [\"Date\", \"Close Price\", \"Invest/Exit\", \"Investment\", \"Shares\"]\n",
    "fd_df = pd.DataFrame(columns = columns)\n",
    "fd_df"
   ]
  },
  {
   "cell_type": "code",
   "execution_count": 80,
   "id": "informational-dollar",
   "metadata": {},
   "outputs": [
    {
     "name": "stdout",
     "output_type": "stream",
     "text": [
      "1465643.9000000001 0\n",
      "          Date  Close Price Invest/Exit  Investment  Shares\n",
      "0   2017-03-22       267.65      INVEST           0   373.0\n",
      "1   2017-05-16       307.00        EXIT    114511.0     0.0\n",
      "2   2017-06-29       272.55      INVEST           0   420.0\n",
      "3   2017-07-31       312.55        EXIT    131271.0     0.0\n",
      "4   2017-09-27       250.45      INVEST           0   524.0\n",
      "5   2017-11-16       333.45        EXIT    174727.8     0.0\n",
      "6   2018-04-26       233.35      INVEST           0   748.0\n",
      "7   2018-06-13       287.65        EXIT    215162.2     0.0\n",
      "8   2018-07-16       251.75      INVEST           0   854.0\n",
      "9   2018-08-09       316.45        EXIT    270248.3     0.0\n",
      "10  2018-10-25       249.65      INVEST           0  1082.0\n",
      "11  2018-11-05       295.30        EXIT    319514.6     0.0\n",
      "12  2018-12-10       273.40      INVEST           0  1168.0\n",
      "13  2018-12-19       300.40        EXIT    350867.2     0.0\n",
      "14  2019-02-19       262.50      INVEST           0  1336.0\n",
      "15  2019-07-05       370.60        EXIT    495121.6     0.0\n",
      "16  2019-10-04       249.90      INVEST           0  1981.0\n",
      "17  2019-11-29       341.85        EXIT   677204.85     0.0\n",
      "18  2020-05-22       150.85      INVEST           0  4489.0\n",
      "19  2020-08-28       224.85        EXIT  1009351.65     0.0\n",
      "20  2020-10-07       190.65      INVEST           0  5294.0\n",
      "21  2020-12-30       276.85           -   1465643.9     0.0\n"
     ]
    }
   ],
   "source": [
    "df1 = pd.read_csv(\"C:\\\\Users\\\\venu\\\\Desktop\\\\Stock Market Analysis\\\\Data\\\\NextUBLB_Results\\\\500112_IE.csv\")\n",
    "# print(df1.shape)\n",
    "st_date = df1.loc[df1.shape[0] - 1, \"Date\"]\n",
    "days = df1.shape[0]\n",
    "inst = 100000\n",
    "investment, shares, final_df = calculate_profit(df1, st_date, days, inst, fd_df)\n",
    "print(investment, shares)\n",
    "print(final_df)\n",
    "# final_df.to_csv(\"C:\\\\Users\\\\venu\\\\Desktop\\\\Stock Market Analysis\\\\Data\\\\NextUBLB_Results\\\\\" + name + \"_Results.csv\", index = False)"
   ]
  },
  {
   "cell_type": "code",
   "execution_count": 81,
   "id": "accessible-marijuana",
   "metadata": {},
   "outputs": [
    {
     "data": {
      "text/plain": [
       "'C:\\\\Users\\\\venu\\\\Desktop\\\\Stock Market Analysis'"
      ]
     },
     "execution_count": 81,
     "metadata": {},
     "output_type": "execute_result"
    }
   ],
   "source": [
    "path = os.getcwd()\n",
    "path"
   ]
  },
  {
   "cell_type": "code",
   "execution_count": 82,
   "id": "binary-asbestos",
   "metadata": {},
   "outputs": [
    {
     "name": "stdout",
     "output_type": "stream",
     "text": [
      "-------------------------------------------------------\n",
      "500002_IE.csv\n",
      "500002_IE\n",
      "848174.9500000001 0\n",
      "-------------------------------------------------------\n",
      "-------------------------------------------------------\n",
      "500003_IE.csv\n",
      "500003_IE\n",
      "1225170.9 0\n",
      "-------------------------------------------------------\n",
      "-------------------------------------------------------\n",
      "500008_IE.csv\n",
      "500008_IE\n",
      "842085.0 0\n",
      "-------------------------------------------------------\n",
      "-------------------------------------------------------\n",
      "500009_IE.csv\n",
      "500009_IE\n",
      "240825.76 0\n",
      "-------------------------------------------------------\n",
      "-------------------------------------------------------\n",
      "500010_IE.csv\n",
      "500010_IE\n",
      "350477.7 0\n",
      "-------------------------------------------------------\n",
      "-------------------------------------------------------\n",
      "500012_IE.csv\n",
      "500012_IE\n",
      "877496.0 0\n",
      "-------------------------------------------------------\n",
      "-------------------------------------------------------\n",
      "500013_IE.csv\n",
      "500013_IE\n",
      "1587247.32 0\n",
      "-------------------------------------------------------\n",
      "-------------------------------------------------------\n",
      "500020_IE.csv\n",
      "500020_IE\n",
      "23172297.4 0\n",
      "-------------------------------------------------------\n",
      "-------------------------------------------------------\n",
      "500023_IE.csv\n",
      "500023_IE\n",
      "72809.25 0\n",
      "-------------------------------------------------------\n",
      "-------------------------------------------------------\n",
      "500027_IE.csv\n",
      "500027_IE\n",
      "1468020.35 0\n",
      "-------------------------------------------------------\n",
      "-------------------------------------------------------\n",
      "500028_IE.csv\n",
      "500028_IE\n",
      "559118.1 0\n",
      "-------------------------------------------------------\n",
      "-------------------------------------------------------\n",
      "500112_IE.csv\n",
      "500112_IE\n",
      "1465643.9000000001 0\n",
      "-------------------------------------------------------\n",
      "Wall time: 1.33 s\n"
     ]
    }
   ],
   "source": [
    "%%time\n",
    "\n",
    "for filename in os.listdir(os.path.join(path,\"Data/NextUBLB_Results\")):\n",
    "    if (filename.endswith(\"_IE.csv\")):\n",
    "        print(\"-------------------------------------------------------\")\n",
    "        print(filename)\n",
    "        name = filename[ : 9]\n",
    "        print(name)\n",
    "        df1 = pd.read_csv(\"C:\\\\Users\\\\venu\\\\Desktop\\\\Stock Market Analysis\\\\Data\\\\NextUBLB_Results\\\\\" + filename)\n",
    "        # print(df1.shape)\n",
    "        st_date = df1.loc[df1.shape[0] - 1, \"Date\"]\n",
    "        days = df1.shape[0]\n",
    "        inst = 100000\n",
    "        investment, shares, final_df = calculate_profit(df1, st_date, days, inst, fd_df)\n",
    "        print(investment, shares)\n",
    "        final_df.to_csv(\"C:\\\\Users\\\\venu\\\\Desktop\\\\Stock Market Analysis\\\\Data\\\\NextUBLB_Results\\\\\" + name + \"_\" + str(st_date) + \"_\" + str(days) + \"_Results.csv\", index = False)\n",
    "        print(\"-------------------------------------------------------\")\n",
    "        "
   ]
  },
  {
   "cell_type": "code",
   "execution_count": null,
   "id": "double-ladder",
   "metadata": {},
   "outputs": [],
   "source": []
  }
 ],
 "metadata": {
  "kernelspec": {
   "display_name": "Python 3",
   "language": "python",
   "name": "python3"
  },
  "language_info": {
   "codemirror_mode": {
    "name": "ipython",
    "version": 3
   },
   "file_extension": ".py",
   "mimetype": "text/x-python",
   "name": "python",
   "nbconvert_exporter": "python",
   "pygments_lexer": "ipython3",
   "version": "3.8.8"
  }
 },
 "nbformat": 4,
 "nbformat_minor": 5
}
