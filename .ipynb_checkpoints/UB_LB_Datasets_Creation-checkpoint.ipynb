{
 "cells": [
  {
   "cell_type": "code",
   "execution_count": 13,
   "id": "crucial-charleston",
   "metadata": {},
   "outputs": [],
   "source": [
    "import pandas as pd\n",
    "import os\n",
    "from datetime import datetime, timedelta\n",
    "import numpy as np\n",
    "import math"
   ]
  },
  {
   "cell_type": "code",
   "execution_count": 2,
   "id": "unavailable-glasgow",
   "metadata": {},
   "outputs": [],
   "source": [
    "def pre_process_data(data,null_threshold):\n",
    "#     data.drop(columns=['Unixtime','Date'],axis=1,inplace=True)\n",
    "    total = data.shape[0]\n",
    "    for col in data.columns:\n",
    "        if ((null_threshold * total / 100) < data[col].isnull().sum()):\n",
    "            data.drop(columns=[col],axis=1,inplace=True)\n",
    "    data.replace([np.inf, -np.inf], np.nan, inplace=True)\n",
    "    data.dropna(axis=0,inplace=True)\n",
    "    return data"
   ]
  },
  {
   "cell_type": "code",
   "execution_count": 3,
   "id": "possible-dakota",
   "metadata": {},
   "outputs": [],
   "source": [
    "def data_with_necessary_columns(data):\n",
    "    necessary_columns = ['Date', 'Close Price', 'Dividend Value', '% Return of Company', '% Return of SP500', 'Next Day Open Price', 'Next Day High Price',\n",
    "                     'Next Day Low Price', 'Next Day Close Price', 'Open Price GR', 'High Price GR', 'Low Price GR', 'Close Price GR',\n",
    "                     'Next Day Open Price GR', 'Next Day High Price GR', 'Next Day Low Price GR', 'Next Day Close Price GR',\n",
    "                     'WAP GR', 'No.of Shares GR', 'No. of Trades GR', 'Total Turnover (Rs.) GR', 'Deliverable Quantity GR',\n",
    "                     '% Deli. Qty to Traded Qty GR', 'Spread High-Low GR', 'Spread Close-Open GR', 'Alpha GR', 'Beta GR',\n",
    "                     'Sequential Increase %', 'Sequential Decrease %', 'Max Inc % in 90 days', 'Max Dec % in 90 days',\n",
    "                     'Min Inc % in 90 days', 'Min Dec % in 90 days', 'Avg Inc % in 90 days', 'Avg Dec % in 90 days',\n",
    "                     'Max Inc % in 180 days', 'Max Dec % in 180 days', 'Min Inc % in 180 days', 'Min Dec % in 180 days',\n",
    "                     'Avg Inc % in 180 days', 'Avg Dec % in 180 days', 'Max Inc % in 365 days', 'Max Dec % in 365 days',\n",
    "                     'Min Inc % in 365 days', 'Min Dec % in 365 days', 'Avg Inc % in 365 days', 'Avg Dec % in 365 days',\n",
    "                     'Revenue GR', 'Dividend Value GR', 'Income GR', 'Expenditure GR', 'Net Profit GR', 'EPS GR',\n",
    "                     'CP % LV 7 days', 'CP % HV 7 days', 'CP % BA 7 days', 'CP % LV 30 days', 'CP % HV 30 days', 'CP % BA 30 days',\n",
    "                     'CP % LV 90 days', 'CP % HV 90 days', 'CP % BA 90 days', 'CP % LV 180 days', 'CP % HV 180 days',\n",
    "                     'CP % BA 180 days', 'CP % LV 365 days', 'CP % HV 365 days', 'CP % BA 365 days', 'LowerBandInLast1Months',\n",
    "                     'UpperBandInLast1Months', 'LowerBandInNext1Months', 'UpperBandInNext1Months', 'LowerBandInLast3Months',\n",
    "                     'UpperBandInLast3Months', 'LowerBandInNext3Months', 'UpperBandInNext3Months', 'LowerBandInLast6Months',\n",
    "                     'UpperBandInLast6Months', 'LowerBandInNext6Months', 'UpperBandInNext6Months', 'LowerBandInLast9Months',\n",
    "                     'UpperBandInLast9Months', 'LowerBandInNext9Months', 'UpperBandInNext9Months', 'LowerBandInLast12Months',\n",
    "                     'UpperBandInLast12Months', 'LowerBandInNext12Months', 'UpperBandInNext12Months', 'LowerBandInLast24Months',\n",
    "                     'UpperBandInLast24Months', 'LowerBandInNext24Months', 'UpperBandInNext24Months']\n",
    "    \n",
    "    \n",
    "    n_cols = []\n",
    "    d_cols = list(data.columns)\n",
    "    for col in necessary_columns:\n",
    "        if (col in d_cols):\n",
    "            n_cols.append(col)\n",
    "            \n",
    "    data = data[n_cols]\n",
    "    return data"
   ]
  },
  {
   "cell_type": "code",
   "execution_count": 4,
   "id": "fiscal-probability",
   "metadata": {},
   "outputs": [],
   "source": [
    "def remove_ycolumn_columns(data, column):\n",
    "    cols = [col for col in data.columns]\n",
    "    cols.remove(column)\n",
    "    cols.append(column)\n",
    "    data = data[cols]\n",
    "    return data"
   ]
  },
  {
   "cell_type": "code",
   "execution_count": 5,
   "id": "resistant-anger",
   "metadata": {},
   "outputs": [],
   "source": [
    "def remove_columns_startswithnext_UBLB(data):\n",
    "    cols = [col for col in data.columns if (not (col.lower().startswith(\"next\")))]\n",
    "    data = data[cols]\n",
    "    return data"
   ]
  },
  {
   "cell_type": "code",
   "execution_count": 6,
   "id": "dominant-possible",
   "metadata": {},
   "outputs": [
    {
     "data": {
      "text/plain": [
       "'C:\\\\Users\\\\venu\\\\Desktop\\\\Stock Market Analysis'"
      ]
     },
     "execution_count": 6,
     "metadata": {},
     "output_type": "execute_result"
    }
   ],
   "source": [
    "path = os.getcwd()\n",
    "path"
   ]
  },
  {
   "cell_type": "code",
   "execution_count": 7,
   "id": "accredited-audit",
   "metadata": {},
   "outputs": [
    {
     "data": {
      "text/html": [
       "<div>\n",
       "<style scoped>\n",
       "    .dataframe tbody tr th:only-of-type {\n",
       "        vertical-align: middle;\n",
       "    }\n",
       "\n",
       "    .dataframe tbody tr th {\n",
       "        vertical-align: top;\n",
       "    }\n",
       "\n",
       "    .dataframe thead th {\n",
       "        text-align: right;\n",
       "    }\n",
       "</style>\n",
       "<table border=\"1\" class=\"dataframe\">\n",
       "  <thead>\n",
       "    <tr style=\"text-align: right;\">\n",
       "      <th></th>\n",
       "      <th>Company</th>\n",
       "      <th>Y-Column</th>\n",
       "      <th>Model</th>\n",
       "      <th>Method</th>\n",
       "      <th>RMSE</th>\n",
       "      <th>MAE</th>\n",
       "      <th>MSE</th>\n",
       "      <th>r2_score</th>\n",
       "    </tr>\n",
       "  </thead>\n",
       "  <tbody>\n",
       "    <tr>\n",
       "      <th>0</th>\n",
       "      <td>500002-ABB India Limited</td>\n",
       "      <td>LowerBandInNext12Months</td>\n",
       "      <td>Linear Regression</td>\n",
       "      <td>LinearFIBackwardElimination</td>\n",
       "      <td>0.062275</td>\n",
       "      <td>0.043117</td>\n",
       "      <td>0.003878</td>\n",
       "      <td>0.870015</td>\n",
       "    </tr>\n",
       "    <tr>\n",
       "      <th>1</th>\n",
       "      <td>500002-ABB India Limited</td>\n",
       "      <td>LowerBandInNext12Months</td>\n",
       "      <td>Elastic Net Regression</td>\n",
       "      <td>ElasticFIFValue1000</td>\n",
       "      <td>0.066609</td>\n",
       "      <td>0.038268</td>\n",
       "      <td>0.004437</td>\n",
       "      <td>0.851291</td>\n",
       "    </tr>\n",
       "    <tr>\n",
       "      <th>2</th>\n",
       "      <td>500002-ABB India Limited</td>\n",
       "      <td>LowerBandInNext12Months</td>\n",
       "      <td>Ridge Regression</td>\n",
       "      <td>RidgeFIFValue1000</td>\n",
       "      <td>0.068387</td>\n",
       "      <td>0.041116</td>\n",
       "      <td>0.004677</td>\n",
       "      <td>0.843247</td>\n",
       "    </tr>\n",
       "    <tr>\n",
       "      <th>3</th>\n",
       "      <td>500002-ABB India Limited</td>\n",
       "      <td>LowerBandInNext12Months</td>\n",
       "      <td>Lasso Regression</td>\n",
       "      <td>LassoFIFValue1000</td>\n",
       "      <td>0.069123</td>\n",
       "      <td>0.041873</td>\n",
       "      <td>0.004778</td>\n",
       "      <td>0.839852</td>\n",
       "    </tr>\n",
       "    <tr>\n",
       "      <th>4</th>\n",
       "      <td>500002-ABB India Limited</td>\n",
       "      <td>LowerBandInNext12Months</td>\n",
       "      <td>KNN-Regression</td>\n",
       "      <td>KNN_Regression_FI_ForwardSelection_</td>\n",
       "      <td>0.084858</td>\n",
       "      <td>0.064723</td>\n",
       "      <td>0.007201</td>\n",
       "      <td>0.758642</td>\n",
       "    </tr>\n",
       "    <tr>\n",
       "      <th>...</th>\n",
       "      <td>...</td>\n",
       "      <td>...</td>\n",
       "      <td>...</td>\n",
       "      <td>...</td>\n",
       "      <td>...</td>\n",
       "      <td>...</td>\n",
       "      <td>...</td>\n",
       "      <td>...</td>\n",
       "    </tr>\n",
       "    <tr>\n",
       "      <th>715</th>\n",
       "      <td>500112-State Bank of India</td>\n",
       "      <td>UpperBandInNext9Months</td>\n",
       "      <td>Linear Regression</td>\n",
       "      <td>LinearFICoefficients0.1</td>\n",
       "      <td>0.074464</td>\n",
       "      <td>0.045840</td>\n",
       "      <td>0.005545</td>\n",
       "      <td>0.940183</td>\n",
       "    </tr>\n",
       "    <tr>\n",
       "      <th>716</th>\n",
       "      <td>500112-State Bank of India</td>\n",
       "      <td>UpperBandInNext9Months</td>\n",
       "      <td>Elastic Net Regression</td>\n",
       "      <td>ElasticFICoefficients0.1</td>\n",
       "      <td>0.074977</td>\n",
       "      <td>0.045281</td>\n",
       "      <td>0.005622</td>\n",
       "      <td>0.939354</td>\n",
       "    </tr>\n",
       "    <tr>\n",
       "      <th>717</th>\n",
       "      <td>500112-State Bank of India</td>\n",
       "      <td>UpperBandInNext9Months</td>\n",
       "      <td>Lasso Regression</td>\n",
       "      <td>LassoFICoefficients0.1</td>\n",
       "      <td>0.079146</td>\n",
       "      <td>0.042526</td>\n",
       "      <td>0.006264</td>\n",
       "      <td>0.932424</td>\n",
       "    </tr>\n",
       "    <tr>\n",
       "      <th>718</th>\n",
       "      <td>500112-State Bank of India</td>\n",
       "      <td>UpperBandInNext9Months</td>\n",
       "      <td>Ridge Regression</td>\n",
       "      <td>RidgeFICoefficients0.1</td>\n",
       "      <td>0.080399</td>\n",
       "      <td>0.042670</td>\n",
       "      <td>0.006464</td>\n",
       "      <td>0.930266</td>\n",
       "    </tr>\n",
       "    <tr>\n",
       "      <th>719</th>\n",
       "      <td>500112-State Bank of India</td>\n",
       "      <td>UpperBandInNext9Months</td>\n",
       "      <td>KNN-Regression</td>\n",
       "      <td>KNN_Regression_FI_ForwardSelection_</td>\n",
       "      <td>0.088836</td>\n",
       "      <td>0.046708</td>\n",
       "      <td>0.007892</td>\n",
       "      <td>0.914864</td>\n",
       "    </tr>\n",
       "  </tbody>\n",
       "</table>\n",
       "<p>720 rows × 8 columns</p>\n",
       "</div>"
      ],
      "text/plain": [
       "                        Company                 Y-Column  \\\n",
       "0      500002-ABB India Limited  LowerBandInNext12Months   \n",
       "1      500002-ABB India Limited  LowerBandInNext12Months   \n",
       "2      500002-ABB India Limited  LowerBandInNext12Months   \n",
       "3      500002-ABB India Limited  LowerBandInNext12Months   \n",
       "4      500002-ABB India Limited  LowerBandInNext12Months   \n",
       "..                          ...                      ...   \n",
       "715  500112-State Bank of India   UpperBandInNext9Months   \n",
       "716  500112-State Bank of India   UpperBandInNext9Months   \n",
       "717  500112-State Bank of India   UpperBandInNext9Months   \n",
       "718  500112-State Bank of India   UpperBandInNext9Months   \n",
       "719  500112-State Bank of India   UpperBandInNext9Months   \n",
       "\n",
       "                      Model                               Method      RMSE  \\\n",
       "0         Linear Regression          LinearFIBackwardElimination  0.062275   \n",
       "1    Elastic Net Regression                  ElasticFIFValue1000  0.066609   \n",
       "2          Ridge Regression                    RidgeFIFValue1000  0.068387   \n",
       "3          Lasso Regression                    LassoFIFValue1000  0.069123   \n",
       "4            KNN-Regression  KNN_Regression_FI_ForwardSelection_  0.084858   \n",
       "..                      ...                                  ...       ...   \n",
       "715       Linear Regression              LinearFICoefficients0.1  0.074464   \n",
       "716  Elastic Net Regression             ElasticFICoefficients0.1  0.074977   \n",
       "717        Lasso Regression               LassoFICoefficients0.1  0.079146   \n",
       "718        Ridge Regression               RidgeFICoefficients0.1  0.080399   \n",
       "719          KNN-Regression  KNN_Regression_FI_ForwardSelection_  0.088836   \n",
       "\n",
       "          MAE       MSE  r2_score  \n",
       "0    0.043117  0.003878  0.870015  \n",
       "1    0.038268  0.004437  0.851291  \n",
       "2    0.041116  0.004677  0.843247  \n",
       "3    0.041873  0.004778  0.839852  \n",
       "4    0.064723  0.007201  0.758642  \n",
       "..        ...       ...       ...  \n",
       "715  0.045840  0.005545  0.940183  \n",
       "716  0.045281  0.005622  0.939354  \n",
       "717  0.042526  0.006264  0.932424  \n",
       "718  0.042670  0.006464  0.930266  \n",
       "719  0.046708  0.007892  0.914864  \n",
       "\n",
       "[720 rows x 8 columns]"
      ]
     },
     "execution_count": 7,
     "metadata": {},
     "output_type": "execute_result"
    }
   ],
   "source": [
    "final_knn_linear_datset = pd.read_csv(\"C:\\\\Users\\\\venu\\\\Desktop\\\\Stock Market Analysis\\\\Data\\\\NextUBLB_Results\\\\Final_Linear_KNN_Results.csv\")\n",
    "final_knn_linear_datset"
   ]
  },
  {
   "cell_type": "code",
   "execution_count": 8,
   "id": "plastic-pittsburgh",
   "metadata": {},
   "outputs": [],
   "source": [
    "df_equity = pd.read_csv(\"C:\\\\Users\\\\venu\\\\Desktop\\\\Stock Market Analysis\\\\Data\\\\Equity.csv\")\n",
    "security_numbers = df_equity[\"Security Code\"].tolist()\n",
    "security_names = df_equity[\"Security Name\"].tolist()\n",
    "companies = {str(k) : v for (k, v) in list(zip(security_numbers, security_names))}"
   ]
  },
  {
   "cell_type": "code",
   "execution_count": 9,
   "id": "thorough-salad",
   "metadata": {},
   "outputs": [],
   "source": [
    "LB_y_columns = [\"LowerBandInNext1Months\", \"LowerBandInNext3Months\", \"LowerBandInNext6Months\",\n",
    "                    \"LowerBandInNext9Months\", \"LowerBandInNext12Months\", \"LowerBandInNext24Months\"]"
   ]
  },
  {
   "cell_type": "code",
   "execution_count": 10,
   "id": "tested-lesson",
   "metadata": {},
   "outputs": [],
   "source": [
    "UB_y_columns = [\"UpperBandInNext1Months\", \"UpperBandInNext3Months\", \"UpperBandInNext6Months\",\n",
    "                     \"UpperBandInNext9Months\", \"UpperBandInNext12Months\", \"UpperBandInNext24Months\"]"
   ]
  },
  {
   "cell_type": "code",
   "execution_count": 11,
   "id": "broke-branch",
   "metadata": {},
   "outputs": [],
   "source": [
    "c = [\"500002\", \"500003\", \"500008\", \"500009\", \"500010\", \"500012\", \"500013\", \"500020\", \"500023\", \"500027\", \"500028\", \"500112\"]"
   ]
  },
  {
   "cell_type": "code",
   "execution_count": 17,
   "id": "informal-timber",
   "metadata": {},
   "outputs": [
    {
     "name": "stdout",
     "output_type": "stream",
     "text": [
      "500002 ABB India Limited\n",
      "500002-ABB India Limited\n",
      "LowerBandInNext1Months UpperBandInNext1Months LowerBandInNext1Months\n",
      "1  ---> value\n",
      "2007-08-31 00:00:00 2021-03-24 00:00:00\n"
     ]
    },
    {
     "name": "stderr",
     "output_type": "stream",
     "text": [
      "C:\\Users\\venu\\anaconda3\\envs\\tf\\lib\\site-packages\\pandas\\core\\frame.py:4524: SettingWithCopyWarning: \n",
      "A value is trying to be set on a copy of a slice from a DataFrame\n",
      "\n",
      "See the caveats in the documentation: https://pandas.pydata.org/pandas-docs/stable/user_guide/indexing.html#returning-a-view-versus-a-copy\n",
      "  return super().replace(\n",
      "<ipython-input-2-f41d2fcdd2a0>:8: SettingWithCopyWarning: \n",
      "A value is trying to be set on a copy of a slice from a DataFrame\n",
      "\n",
      "See the caveats in the documentation: https://pandas.pydata.org/pandas-docs/stable/user_guide/indexing.html#returning-a-view-versus-a-copy\n",
      "  data.dropna(axis=0,inplace=True)\n"
     ]
    },
    {
     "name": "stdout",
     "output_type": "stream",
     "text": [
      "ElasticFIForwardSelection LassoFIFValue1000\n",
      "--------------------------------------------------\n",
      "500003 AEGIS LOGISTICS LTD.\n",
      "500003-AEGIS LOGISTICS LTD.\n",
      "LowerBandInNext1Months UpperBandInNext1Months LowerBandInNext1Months\n",
      "1  ---> value\n",
      "2007-08-31 00:00:00 2021-03-24 00:00:00\n",
      "LinearFIBackwardElimination RidgeFIFValue1000\n",
      "--------------------------------------------------\n",
      "500008 AMARA RAJA BATTERIES LTD.\n",
      "500008-AMARA RAJA BATTERIES LTD.\n",
      "LowerBandInNext1Months UpperBandInNext1Months LowerBandInNext1Months\n"
     ]
    },
    {
     "name": "stderr",
     "output_type": "stream",
     "text": [
      "C:\\Users\\venu\\anaconda3\\envs\\tf\\lib\\site-packages\\pandas\\core\\frame.py:4524: SettingWithCopyWarning: \n",
      "A value is trying to be set on a copy of a slice from a DataFrame\n",
      "\n",
      "See the caveats in the documentation: https://pandas.pydata.org/pandas-docs/stable/user_guide/indexing.html#returning-a-view-versus-a-copy\n",
      "  return super().replace(\n",
      "<ipython-input-2-f41d2fcdd2a0>:8: SettingWithCopyWarning: \n",
      "A value is trying to be set on a copy of a slice from a DataFrame\n",
      "\n",
      "See the caveats in the documentation: https://pandas.pydata.org/pandas-docs/stable/user_guide/indexing.html#returning-a-view-versus-a-copy\n",
      "  data.dropna(axis=0,inplace=True)\n"
     ]
    },
    {
     "name": "stdout",
     "output_type": "stream",
     "text": [
      "1  ---> value\n",
      "2007-08-31 00:00:00 2021-03-24 00:00:00\n",
      "KNN_Regression_FI_ForwardSelection_ LassoFIForwardSelection\n"
     ]
    },
    {
     "name": "stderr",
     "output_type": "stream",
     "text": [
      "C:\\Users\\venu\\anaconda3\\envs\\tf\\lib\\site-packages\\pandas\\core\\frame.py:4524: SettingWithCopyWarning: \n",
      "A value is trying to be set on a copy of a slice from a DataFrame\n",
      "\n",
      "See the caveats in the documentation: https://pandas.pydata.org/pandas-docs/stable/user_guide/indexing.html#returning-a-view-versus-a-copy\n",
      "  return super().replace(\n",
      "<ipython-input-2-f41d2fcdd2a0>:8: SettingWithCopyWarning: \n",
      "A value is trying to be set on a copy of a slice from a DataFrame\n",
      "\n",
      "See the caveats in the documentation: https://pandas.pydata.org/pandas-docs/stable/user_guide/indexing.html#returning-a-view-versus-a-copy\n",
      "  data.dropna(axis=0,inplace=True)\n"
     ]
    },
    {
     "name": "stdout",
     "output_type": "stream",
     "text": [
      "--------------------------------------------------\n",
      "500009 AMBALAL SARABHAI ENTERPRISES LTD.\n",
      "500009-AMBALAL SARABHAI ENTERPRISES LTD.\n",
      "LowerBandInNext1Months UpperBandInNext1Months LowerBandInNext1Months\n",
      "1  ---> value\n",
      "2007-08-31 00:00:00 2021-03-24 00:00:00\n"
     ]
    },
    {
     "name": "stderr",
     "output_type": "stream",
     "text": [
      "C:\\Users\\venu\\anaconda3\\envs\\tf\\lib\\site-packages\\pandas\\core\\frame.py:4524: SettingWithCopyWarning: \n",
      "A value is trying to be set on a copy of a slice from a DataFrame\n",
      "\n",
      "See the caveats in the documentation: https://pandas.pydata.org/pandas-docs/stable/user_guide/indexing.html#returning-a-view-versus-a-copy\n",
      "  return super().replace(\n",
      "<ipython-input-2-f41d2fcdd2a0>:8: SettingWithCopyWarning: \n",
      "A value is trying to be set on a copy of a slice from a DataFrame\n",
      "\n",
      "See the caveats in the documentation: https://pandas.pydata.org/pandas-docs/stable/user_guide/indexing.html#returning-a-view-versus-a-copy\n",
      "  data.dropna(axis=0,inplace=True)\n"
     ]
    },
    {
     "name": "stdout",
     "output_type": "stream",
     "text": [
      "LinearFIForwardSelection ElasticFIFValue100\n",
      "--------------------------------------------------\n",
      "500010 HOUSING DEVELOPMENT FINANCE CORP.LTD.\n",
      "500010-HOUSING DEVELOPMENT FINANCE CORP.LTD.\n",
      "LowerBandInNext1Months UpperBandInNext1Months LowerBandInNext1Months\n",
      "1  ---> value\n",
      "2007-08-31 00:00:00 2021-03-24 00:00:00\n",
      "ElasticFIBackwardElimination RidgeFIFValue1000\n",
      "--------------------------------------------------"
     ]
    },
    {
     "name": "stderr",
     "output_type": "stream",
     "text": [
      "C:\\Users\\venu\\anaconda3\\envs\\tf\\lib\\site-packages\\pandas\\core\\frame.py:4524: SettingWithCopyWarning: \n",
      "A value is trying to be set on a copy of a slice from a DataFrame\n",
      "\n",
      "See the caveats in the documentation: https://pandas.pydata.org/pandas-docs/stable/user_guide/indexing.html#returning-a-view-versus-a-copy\n",
      "  return super().replace(\n",
      "<ipython-input-2-f41d2fcdd2a0>:8: SettingWithCopyWarning: \n",
      "A value is trying to be set on a copy of a slice from a DataFrame\n",
      "\n",
      "See the caveats in the documentation: https://pandas.pydata.org/pandas-docs/stable/user_guide/indexing.html#returning-a-view-versus-a-copy\n",
      "  data.dropna(axis=0,inplace=True)\n"
     ]
    },
    {
     "name": "stdout",
     "output_type": "stream",
     "text": [
      "\n",
      "500012 ANDHRA PETROCHEMICALS LTD.\n",
      "500012-ANDHRA PETROCHEMICALS LTD.\n",
      "LowerBandInNext1Months UpperBandInNext1Months LowerBandInNext1Months\n",
      "1  ---> value\n",
      "2007-08-31 00:00:00 2021-03-24 00:00:00\n",
      "RidgeFIForwardSelection LinearFIFValue1000\n",
      "--------------------------------------------------\n",
      "500013 ANSAL PROPERTIES & INFRASTRUCTURE LTD.\n",
      "500013-ANSAL PROPERTIES & INFRASTRUCTURE LTD.\n",
      "LowerBandInNext1Months UpperBandInNext1Months LowerBandInNext1Months\n"
     ]
    },
    {
     "name": "stderr",
     "output_type": "stream",
     "text": [
      "C:\\Users\\venu\\anaconda3\\envs\\tf\\lib\\site-packages\\pandas\\core\\frame.py:4524: SettingWithCopyWarning: \n",
      "A value is trying to be set on a copy of a slice from a DataFrame\n",
      "\n",
      "See the caveats in the documentation: https://pandas.pydata.org/pandas-docs/stable/user_guide/indexing.html#returning-a-view-versus-a-copy\n",
      "  return super().replace(\n",
      "<ipython-input-2-f41d2fcdd2a0>:8: SettingWithCopyWarning: \n",
      "A value is trying to be set on a copy of a slice from a DataFrame\n",
      "\n",
      "See the caveats in the documentation: https://pandas.pydata.org/pandas-docs/stable/user_guide/indexing.html#returning-a-view-versus-a-copy\n",
      "  data.dropna(axis=0,inplace=True)\n"
     ]
    },
    {
     "name": "stdout",
     "output_type": "stream",
     "text": [
      "1  ---> value\n",
      "2007-08-31 00:00:00 2021-03-24 00:00:00\n",
      "KNN_Regression_FI_ForwardSelection_ LassoFIPValue0.02\n",
      "--------------------------------------------------\n",
      "500020 BOMBAY DYEING & MFG.CO.LTD.\n",
      "500020-BOMBAY DYEING & MFG.CO.LTD.\n",
      "LowerBandInNext1Months UpperBandInNext1Months LowerBandInNext1Months\n"
     ]
    },
    {
     "name": "stderr",
     "output_type": "stream",
     "text": [
      "C:\\Users\\venu\\anaconda3\\envs\\tf\\lib\\site-packages\\pandas\\core\\frame.py:4308: SettingWithCopyWarning: \n",
      "A value is trying to be set on a copy of a slice from a DataFrame\n",
      "\n",
      "See the caveats in the documentation: https://pandas.pydata.org/pandas-docs/stable/user_guide/indexing.html#returning-a-view-versus-a-copy\n",
      "  return super().drop(\n",
      "C:\\Users\\venu\\anaconda3\\envs\\tf\\lib\\site-packages\\pandas\\core\\frame.py:4524: SettingWithCopyWarning: \n",
      "A value is trying to be set on a copy of a slice from a DataFrame\n",
      "\n",
      "See the caveats in the documentation: https://pandas.pydata.org/pandas-docs/stable/user_guide/indexing.html#returning-a-view-versus-a-copy\n",
      "  return super().replace(\n",
      "<ipython-input-2-f41d2fcdd2a0>:8: SettingWithCopyWarning: \n",
      "A value is trying to be set on a copy of a slice from a DataFrame\n",
      "\n",
      "See the caveats in the documentation: https://pandas.pydata.org/pandas-docs/stable/user_guide/indexing.html#returning-a-view-versus-a-copy\n",
      "  data.dropna(axis=0,inplace=True)\n"
     ]
    },
    {
     "name": "stdout",
     "output_type": "stream",
     "text": [
      "1  ---> value\n",
      "2007-08-31 00:00:00 2021-03-24 00:00:00\n",
      "LinearFIForwardSelection KNN_Regression_FI_ForwardSelection_\n",
      "--------------------------------------------------\n",
      "500023 Asian Hotels (North) Limited\n",
      "500023-Asian Hotels (North) Limited\n",
      "LowerBandInNext1Months UpperBandInNext1Months LowerBandInNext1Months\n"
     ]
    },
    {
     "name": "stderr",
     "output_type": "stream",
     "text": [
      "C:\\Users\\venu\\anaconda3\\envs\\tf\\lib\\site-packages\\pandas\\core\\frame.py:4524: SettingWithCopyWarning: \n",
      "A value is trying to be set on a copy of a slice from a DataFrame\n",
      "\n",
      "See the caveats in the documentation: https://pandas.pydata.org/pandas-docs/stable/user_guide/indexing.html#returning-a-view-versus-a-copy\n",
      "  return super().replace(\n",
      "<ipython-input-2-f41d2fcdd2a0>:8: SettingWithCopyWarning: \n",
      "A value is trying to be set on a copy of a slice from a DataFrame\n",
      "\n",
      "See the caveats in the documentation: https://pandas.pydata.org/pandas-docs/stable/user_guide/indexing.html#returning-a-view-versus-a-copy\n",
      "  data.dropna(axis=0,inplace=True)\n"
     ]
    },
    {
     "name": "stdout",
     "output_type": "stream",
     "text": [
      "1  ---> value\n",
      "2007-08-31 00:00:00 2021-03-24 00:00:00\n",
      "KNN_Regression_FI_ForwardSelection_ RidgeFIFValue1000\n"
     ]
    },
    {
     "name": "stderr",
     "output_type": "stream",
     "text": [
      "C:\\Users\\venu\\anaconda3\\envs\\tf\\lib\\site-packages\\pandas\\core\\frame.py:4308: SettingWithCopyWarning: \n",
      "A value is trying to be set on a copy of a slice from a DataFrame\n",
      "\n",
      "See the caveats in the documentation: https://pandas.pydata.org/pandas-docs/stable/user_guide/indexing.html#returning-a-view-versus-a-copy\n",
      "  return super().drop(\n",
      "C:\\Users\\venu\\anaconda3\\envs\\tf\\lib\\site-packages\\pandas\\core\\frame.py:4524: SettingWithCopyWarning: \n",
      "A value is trying to be set on a copy of a slice from a DataFrame\n",
      "\n",
      "See the caveats in the documentation: https://pandas.pydata.org/pandas-docs/stable/user_guide/indexing.html#returning-a-view-versus-a-copy\n",
      "  return super().replace(\n",
      "<ipython-input-2-f41d2fcdd2a0>:8: SettingWithCopyWarning: \n",
      "A value is trying to be set on a copy of a slice from a DataFrame\n",
      "\n",
      "See the caveats in the documentation: https://pandas.pydata.org/pandas-docs/stable/user_guide/indexing.html#returning-a-view-versus-a-copy\n",
      "  data.dropna(axis=0,inplace=True)\n"
     ]
    },
    {
     "name": "stdout",
     "output_type": "stream",
     "text": [
      "--------------------------------------------------\n",
      "500027 ATUL LTD.\n",
      "500027-ATUL LTD.\n",
      "LowerBandInNext1Months UpperBandInNext1Months LowerBandInNext1Months\n",
      "1  ---> value\n",
      "2007-08-31 00:00:00 2021-03-24 00:00:00\n",
      "ElasticFIPValue0.02 LassoFICoefficients0.1\n",
      "--------------------------------------------------\n",
      "500028 ATV PROJECTS INDIA LTD.\n",
      "500028-ATV PROJECTS INDIA LTD.\n",
      "LowerBandInNext1Months UpperBandInNext1Months LowerBandInNext1Months\n"
     ]
    },
    {
     "name": "stderr",
     "output_type": "stream",
     "text": [
      "C:\\Users\\venu\\anaconda3\\envs\\tf\\lib\\site-packages\\pandas\\core\\frame.py:4524: SettingWithCopyWarning: \n",
      "A value is trying to be set on a copy of a slice from a DataFrame\n",
      "\n",
      "See the caveats in the documentation: https://pandas.pydata.org/pandas-docs/stable/user_guide/indexing.html#returning-a-view-versus-a-copy\n",
      "  return super().replace(\n",
      "<ipython-input-2-f41d2fcdd2a0>:8: SettingWithCopyWarning: \n",
      "A value is trying to be set on a copy of a slice from a DataFrame\n",
      "\n",
      "See the caveats in the documentation: https://pandas.pydata.org/pandas-docs/stable/user_guide/indexing.html#returning-a-view-versus-a-copy\n",
      "  data.dropna(axis=0,inplace=True)\n"
     ]
    },
    {
     "name": "stdout",
     "output_type": "stream",
     "text": [
      "1  ---> value\n",
      "2010-07-07 00:00:00 2021-03-24 00:00:00\n",
      "KNN_Regression_FI_ForwardSelection_ KNN_Regression_FI_ForwardSelection_\n",
      "--------------------------------------------------\n",
      "500112 State Bank of India\n",
      "500112-State Bank of India\n",
      "LowerBandInNext1Months UpperBandInNext1Months LowerBandInNext1Months\n"
     ]
    },
    {
     "name": "stderr",
     "output_type": "stream",
     "text": [
      "C:\\Users\\venu\\anaconda3\\envs\\tf\\lib\\site-packages\\pandas\\core\\frame.py:4308: SettingWithCopyWarning: \n",
      "A value is trying to be set on a copy of a slice from a DataFrame\n",
      "\n",
      "See the caveats in the documentation: https://pandas.pydata.org/pandas-docs/stable/user_guide/indexing.html#returning-a-view-versus-a-copy\n",
      "  return super().drop(\n",
      "C:\\Users\\venu\\anaconda3\\envs\\tf\\lib\\site-packages\\pandas\\core\\frame.py:4524: SettingWithCopyWarning: \n",
      "A value is trying to be set on a copy of a slice from a DataFrame\n",
      "\n",
      "See the caveats in the documentation: https://pandas.pydata.org/pandas-docs/stable/user_guide/indexing.html#returning-a-view-versus-a-copy\n",
      "  return super().replace(\n",
      "<ipython-input-2-f41d2fcdd2a0>:8: SettingWithCopyWarning: \n",
      "A value is trying to be set on a copy of a slice from a DataFrame\n",
      "\n",
      "See the caveats in the documentation: https://pandas.pydata.org/pandas-docs/stable/user_guide/indexing.html#returning-a-view-versus-a-copy\n",
      "  data.dropna(axis=0,inplace=True)\n"
     ]
    },
    {
     "name": "stdout",
     "output_type": "stream",
     "text": [
      "1  ---> value\n",
      "2007-08-31 00:00:00 2021-03-24 00:00:00\n",
      "RidgeFIForwardSelection RidgeFIFValue1000\n"
     ]
    },
    {
     "name": "stderr",
     "output_type": "stream",
     "text": [
      "C:\\Users\\venu\\anaconda3\\envs\\tf\\lib\\site-packages\\pandas\\core\\frame.py:4524: SettingWithCopyWarning: \n",
      "A value is trying to be set on a copy of a slice from a DataFrame\n",
      "\n",
      "See the caveats in the documentation: https://pandas.pydata.org/pandas-docs/stable/user_guide/indexing.html#returning-a-view-versus-a-copy\n",
      "  return super().replace(\n",
      "<ipython-input-2-f41d2fcdd2a0>:8: SettingWithCopyWarning: \n",
      "A value is trying to be set on a copy of a slice from a DataFrame\n",
      "\n",
      "See the caveats in the documentation: https://pandas.pydata.org/pandas-docs/stable/user_guide/indexing.html#returning-a-view-versus-a-copy\n",
      "  data.dropna(axis=0,inplace=True)\n"
     ]
    },
    {
     "name": "stdout",
     "output_type": "stream",
     "text": [
      "--------------------------------------------------\n"
     ]
    }
   ],
   "source": [
    "for s in c:\n",
    "    if (s == \"500112\"):\n",
    "        n = \"State Bank of India\"\n",
    "    else:\n",
    "        n = companies[s]\n",
    "    print(s, n)\n",
    "    company = str(s) + \"-\" + str(n)\n",
    "    print(company)\n",
    "    try :\n",
    "#         print(\"--------------------------------------------------\")\n",
    "        for i in range(0, 1):\n",
    "            lb_col = LB_y_columns[i]\n",
    "            ub_col = UB_y_columns[i]\n",
    "\n",
    "            col = LB_y_columns[i]\n",
    "            print(lb_col, ub_col, col)\n",
    "            df_linear = pd.read_csv(os.path.join(path,\"Data\\Stock1\\\\UBLBPASTNEXTgr\" + str(s) + \".csv\"))\n",
    "\n",
    "            value = 0\n",
    "            if (\"24\" in col):\n",
    "                value = 24\n",
    "            elif (\"12\" in col):\n",
    "                value = 12\n",
    "            elif (\"9\" in col):\n",
    "                value = 9\n",
    "            elif (\"6\" in col):\n",
    "                value = 6\n",
    "            elif (\"3\" in col):\n",
    "                value = 3\n",
    "            else:\n",
    "                value = 1\n",
    "            \n",
    "            print(value, \" ---> value\")\n",
    "\n",
    "            df_linear[\"Date\"] = pd.to_datetime(df_linear[\"Date\"])\n",
    "            head_date = df_linear.loc[0, \"Date\"]\n",
    "            end_date = head_date - timedelta(days = value * 30)\n",
    "            tail = df_linear.shape[0] - 1\n",
    "            tail_date = df_linear.loc[tail, \"Date\"]\n",
    "            start_date = tail_date + timedelta(days = value * 30)\n",
    "            \n",
    "            print(start_date, end_date)\n",
    "            \n",
    "            mask = (df_linear[\"Date\"] >= start_date) & (df_linear[\"Date\"] <= end_date)\n",
    "            df_lin = df_linear.loc[mask]\n",
    "            \n",
    "            df_lin = pre_process_data(df_lin, 60)\n",
    "            \n",
    "\n",
    "            df_lin = data_with_necessary_columns(df_lin)\n",
    "            \n",
    "\n",
    "\n",
    "            df1 = final_knn_linear_datset[final_knn_linear_datset[\"Company\"] == company]\n",
    "\n",
    "            df1 = df1[df1[\"Y-Column\"] == lb_col]\n",
    "            df1 = df1.reset_index(drop=True)\n",
    "            method1 = df1.loc[0, \"Method\"]\n",
    "\n",
    "            df2 = final_knn_linear_datset[final_knn_linear_datset[\"Company\"] == company]\n",
    "            df2 = df2[df2[\"Y-Column\"] == ub_col]\n",
    "            df2 = df2.reset_index(drop=True)\n",
    "            \n",
    "            method2 = df2.loc[0, \"Method\"]\n",
    "\n",
    "            print(method1, method2)\n",
    "\n",
    "            if (\"KNN\" not in method1):\n",
    "                df_res1 = pd.read_csv(\"C:\\\\Users\\\\venu\\\\Desktop\\\\Stock Market Analysis\\\\Data\\\\UBLBDatasetCreationFiles\\\\\" + str(s) + \"_\" + lb_col + \"_\" + method1 + \".csv\")\n",
    "            else:\n",
    "                df_res1 = pd.read_csv(\"C:\\\\Users\\\\venu\\\\Desktop\\\\Stock Market Analysis\\\\Data\\\\UBLBDatasetCreationFiles\\\\\" + str(s) + \"_\" + method1 + \"\" + lb_col + \"_\" + \".csv\")\n",
    "\n",
    "\n",
    "            if (\"KNN\" not in method2):\n",
    "                df_res2 = pd.read_csv(\"C:\\\\Users\\\\venu\\\\Desktop\\\\Stock Market Analysis\\\\Data\\\\UBLBDatasetCreationFiles\\\\\" + str(s) + \"_\" + ub_col + \"_\" + method2 + \".csv\")\n",
    "            else:\n",
    "                df_res2 = pd.read_csv(\"C:\\\\Users\\\\venu\\\\Desktop\\\\Stock Market Analysis\\\\Data\\\\UBLBDatasetCreationFiles\\\\\" + str(s) + \"_\" + method2 + \"\" + ub_col + \"_\" + \".csv\")\n",
    "\n",
    "\n",
    "            final_df = pd.DataFrame()\n",
    "            df_date_cp = df_lin[[\"Date\", \"Close Price\"]]\n",
    "            df_date_cp = df_date_cp[ : int(df_date_cp.shape[0] * 0.3)]\n",
    "            df_date_cp = df_date_cp.reset_index(drop=True)\n",
    "            \n",
    "\n",
    "            final_df = pd.concat([final_df, df_res1])\n",
    "            final_df = final_df.rename(columns = {\"Actual Values\" : \"Actual_\" + lb_col, \"Predicted Values\" : \"Predicted_\" + lb_col})\n",
    "            \n",
    "\n",
    "            \n",
    "            final_df = pd.concat([final_df, df_res2], axis = 1)\n",
    "            final_df = final_df.rename(columns = {\"Actual Values\" : \"Actual_\" + ub_col, \"Predicted Values\" : \"Predicted_\" + ub_col})\n",
    "            \n",
    "\n",
    "            final_df = pd.concat([final_df, df_date_cp] , axis = 1)\n",
    "#             print(final_df)\n",
    "            \n",
    "            final_df.to_csv(\"C:\\\\Users\\\\venu\\\\Desktop\\\\Stock Market Analysis\\\\Data\\\\NextUBLB_Results\\\\UBLBDataset_\" + str(s) + \".csv\", index = False)\n",
    "\n",
    "            print(\"--------------------------------------------------\")\n",
    "            \n",
    "    except Exception as e:\n",
    "        print(\"******************************\")\n",
    "        print(e)\n",
    "        print(\"not present\")\n",
    "        print(\"******************************\")\n",
    "#     break\n",
    "        \n",
    "        "
   ]
  },
  {
   "cell_type": "code",
   "execution_count": 28,
   "id": "floating-burke",
   "metadata": {},
   "outputs": [],
   "source": [
    "def create_extra_columns(data, ub_col, lb_col):\n",
    "    data['Actual UB Close Diff'] = abs(data['Close Price'] - (data['Close Price'] * data['Actual_' + ub_col]))\n",
    "    data['Predicted UB Close Diff'] = abs(data['Close Price'] - (data['Close Price'] * data['Predicted_' + ub_col]))\n",
    "    data['Actual LB Close Diff'] = abs(data['Close Price'] - (data['Close Price'] * data['Actual_' + lb_col]))\n",
    "    data['Predicted LB Close Diff'] = abs(data['Close Price'] - (data['Close Price'] * data['Predicted_' + lb_col]))\n",
    "    data['Predict UB LB Diff'] = data['Predicted UB Close Diff'] - data['Predicted LB Close Diff']\n",
    "    data['Predict LB %'] = 1 - data['Predicted_' + lb_col]\n",
    "    data['Predict UB %'] = data['Predicted_' + ub_col] - 1\n",
    "    \n",
    "    \n",
    "    for i in range(len(data)):\n",
    "        if ((data.loc[i, \"Predict LB %\"] < 0.01) and (data.loc[i, \"Predict UB %\"] - data.loc[i, \"Predict LB %\"] > 0.1)):\n",
    "            data.loc[i, \"Investment Status\"] = \"INVEST\"\n",
    "        else:\n",
    "            data.loc[i, \"Investment Status\"] = \"NO\"\n",
    "        \n",
    "        if ((data.loc[i, \"Predict UB %\"] < 0.01) and (data.loc[i, \"Predict UB %\"] + data.loc[i, \"Predict LB %\"] > 0.05)):\n",
    "            data.loc[i, \"Exit Status\"] = \"EXIT\"\n",
    "        else:\n",
    "            data.loc[i, \"Exit Status\"] = \"NO\"\n",
    "    \n",
    "    return data"
   ]
  },
  {
   "cell_type": "code",
   "execution_count": 29,
   "id": "infrared-thanksgiving",
   "metadata": {},
   "outputs": [
    {
     "name": "stdout",
     "output_type": "stream",
     "text": [
      "UBLBDataset_500002.csv\n",
      "UBLBDataset_500003.csv\n",
      "UBLBDataset_500008.csv\n",
      "UBLBDataset_500009.csv\n",
      "UBLBDataset_500010.csv\n",
      "UBLBDataset_500012.csv\n",
      "UBLBDataset_500013.csv\n",
      "UBLBDataset_500020.csv\n",
      "UBLBDataset_500023.csv\n",
      "UBLBDataset_500027.csv\n",
      "UBLBDataset_500028.csv\n",
      "UBLBDataset_500112.csv\n",
      "Wall time: 7.73 s\n"
     ]
    }
   ],
   "source": [
    "%%time\n",
    "\n",
    "for filename in os.listdir(os.path.join(path,\"Data/NextUBLB_Results\")):\n",
    "    if (filename.startswith(\"UBLBDataset_\")):\n",
    "        print(filename)\n",
    "        stock = filename[12 : 18]\n",
    "        data = pd.read_csv(\"C:\\\\Users\\\\venu\\\\Desktop\\\\Stock Market Analysis\\\\Data\\\\NextUBLB_Results\\\\\" + filename)\n",
    "        ub_col = \"UpperBandInNext1Months\"\n",
    "        lb_col = \"LowerBandInNext1Months\"\n",
    "        df = create_extra_columns(data, ub_col, lb_col)\n",
    "        df.to_csv(\"C:\\\\Users\\\\venu\\\\Desktop\\\\Stock Market Analysis\\\\Data\\\\NextUBLB_Results\\\\\" + stock + \"_IE.csv\", index = False)"
   ]
  },
  {
   "cell_type": "code",
   "execution_count": null,
   "id": "packed-sleep",
   "metadata": {},
   "outputs": [],
   "source": []
  }
 ],
 "metadata": {
  "kernelspec": {
   "display_name": "Python 3",
   "language": "python",
   "name": "python3"
  },
  "language_info": {
   "codemirror_mode": {
    "name": "ipython",
    "version": 3
   },
   "file_extension": ".py",
   "mimetype": "text/x-python",
   "name": "python",
   "nbconvert_exporter": "python",
   "pygments_lexer": "ipython3",
   "version": "3.8.8"
  }
 },
 "nbformat": 4,
 "nbformat_minor": 5
}
