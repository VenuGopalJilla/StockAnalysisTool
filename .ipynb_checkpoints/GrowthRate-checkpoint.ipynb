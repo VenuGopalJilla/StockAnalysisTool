{
 "cells": [
  {
   "cell_type": "code",
   "execution_count": 3,
   "metadata": {},
   "outputs": [],
   "source": [
    "import pandas as pd \n",
    "import numpy as np \n",
    "import os\n",
    "import re\n",
    "from datetime import datetime,timedelta\n",
    "import math\n",
    "import calendar"
   ]
  },
  {
   "cell_type": "code",
   "execution_count": 4,
   "metadata": {},
   "outputs": [
    {
     "data": {
      "text/plain": [
       "'C:\\\\Users\\\\venu\\\\Desktop\\\\Stock Market Analysis\\\\Data'"
      ]
     },
     "execution_count": 4,
     "metadata": {},
     "output_type": "execute_result"
    }
   ],
   "source": [
    "path = os.getcwd()\n",
    "datapath = os.path.join(path,\"Data\")\n",
    "datapath"
   ]
  },
  {
   "cell_type": "code",
   "execution_count": 5,
   "metadata": {},
   "outputs": [],
   "source": [
    "security_id = \"500002\"\n",
    "company_name = \"ABB India Limited,Active\""
   ]
  },
  {
   "cell_type": "code",
   "execution_count": 6,
   "metadata": {},
   "outputs": [],
   "source": [
    "# stock = pd.read_csv(os.path.join(datapath,\"Stock/\"+\"mod\"+security_id+\".csv\"))\n",
    "# stock.Date = pd.to_datetime(stock.Date)"
   ]
  },
  {
   "cell_type": "code",
   "execution_count": 7,
   "metadata": {},
   "outputs": [],
   "source": [
    "# stock['Alpha'] = pd.to_numeric(stock['Alpha'], errors='coerce')\n",
    "# stock['Beta'] = pd.to_numeric(stock['Beta'], errors='coerce')"
   ]
  },
  {
   "cell_type": "code",
   "execution_count": 8,
   "metadata": {},
   "outputs": [],
   "source": [
    "# print(stock[\"Beta\"].dtype)"
   ]
  },
  {
   "cell_type": "code",
   "execution_count": 9,
   "metadata": {},
   "outputs": [],
   "source": [
    "direct_columns = ['Open Price', 'High Price', 'Low Price', 'Close Price','Next Day Open Price', 'Next Day High Price', 'Next Day Low Price', 'Next Day Close Price','WAP','No.of Shares', 'No. of Trades', 'Total Turnover (Rs.)','Deliverable Quantity', '% Deli. Qty to Traded Qty','Spread High-Low','Spread Close-Open','Alpha','Beta']\n",
    "growth_direct_rate_columns = [col + \" GR\" for col in direct_columns]"
   ]
  },
  {
   "cell_type": "code",
   "execution_count": 10,
   "metadata": {},
   "outputs": [],
   "source": [
    "def find_gain_loss(stock):\n",
    "    stock[growth_direct_rate_columns] = pd.DataFrame([[0]*len(growth_direct_rate_columns)], index=stock.index)\n",
    "    today = stock[direct_columns]\n",
    "    previous = stock[direct_columns].shift(1)\n",
    "    stock[growth_direct_rate_columns] = (today-previous)/previous\n",
    "    return stock"
   ]
  },
  {
   "cell_type": "code",
   "execution_count": 11,
   "metadata": {},
   "outputs": [],
   "source": [
    "def close_price_as_percent_of_LV_HV_BA(stock):\n",
    "    bands = [7,30,90,180,365]\n",
    "    for b in bands:\n",
    "        bcols = [\"CP % LV \"+str(b)+\" days\",\"CP % HV \"+str(b)+\" days\",\"CP % BA \"+str(b)+\" days\"]\n",
    "        stock[bcols] = pd.DataFrame([[0]*len(bcols)], index=stock.index)\n",
    "        for i in range(stock.shape[0]):\n",
    "            s = i+1\n",
    "            specific_bands = stock.iloc[-(s):-(s+b+1):-1]\n",
    "            low = specific_bands[\"Close Price\"].min()\n",
    "            high = specific_bands[\"Close Price\"].max()\n",
    "            today = stock.iloc[-(s)][\"Close Price\"]\n",
    "            stock.loc[specific_bands.index,bcols] = [today/low,today/high,today/(high-low)]\n",
    "    return stock"
   ]
  },
  {
   "cell_type": "code",
   "execution_count": 12,
   "metadata": {},
   "outputs": [],
   "source": [
    "def sequential_increase(stock):\n",
    "    stock[\"Sequential Increase\"] = 0\n",
    "    c = 1\n",
    "    for i in reversed(range(stock.shape[0]-1)):\n",
    "        if stock.at[i,\"Close Price\"] > stock.at[i+1,\"Close Price\"]:\n",
    "            stock.at[i,\"Sequential Increase\"] = c\n",
    "            c += 1\n",
    "        else:\n",
    "            stock.at[i,\"Sequential Increase\"] = 0\n",
    "            c = 1\n",
    "    return stock\n"
   ]
  },
  {
   "cell_type": "code",
   "execution_count": 13,
   "metadata": {},
   "outputs": [],
   "source": [
    "def sequential_decrease(stock):\n",
    "    stock[\"Sequential Decrease\"] = 0\n",
    "    c = 1\n",
    "    stock.at[stock.shape[0]-2, \"Sequential Decrease\"] = 0\n",
    "    stock.at[stock.shape[0]-1, \"Sequential Decrease\"] = 0\n",
    "    for i in reversed(range(stock.shape[0]-1)):\n",
    "        if stock.at[i,\"Close Price\"] < stock.at[i+1,\"Close Price\"]:\n",
    "            stock.at[i,\"Sequential Decrease\"] = c\n",
    "            c += 1\n",
    "        else:\n",
    "            stock.at[i,\"Sequential Decrease\"] = 0\n",
    "            c = 1\n",
    "    return stock"
   ]
  },
  {
   "cell_type": "code",
   "execution_count": 14,
   "metadata": {},
   "outputs": [],
   "source": [
    "def sequential_increase_percentage(stock):\n",
    "    stock[\"Sequential Increase %\"] = \"\"\n",
    "    for i in range(stock.shape[0]-2):\n",
    "        if stock.at[i, \"Sequential Increase\"] != 0:\n",
    "            inc = stock.at[i, \"Sequential Increase\"]\n",
    "        else:\n",
    "            inc = 1\n",
    "        fr = stock.at[i+1, \"Close Price\"]\n",
    "        to = stock.at[i+1+inc, \"Close Price\"]\n",
    "        stock.at[i, \"Sequential Increase %\"] = (fr - to) / to\n",
    "    stock.at[stock.shape[0]-2, \"Sequential Increase %\"] = 0\n",
    "    stock.at[stock.shape[0]-1, \"Sequential Increase %\"] = 0\n",
    "    return stock"
   ]
  },
  {
   "cell_type": "code",
   "execution_count": 15,
   "metadata": {},
   "outputs": [],
   "source": [
    "def sequential_decrease_percentage(stock):\n",
    "    stock[\"Sequential Decrease %\"] = \"\"\n",
    "#     print(\"-----------------\")\n",
    "#     print(stock.shape[0], stock.shape[0] - 2, stock.shape[0] - 1)\n",
    "    for j in range(stock.shape[0]-2):\n",
    "#         print(j)\n",
    "        if stock.at[j, \"Sequential Decrease\"] != 0:\n",
    "            inc = stock.at[j, \"Sequential Decrease\"]\n",
    "        else:\n",
    "            inc = 1\n",
    "        fr = stock.at[j+1, \"Close Price\"]\n",
    "        try :\n",
    "            to = stock.at[j+1+inc, \"Close Price\"]\n",
    "            stock.at[j, \"Sequential Decrease %\"] = (to - fr) / fr\n",
    "        except Exception as e:\n",
    "            stock.at[j, \"Sequential Decrease %\"] = 0\n",
    "\n",
    "    stock.at[stock.shape[0]-2, \"Sequential Decrease %\"] = 0\n",
    "    stock.at[stock.shape[0]-1, \"Sequential Decrease %\"] = 0\n",
    "    return stock"
   ]
  },
  {
   "cell_type": "code",
   "execution_count": 16,
   "metadata": {},
   "outputs": [],
   "source": [
    "def max_min_avg_of_sequential_data(stock):\n",
    "    index_start = stock.first_valid_index() \n",
    "    seq_inc_days = stock.at[index_start, \"Sequential Increase\"]\n",
    "    seq_dec_days = stock.at[index_start, \"Sequential Decrease\"]\n",
    "    seq_inc_list = [0]\n",
    "    seq_dec_list = [0]\n",
    "    for i in range(index_start, stock.shape[0]+index_start-1):\n",
    "        if stock.at[i, \"Sequential Increase\"] == seq_inc_days:\n",
    "            seq_inc_list.append(stock.at[i, \"Sequential Increase %\"])\n",
    "        if stock.at[i, \"Sequential Decrease\"] == seq_dec_days:\n",
    "            seq_dec_list.append(stock.at[i, \"Sequential Decrease %\"])\n",
    "    return seq_inc_list, seq_dec_list"
   ]
  },
  {
   "cell_type": "code",
   "execution_count": 17,
   "metadata": {},
   "outputs": [],
   "source": [
    "def sequential_increase_decrease(stock):\n",
    "    bands = [90,180,365]\n",
    "    for b in bands:\n",
    "        bcols = [\"Max Inc % in \"+str(b)+\" days\",\"Max Dec % in \"+str(b)+\" days\",\"Min Inc % in \"+str(b)+\" days\",\"Min Dec % in \"+str(b)+\" days\",\"Avg Inc % in \"+str(b)+\" days\",\"Avg Dec % in \"+str(b)+\" days\"]\n",
    "        stock[bcols] = pd.DataFrame([[0]*len(bcols)], index=stock.index)\n",
    "        for i in range(stock.shape[0]):\n",
    "            s = i+1\n",
    "            specific_bands = stock.iloc[-(s):-(s+b+1):-1]\n",
    "            specific_bands.sort_index(inplace=True)\n",
    "            seq_inc_list, seq_dec_list = max_min_avg_of_sequential_data(specific_bands)\n",
    "            stock.loc[specific_bands.index,bcols] = [max(seq_inc_list),max(seq_dec_list),min(seq_inc_list),min(seq_dec_list),np.mean(seq_inc_list),np.mean(seq_dec_list)]\n",
    "    return stock"
   ]
  },
  {
   "cell_type": "code",
   "execution_count": 18,
   "metadata": {},
   "outputs": [],
   "source": [
    "def generate_dictionary_for_quarterwise_data(stock,columnName):\n",
    "    result = {}\n",
    "    for index,row in stock.iterrows():\n",
    "        q = (row.Date.month-1)//3 + 1   \n",
    "        year = row.Date.year\n",
    "        month = row.Date.month\n",
    "        res = result.get(year,{})\n",
    "        # amount = re.findall(r\"\\d+.?\\d*\",row[\"Revenue\"])[0]\n",
    "        amount  = row[columnName]\n",
    "        q = \"1q\" if 1 <= month <= 3 else \"2q\" if 4 <= month <= 6 else \"3q\" if 6 <= month <= 9 else \"4q\"\n",
    "        val = res.get(q,[])\n",
    "        val.append(float(amount))\n",
    "        res[q] = val\n",
    "        result[year] = res\n",
    "    return result"
   ]
  },
  {
   "cell_type": "code",
   "execution_count": 19,
   "metadata": {},
   "outputs": [],
   "source": [
    "def generate_dictionary_for_quarterwise_growthrate_data(data):\n",
    "    gr_dic = {}\n",
    "    keys = list(data.keys())\n",
    "    array = [''] * (len(keys)*4)\n",
    "    array_index = 0\n",
    "    for key in data:\n",
    "        lists = data.get(key)\n",
    "        array_index += 4 - len(lists.keys()) \n",
    "        for lis in lists:\n",
    "            if math.isnan(lists.get(lis)[0]):\n",
    "                array[array_index] = ''\n",
    "            else:                \n",
    "                array[array_index] = lists.get(lis)[0]\n",
    "            array_index = array_index + 1\n",
    "    # if (array.count('')) > ((len(keys) * 4) / 2):\n",
    "    #     return gr_dic\n",
    "    \n",
    "    for i in range(4,len(keys)*4,4):\n",
    "        res = [array[i],array[i+1],array[i+2],array[i+3]]\n",
    "        avg = np.mean(list(filter(lambda i: isinstance(i, float), res)))\n",
    "        if np.isnan(avg):\n",
    "            pass\n",
    "        else:\n",
    "            array[i] = avg\n",
    "\n",
    "\n",
    "    gr_array = [''] * (len(keys)*4)\n",
    "    for i in range(0, len(keys)*4-1):\n",
    "        x = array[i]\n",
    "        y = array[i+1]\n",
    "        if x == '' and y == '': continue\n",
    "        if y == '': continue\n",
    "        if x == '':\n",
    "            gr_array[i] = 1\n",
    "        else:\n",
    "            gr_array[i] = (x - y) / y\n",
    "    index = 0\n",
    "    for key in data:\n",
    "        gr_dic[key] = [gr_array[index], gr_array[index+1], gr_array[index+2], gr_array[index+3]]\n",
    "        index = index + 4\n",
    "    return gr_dic\n"
   ]
  },
  {
   "cell_type": "code",
   "execution_count": 20,
   "metadata": {},
   "outputs": [],
   "source": [
    "def update_growthrate_for_quarterwise_data(gr_dic, stock, columnName):\n",
    "    for i in range(0, stock.shape[0]-1):\n",
    "        date = stock.at[i, \"Date\"]\n",
    "        q = int((date.month-1)//3)\n",
    "        year = date.year\n",
    "        if year in gr_dic.keys():\n",
    "            stock.at[i,columnName+\" GR\"] = gr_dic.get(year)[q] if isinstance(gr_dic.get(year)[q],float) else 0\n",
    "    return stock"
   ]
  },
  {
   "cell_type": "code",
   "execution_count": 21,
   "metadata": {},
   "outputs": [],
   "source": [
    "def quarter_wise_growthrate(stock, columnName):\n",
    "    dic = generate_dictionary_for_quarterwise_data(stock, columnName)\n",
    "    gr_dic = generate_dictionary_for_quarterwise_growthrate_data(dic)\n",
    "    stock[columnName + ' GR'] = ''\n",
    "    if gr_dic == {}:\n",
    "        return stock\n",
    "    else:\n",
    "        stock = update_growthrate_for_quarterwise_data(gr_dic, stock, columnName)\n",
    "    return stock"
   ]
  },
  {
   "cell_type": "code",
   "execution_count": 22,
   "metadata": {},
   "outputs": [],
   "source": [
    "# print(stock.isna().sum())"
   ]
  },
  {
   "cell_type": "code",
   "execution_count": 23,
   "metadata": {},
   "outputs": [],
   "source": [
    "# stock = find_gain_loss(stock)\n",
    "# stock = close_price_as_percent_of_LV_HV_BA(stock)"
   ]
  },
  {
   "cell_type": "code",
   "execution_count": 24,
   "metadata": {},
   "outputs": [],
   "source": [
    "# stock = sequential_increase(stock)\n",
    "# stock = sequential_decrease(stock)"
   ]
  },
  {
   "cell_type": "code",
   "execution_count": 23,
   "metadata": {},
   "outputs": [],
   "source": [
    "# stock = sequential_increase_percentage(stock)\n",
    "# stock = sequential_decrease_percentage(stock)"
   ]
  },
  {
   "cell_type": "code",
   "execution_count": 24,
   "metadata": {},
   "outputs": [],
   "source": [
    "# cols = [\"Revenue\",\"Dividend\",\"Income\",\"Expenditure\",\"Net Profit\",\"EPS\"]"
   ]
  },
  {
   "cell_type": "code",
   "execution_count": 25,
   "metadata": {},
   "outputs": [],
   "source": [
    "# for col in cols:\n",
    "#     try:\n",
    "#         stock = quarter_wise_growthrate(stock, col)\n",
    "#     except:\n",
    "#         pass"
   ]
  },
  {
   "cell_type": "code",
   "execution_count": 26,
   "metadata": {},
   "outputs": [],
   "source": [
    "# stock.to_csv(os.path.join(datapath,\"Stock/\"+\"mod\"+security_id+\"GR.csv\"),index=None)"
   ]
  },
  {
   "cell_type": "code",
   "execution_count": null,
   "metadata": {},
   "outputs": [],
   "source": []
  },
  {
   "cell_type": "code",
   "execution_count": null,
   "metadata": {},
   "outputs": [],
   "source": []
  },
  {
   "cell_type": "code",
   "execution_count": null,
   "metadata": {},
   "outputs": [],
   "source": []
  }
 ],
 "metadata": {
  "kernelspec": {
   "display_name": "Python 3",
   "language": "python",
   "name": "python3"
  },
  "language_info": {
   "codemirror_mode": {
    "name": "ipython",
    "version": 3
   },
   "file_extension": ".py",
   "mimetype": "text/x-python",
   "name": "python",
   "nbconvert_exporter": "python",
   "pygments_lexer": "ipython3",
   "version": "3.8.3"
  }
 },
 "nbformat": 4,
 "nbformat_minor": 4
}
