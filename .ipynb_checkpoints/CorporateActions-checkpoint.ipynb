{
 "cells": [
  {
   "cell_type": "code",
   "execution_count": 11,
   "metadata": {},
   "outputs": [],
   "source": [
    "import time, csv, requests, datetime, random, datetime, os, shutil, glob\n",
    "import pandas as pd\n",
    "import numpy as np\n",
    "from pathlib import Path\n",
    "from datetime import tzinfo, timedelta, datetime, date\n",
    "from os import path\n",
    "from bs4 import BeautifulSoup\n",
    "from selenium import webdriver\n",
    "from selenium.webdriver.common.by import By\n",
    "from selenium.webdriver.support.ui import Select\n",
    "from selenium.webdriver.common.keys import Keys\n",
    "from selenium.webdriver.chrome.options import Options\n",
    "from selenium.webdriver.support.ui import WebDriverWait\n",
    "from selenium.webdriver.support import expected_conditions as EC\n",
    "from selenium.common.exceptions import StaleElementReferenceException\n",
    "from selenium.common.exceptions import NoSuchElementException,TimeoutException,WebDriverException"
   ]
  },
  {
   "cell_type": "code",
   "execution_count": 12,
   "metadata": {},
   "outputs": [
    {
     "name": "stdout",
     "output_type": "stream",
     "text": [
      "C:\\Users\\venu\\Desktop\\Stock Market Analysis\\Data\\Stock\n",
      "C:\\Users\\venu\\Desktop\\Stock Market Analysis\\Data\\Corporate Actions\n",
      "C:\\Users\\venu\\Desktop\\Stock Market Analysis\\Data\n"
     ]
    }
   ],
   "source": [
    "path = os.path.join(os.getcwd(),\"Data\")\n",
    "stockspath = os.path.join(path,\"Stock\")\n",
    "corporateactionspath = os.path.join(path,\"Corporate Actions\")\n",
    "print(stockspath)\n",
    "print(corporateactionspath)\n",
    "print(path)"
   ]
  },
  {
   "cell_type": "markdown",
   "metadata": {},
   "source": [
    "# Bonus Issue"
   ]
  },
  {
   "cell_type": "code",
   "execution_count": 13,
   "metadata": {},
   "outputs": [],
   "source": [
    "def bonus_issue(stock,start_date,end_date,r1,r2):\n",
    "    specific_dates = stock[stock.Date.between(end_date,start_date)]\n",
    "    for index,row in specific_dates.iterrows():\n",
    "        specific_dates.loc[index,\"Open Price\"] = specific_dates.loc[index,\"Open Price\"] * (r2/(r1+r2))\n",
    "        specific_dates.loc[index,\"Low Price\"] = specific_dates.loc[index,\"Low Price\"] * (r2/(r1+r2))\n",
    "        specific_dates.loc[index,\"High Price\"] = specific_dates.loc[index,\"High Price\"] * (r2/(r1+r2))\n",
    "        specific_dates.loc[index,\"Close Price\"] = specific_dates.loc[index,\"Close Price\"] * (r2/(r1+r2))\n",
    "        specific_dates.loc[index,\"WAP\"] = specific_dates.loc[index,\"WAP\"] * (r2/(r1+r2))\n",
    "        stock.loc[index] = specific_dates.loc[index]\n",
    "    return stock"
   ]
  },
  {
   "cell_type": "markdown",
   "metadata": {},
   "source": [
    "# Stock Split"
   ]
  },
  {
   "cell_type": "code",
   "execution_count": 14,
   "metadata": {},
   "outputs": [],
   "source": [
    "def stock_split(stock,start_date,end_date,r1,r2):\n",
    "    specific_dates = stock[stock.Date.between(end_date,start_date)]\n",
    "    for index,row in specific_dates.iterrows():\n",
    "        specific_dates.loc[index,\"Open Price\"] = specific_dates.loc[index,\"Open Price\"] * (r1/r2)\n",
    "        specific_dates.loc[index,\"Low Price\"] = specific_dates.loc[index,\"Low Price\"] * (r1/r2)\n",
    "        specific_dates.loc[index,\"High Price\"] = specific_dates.loc[index,\"High Price\"] * (r1/r2)\n",
    "        specific_dates.loc[index,\"Close Price\"] = specific_dates.loc[index,\"Close Price\"] * (r1/r2)\n",
    "        specific_dates.loc[index,\"WAP\"] = specific_dates.loc[index,\"WAP\"] * (r1/r2)\n",
    "        stock.loc[index] = specific_dates.loc[index]\n",
    "    return stock"
   ]
  },
  {
   "cell_type": "markdown",
   "metadata": {},
   "source": [
    "# Applying Corporate Actions"
   ]
  },
  {
   "cell_type": "code",
   "execution_count": 15,
   "metadata": {},
   "outputs": [],
   "source": [
    "def apply_corporate_actions(stock,corporate):\n",
    "    stock[\"Date\"] = pd.to_datetime(stock[\"Date\"])\n",
    "    corporate[\"Ex Date\"] = pd.to_datetime(corporate[\"Ex Date\"],errors='coerce')\n",
    "    # corporate[\"BC Start Date\"] = pd.to_datetime(corporate[\"BC Start Date\"],errors='coerce')\n",
    "    # corporate[\" BC End Date\\t\"] = pd.to_datetime(corporate[\" BC End Date\\t\"],errors='coerce')\n",
    "    # corporate[\"ND Start Date\"] = pd.to_datetime(corporate[\"ND Start Date\"],errors='coerce')\n",
    "    # corporate[\"ND End Date\"] = pd.to_datetime(corporate[\"ND End Date\"],errors='coerce')\n",
    "    \n",
    "    bonus_df = corporate[corporate['Purpose'].str.contains(\"Bonus\")]\n",
    "    for index,row in bonus_df.iterrows():\n",
    "        start_date = bonus_df.loc[index,\"Ex Date\"]\n",
    "        ratio = bonus_df.loc[index,\"Purpose\"]\n",
    "        r1,r2 = re.findall(r\"\\d+\",ratio)\n",
    "        r1,r2 = int(r1),int(r2)\n",
    "        end_date = stock.tail(1)[\"Date\"].values[0]\n",
    "        stock = bonus_issue(stock,start_date,end_date,r1,r2)\n",
    "\n",
    "    stock_split_df = corporate[corporate['Purpose'].str.contains(\"Stock\")]\n",
    "    for index,row in stock_split_df.iterrows():\n",
    "        start_date = stock_split_df.loc[index,\"Ex Date\"]\n",
    "        ratio = stock_split_df.loc[index,\"Purpose\"]\n",
    "        r1,r2 = re.findall(r\"\\d+\",ratio)\n",
    "        r1,r2 = int(r1),int(r2)\n",
    "        end_date = stock.tail(1)[\"Date\"].values[0]\n",
    "        stock = stock_split(stock,start_date,end_date,r1,r2)\n",
    "    return stock"
   ]
  },
  {
   "cell_type": "code",
   "execution_count": null,
   "metadata": {},
   "outputs": [],
   "source": []
  }
 ],
 "metadata": {
  "kernelspec": {
   "display_name": "Python 3",
   "language": "python",
   "name": "python3"
  },
  "language_info": {
   "codemirror_mode": {
    "name": "ipython",
    "version": 3
   },
   "file_extension": ".py",
   "mimetype": "text/x-python",
   "name": "python",
   "nbconvert_exporter": "python",
   "pygments_lexer": "ipython3",
   "version": "3.8.3"
  }
 },
 "nbformat": 4,
 "nbformat_minor": 4
}
