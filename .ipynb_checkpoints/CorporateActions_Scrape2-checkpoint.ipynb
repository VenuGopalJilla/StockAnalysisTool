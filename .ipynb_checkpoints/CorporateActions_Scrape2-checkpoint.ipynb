{
 "cells": [
  {
   "cell_type": "code",
   "execution_count": 2,
   "metadata": {},
   "outputs": [],
   "source": [
    "import requests\n",
    "import urllib\n",
    "from bs4 import BeautifulSoup\n",
    "import re\n",
    "import io\n",
    "import gzip\n",
    "import time\n",
    "import csv\n",
    "from selenium import webdriver\n",
    "from selenium.webdriver.common.keys import Keys\n",
    "from webdriver_manager.chrome import ChromeDriverManager\n",
    "import pandas as pd\n",
    "import glob\n",
    "import os\n",
    "from os import path\n",
    "import datetime\n",
    "from dateutil.parser import parse\n",
    "from selenium.webdriver.support.ui import Select\n"
   ]
  },
  {
   "cell_type": "code",
   "execution_count": 3,
   "metadata": {},
   "outputs": [],
   "source": [
    "def get_date(d,m,y, driver):\n",
    "#     print(d, m, y)\n",
    "    yy = 2021\n",
    "    if (int(d) < 10):\n",
    "        if (len(str(d)) < 2):\n",
    "            d = \"0\" + str(d)\n",
    "#     print(d, m, y)\n",
    "    while (int(y) < yy):\n",
    "        yy -= 10\n",
    "        year = driver.find_element_by_xpath('/html/body/div[2]/div/div/select[2]')\n",
    "        segment = Select(year)\n",
    "        segment.select_by_visible_text(str(yy))\n",
    "    year = driver.find_element_by_xpath('/html/body/div[2]/div/div/select[2]')\n",
    "    segment = Select(year)\n",
    "    segment.select_by_visible_text(y)\n",
    "\n",
    "    month = driver.find_element_by_xpath('/html/body/div[2]/div/div/select[1]')\n",
    "    segment = Select(month)\n",
    "    segment.select_by_visible_text(m)\n",
    "#     time.sleep(5)\n",
    "    days = driver.find_element_by_xpath(\"//table/tbody/tr/td/a[text()=\"+str(d)+\"]\")\n",
    "    days.click()\n",
    "    \n",
    "        "
   ]
  },
  {
   "cell_type": "code",
   "execution_count": 4,
   "metadata": {},
   "outputs": [],
   "source": [
    "def traverse_stock(security, driver):\n",
    "    if (path.exists(\"C:\\\\Users\\\\venu\\\\Desktop\\\\Stock Market Analysis\\\\Data\\\\Corporate Actions1\\\\Corporate_Actions_\" + security + \".csv\")):\n",
    "#         print(\"present\")\n",
    "        df = pd.read_csv(\"C:\\\\Users\\\\venu\\\\Desktop\\\\Stock Market Analysis\\\\Data\\\\Corporate Actions1\\\\Corporate_Actions_\" + security + \".csv\")\n",
    "        fr_df = df.tail(1)['Ex Date']\n",
    "        fr_date = fr_df.iloc[0]\n",
    "        f = parse(fr_date)\n",
    "        fd = f.date()\n",
    "        if (fd == (datetime.datetime.today() - datetime.timedelta(days=1)).date()):\n",
    "            return None\n",
    "        else:\n",
    "#             print(\"not current date\")\n",
    "            months = {1 : \"Jan\", 2 : \"Feb\", 3 : \"Mar\", 4 : \"Apr\", 5 : \"May\", 6 : \"Jun\", \n",
    "                     7 : \"Jul\", 8 : \"Aug\", 9 : \"Sep\", 10 : \"Oct\", 11 : \"Nov\", 12 : \"Dec\"}\n",
    "            day = 1 if (fd.day + 1 == 32) else fd.day + 1\n",
    "            month = -1\n",
    "            if (fd.day + 1 == 32):\n",
    "                month = fd.month + 1\n",
    "                if (month == 13):\n",
    "                    month = 1\n",
    "            else:\n",
    "                month = fd.month\n",
    "            year = -1\n",
    "            if (fd.day + 1 == 32 and fd.month + 1 == 13):\n",
    "                year = fd.year + 1\n",
    "            else:\n",
    "                year = fd.year\n",
    "            element = driver.find_element_by_xpath('//*[@id=\"ContentPlaceHolder1_SmartSearch_smartSearch\"]')\n",
    "            element.clear()\n",
    "            element.send_keys(security)\n",
    "            element.send_keys(Keys.ENTER)\n",
    "            time.sleep(2)\n",
    "            from_date = driver.find_element_by_xpath('//*[@id=\"ContentPlaceHolder1_txtDate\"]')\n",
    "            from_date.clear()\n",
    "            from_date.click()\n",
    "            get_date(str(day),months[month],str(year), driver)\n",
    "            time.sleep(2)\n",
    "            to_date = driver.find_element_by_xpath('//*[@id=\"ContentPlaceHolder1_txtTodate\"]')\n",
    "            to_date.clear()\n",
    "            to_date.click()\n",
    "            cd = datetime.datetime.today()\n",
    "            get_date(str(cd.day),months[cd.month],str(cd.year), driver)\n",
    "            time.sleep(2)\n",
    "            submit = driver.find_element_by_xpath('//*[@id=\"ContentPlaceHolder1_btnSubmit\"]')\n",
    "            submit.click()\n",
    "            time.sleep(2)\n",
    "            store_stock(security, driver)\n",
    "            return None\n",
    "\n",
    "\n",
    "#     print(\"Intitial non presence\")\n",
    "    element = driver.find_element_by_xpath('//*[@id=\"ContentPlaceHolder1_SmartSearch_smartSearch\"]')\n",
    "    element.clear()\n",
    "    element.send_keys(security)\n",
    "    element.send_keys(Keys.ENTER)\n",
    "    time.sleep(2)\n",
    "\n",
    "#     print(\"Not present\")\n",
    "    months = {1 : \"Jan\", 2 : \"Feb\", 3 : \"Mar\", 4 : \"Apr\", 5 : \"May\", 6 : \"Jun\", \n",
    "             7 : \"Jul\", 8 : \"Aug\", 9 : \"Sep\", 10 : \"Oct\", 11 : \"Nov\", 12 : \"Dec\"}\n",
    "    from_date = driver.find_element_by_xpath('//*[@id=\"ContentPlaceHolder1_txtDate\"]')\n",
    "    from_date.clear()\n",
    "    from_date.click()\n",
    "    get_date(\"01\",\"Aug\",\"2007\", driver)\n",
    "    to_date = driver.find_element_by_xpath('//*[@id=\"ContentPlaceHolder1_txtTodate\"]')\n",
    "    to_date.clear()\n",
    "    to_date.click()\n",
    "    cd = datetime.datetime.today()\n",
    "    get_date(str(cd.day),months[cd.month],str(cd.year), driver)\n",
    "#     get_date(\"28\", \"Feb\", \"2021\", driver)\n",
    "#     print(\"submit click\")\n",
    "    submit = driver.find_element_by_xpath('//*[@id=\"ContentPlaceHolder1_btnSubmit\"]')\n",
    "    submit.click()\n",
    "    time.sleep(5)\n",
    "    store_stock(security, driver)"
   ]
  },
  {
   "cell_type": "code",
   "execution_count": 5,
   "metadata": {},
   "outputs": [],
   "source": [
    "def store_stock(security, driver):\n",
    "    try :\n",
    "#         print(\"downloading\")\n",
    "        download_stock = driver.find_element_by_xpath(\"/html/body/div[1]/form/div[4]/div/div/div[2]/div/div/div[2]/a/i\")\n",
    "        download_stock.click()\n",
    "        time.sleep(8)\n",
    "        remake_stock(security)\n",
    "    except Exception as e:\n",
    "#         print(e)\n",
    "        pass"
   ]
  },
  {
   "cell_type": "code",
   "execution_count": 6,
   "metadata": {},
   "outputs": [],
   "source": [
    "def remake_stock(security):\n",
    "    files_list = os.listdir(\"C:\\\\Users\\\\venu\\\\Desktop\\\\Stock Market Analysis\\\\Data\\\\Corporate Actions1\\\\\")\n",
    "    if (\"Corporate_Actions_\" + security +  \".csv\") not in files_list:\n",
    "#         print(\"not present\")\n",
    "        path = \"C:\\\\Users\\\\venu\\\\Desktop\\\\Stock Market Analysis\\\\Data\\\\Corporate Actions1\\\\Corporate_Actions\" + \".csv\"\n",
    "        stock = pd.read_csv(path)\n",
    "        stock.to_csv(\"C:\\\\Users\\\\venu\\\\Desktop\\\\Stock Market Analysis\\\\Data\\\\Corporate Actions1\\\\Corporate_Actions_\" + security + \".csv\", index=False)\n",
    "        os.remove(path)\n",
    "    else:\n",
    "#         print(\"already present\")\n",
    "        path = \"C:\\\\Users\\\\venu\\\\Desktop\\\\Stock Market Analysis\\\\Corporate Actions1\\\\Corporate_Actions.csv\"\n",
    "        merge_files = []\n",
    "        for file in files_list:\n",
    "            if file.startswith(\"Corporate_Actions\"):\n",
    "                merge_files.append(file)\n",
    "#         print(merge_files)\n",
    "        pth = \"C:\\\\Users\\\\venu\\\\Desktop\\\\Stock Market Analysis\\\\Data\\\\Corporate Actions1\\\\\"\n",
    "        combined_csv = pd.concat([pd.read_csv(pth + merge_files[f]) for f in range(len(merge_files) - 1, -1, -1)])\n",
    "        combined_csv.to_csv( pth + \"Corporate_Actions_\" + security + \".csv\", index=False, encoding='utf-8-sig')\n",
    "        os.remove(path + \"Corporate_Actions.csv\")"
   ]
  },
  {
   "cell_type": "code",
   "execution_count": 7,
   "metadata": {},
   "outputs": [],
   "source": [
    "def download_corporate_actions(nums):\n",
    "    chromeOptions = webdriver.ChromeOptions()\n",
    "    chromeOptions.add_argument(\"--headless\")\n",
    "    chromeOptions.add_experimental_option(\"prefs\", {\"download.default_directory\": \"C:\\\\Users\\\\venu\\\\Desktop\\\\Stock Market Analysis\\\\Data\\\\Corporate Actions1\"})\n",
    "    driver = webdriver.Chrome(ChromeDriverManager().install(),chrome_options=chromeOptions)\n",
    "    url = \"https://www.bseindia.com/corporates/corporate_act.aspx\"\n",
    "    driver.get(url)\n",
    "    traverse_stock(str(nums), driver)\n",
    "    driver.quit()\n"
   ]
  },
  {
   "cell_type": "code",
   "execution_count": 8,
   "metadata": {},
   "outputs": [],
   "source": [
    "# download_corporate_actions(532210)"
   ]
  },
  {
   "cell_type": "code",
   "execution_count": 9,
   "metadata": {},
   "outputs": [],
   "source": [
    "df_equity = pd.read_csv(\"C:\\\\Users\\\\venu\\\\Desktop\\\\Stock Market Analysis\\\\Data\\\\Equity.csv\")\n",
    "security_numbers = df_equity[\"Security Code\"].tolist()"
   ]
  },
  {
   "cell_type": "code",
   "execution_count": 16,
   "metadata": {},
   "outputs": [
    {
     "data": {
      "text/plain": [
       "500429"
      ]
     },
     "execution_count": 16,
     "metadata": {},
     "output_type": "execute_result"
    }
   ],
   "source": [
    "# security_numbers.index(500085)\n",
    "# security_numbers[214]"
   ]
  },
  {
   "cell_type": "code",
   "execution_count": 12,
   "metadata": {},
   "outputs": [
    {
     "name": "stderr",
     "output_type": "stream",
     "text": [
      "[WDM] - ====== WebDriver manager ======\n"
     ]
    },
    {
     "name": "stdout",
     "output_type": "stream",
     "text": [
      "500319\n",
      "\n",
      "\n"
     ]
    },
    {
     "ename": "KeyboardInterrupt",
     "evalue": "",
     "output_type": "error",
     "traceback": [
      "\u001b[1;31m---------------------------------------------------------------------------\u001b[0m",
      "\u001b[1;31mKeyboardInterrupt\u001b[0m                         Traceback (most recent call last)",
      "\u001b[1;32m<timed exec>\u001b[0m in \u001b[0;36m<module>\u001b[1;34m\u001b[0m\n",
      "\u001b[1;32m<ipython-input-6-9ea33bcb90d4>\u001b[0m in \u001b[0;36mdownload_corporate_actions\u001b[1;34m(nums)\u001b[0m\n\u001b[0;32m      3\u001b[0m     \u001b[0mchromeOptions\u001b[0m\u001b[1;33m.\u001b[0m\u001b[0madd_argument\u001b[0m\u001b[1;33m(\u001b[0m\u001b[1;34m\"--headless\"\u001b[0m\u001b[1;33m)\u001b[0m\u001b[1;33m\u001b[0m\u001b[1;33m\u001b[0m\u001b[0m\n\u001b[0;32m      4\u001b[0m     \u001b[0mchromeOptions\u001b[0m\u001b[1;33m.\u001b[0m\u001b[0madd_experimental_option\u001b[0m\u001b[1;33m(\u001b[0m\u001b[1;34m\"prefs\"\u001b[0m\u001b[1;33m,\u001b[0m \u001b[1;33m{\u001b[0m\u001b[1;34m\"download.default_directory\"\u001b[0m\u001b[1;33m:\u001b[0m \u001b[1;34m\"C:\\\\Users\\\\venu\\\\Desktop\\\\Stock Market Analysis\\\\Data\\\\Corporate Actions1\"\u001b[0m\u001b[1;33m}\u001b[0m\u001b[1;33m)\u001b[0m\u001b[1;33m\u001b[0m\u001b[1;33m\u001b[0m\u001b[0m\n\u001b[1;32m----> 5\u001b[1;33m     \u001b[0mdriver\u001b[0m \u001b[1;33m=\u001b[0m \u001b[0mwebdriver\u001b[0m\u001b[1;33m.\u001b[0m\u001b[0mChrome\u001b[0m\u001b[1;33m(\u001b[0m\u001b[0mChromeDriverManager\u001b[0m\u001b[1;33m(\u001b[0m\u001b[1;33m)\u001b[0m\u001b[1;33m.\u001b[0m\u001b[0minstall\u001b[0m\u001b[1;33m(\u001b[0m\u001b[1;33m)\u001b[0m\u001b[1;33m,\u001b[0m\u001b[0mchrome_options\u001b[0m\u001b[1;33m=\u001b[0m\u001b[0mchromeOptions\u001b[0m\u001b[1;33m)\u001b[0m\u001b[1;33m\u001b[0m\u001b[1;33m\u001b[0m\u001b[0m\n\u001b[0m\u001b[0;32m      6\u001b[0m     \u001b[0murl\u001b[0m \u001b[1;33m=\u001b[0m \u001b[1;34m\"https://www.bseindia.com/corporates/corporate_act.aspx\"\u001b[0m\u001b[1;33m\u001b[0m\u001b[1;33m\u001b[0m\u001b[0m\n\u001b[0;32m      7\u001b[0m     \u001b[0mdriver\u001b[0m\u001b[1;33m.\u001b[0m\u001b[0mget\u001b[0m\u001b[1;33m(\u001b[0m\u001b[0murl\u001b[0m\u001b[1;33m)\u001b[0m\u001b[1;33m\u001b[0m\u001b[1;33m\u001b[0m\u001b[0m\n",
      "\u001b[1;32m~\\anaconda3\\envs\\tf\\lib\\site-packages\\webdriver_manager\\chrome.py\u001b[0m in \u001b[0;36m__init__\u001b[1;34m(self, version, os_type, path, name, url, latest_release_url, chrome_type, log_level, print_first_line, cache_valid_range)\u001b[0m\n\u001b[0;32m     23\u001b[0m                          cache_valid_range=cache_valid_range)\n\u001b[0;32m     24\u001b[0m \u001b[1;33m\u001b[0m\u001b[0m\n\u001b[1;32m---> 25\u001b[1;33m         self.driver = ChromeDriver(name=name,\n\u001b[0m\u001b[0;32m     26\u001b[0m                                    \u001b[0mversion\u001b[0m\u001b[1;33m=\u001b[0m\u001b[0mversion\u001b[0m\u001b[1;33m,\u001b[0m\u001b[1;33m\u001b[0m\u001b[1;33m\u001b[0m\u001b[0m\n\u001b[0;32m     27\u001b[0m                                    \u001b[0mos_type\u001b[0m\u001b[1;33m=\u001b[0m\u001b[0mos_type\u001b[0m\u001b[1;33m,\u001b[0m\u001b[1;33m\u001b[0m\u001b[1;33m\u001b[0m\u001b[0m\n",
      "\u001b[1;32m~\\anaconda3\\envs\\tf\\lib\\site-packages\\webdriver_manager\\driver.py\u001b[0m in \u001b[0;36m__init__\u001b[1;34m(self, name, version, os_type, url, latest_release_url, chrome_type)\u001b[0m\n\u001b[0;32m     52\u001b[0m                                            latest_release_url)\n\u001b[0;32m     53\u001b[0m         \u001b[0mself\u001b[0m\u001b[1;33m.\u001b[0m\u001b[0mchrome_type\u001b[0m \u001b[1;33m=\u001b[0m \u001b[0mchrome_type\u001b[0m\u001b[1;33m\u001b[0m\u001b[1;33m\u001b[0m\u001b[0m\n\u001b[1;32m---> 54\u001b[1;33m         \u001b[0mself\u001b[0m\u001b[1;33m.\u001b[0m\u001b[0mbrowser_version\u001b[0m \u001b[1;33m=\u001b[0m \u001b[0mchrome_version\u001b[0m\u001b[1;33m(\u001b[0m\u001b[0mchrome_type\u001b[0m\u001b[1;33m)\u001b[0m\u001b[1;33m\u001b[0m\u001b[1;33m\u001b[0m\u001b[0m\n\u001b[0m\u001b[0;32m     55\u001b[0m \u001b[1;33m\u001b[0m\u001b[0m\n\u001b[0;32m     56\u001b[0m     \u001b[1;32mdef\u001b[0m \u001b[0mget_os_type\u001b[0m\u001b[1;33m(\u001b[0m\u001b[0mself\u001b[0m\u001b[1;33m)\u001b[0m\u001b[1;33m:\u001b[0m\u001b[1;33m\u001b[0m\u001b[1;33m\u001b[0m\u001b[0m\n",
      "\u001b[1;32m~\\anaconda3\\envs\\tf\\lib\\site-packages\\webdriver_manager\\utils.py\u001b[0m in \u001b[0;36mchrome_version\u001b[1;34m(browser_type)\u001b[0m\n\u001b[0;32m    137\u001b[0m \u001b[1;33m\u001b[0m\u001b[0m\n\u001b[0;32m    138\u001b[0m     \u001b[0mcmd\u001b[0m \u001b[1;33m=\u001b[0m \u001b[0mcmd_mapping\u001b[0m\u001b[1;33m[\u001b[0m\u001b[0mbrowser_type\u001b[0m\u001b[1;33m]\u001b[0m\u001b[1;33m[\u001b[0m\u001b[0mos_name\u001b[0m\u001b[1;33m(\u001b[0m\u001b[1;33m)\u001b[0m\u001b[1;33m]\u001b[0m\u001b[1;33m\u001b[0m\u001b[1;33m\u001b[0m\u001b[0m\n\u001b[1;32m--> 139\u001b[1;33m     \u001b[0mstdout\u001b[0m \u001b[1;33m=\u001b[0m \u001b[0mos\u001b[0m\u001b[1;33m.\u001b[0m\u001b[0mpopen\u001b[0m\u001b[1;33m(\u001b[0m\u001b[0mcmd\u001b[0m\u001b[1;33m)\u001b[0m\u001b[1;33m.\u001b[0m\u001b[0mread\u001b[0m\u001b[1;33m(\u001b[0m\u001b[1;33m)\u001b[0m\u001b[1;33m\u001b[0m\u001b[1;33m\u001b[0m\u001b[0m\n\u001b[0m\u001b[0;32m    140\u001b[0m     \u001b[0mversion\u001b[0m \u001b[1;33m=\u001b[0m \u001b[0mre\u001b[0m\u001b[1;33m.\u001b[0m\u001b[0msearch\u001b[0m\u001b[1;33m(\u001b[0m\u001b[0mpattern\u001b[0m\u001b[1;33m,\u001b[0m \u001b[0mstdout\u001b[0m\u001b[1;33m)\u001b[0m\u001b[1;33m\u001b[0m\u001b[1;33m\u001b[0m\u001b[0m\n\u001b[0;32m    141\u001b[0m     \u001b[1;32mif\u001b[0m \u001b[1;32mnot\u001b[0m \u001b[0mversion\u001b[0m\u001b[1;33m:\u001b[0m\u001b[1;33m\u001b[0m\u001b[1;33m\u001b[0m\u001b[0m\n",
      "\u001b[1;32m~\\anaconda3\\envs\\tf\\lib\\encodings\\cp1252.py\u001b[0m in \u001b[0;36mdecode\u001b[1;34m(self, input, final)\u001b[0m\n\u001b[0;32m     20\u001b[0m \u001b[1;33m\u001b[0m\u001b[0m\n\u001b[0;32m     21\u001b[0m \u001b[1;32mclass\u001b[0m \u001b[0mIncrementalDecoder\u001b[0m\u001b[1;33m(\u001b[0m\u001b[0mcodecs\u001b[0m\u001b[1;33m.\u001b[0m\u001b[0mIncrementalDecoder\u001b[0m\u001b[1;33m)\u001b[0m\u001b[1;33m:\u001b[0m\u001b[1;33m\u001b[0m\u001b[1;33m\u001b[0m\u001b[0m\n\u001b[1;32m---> 22\u001b[1;33m     \u001b[1;32mdef\u001b[0m \u001b[0mdecode\u001b[0m\u001b[1;33m(\u001b[0m\u001b[0mself\u001b[0m\u001b[1;33m,\u001b[0m \u001b[0minput\u001b[0m\u001b[1;33m,\u001b[0m \u001b[0mfinal\u001b[0m\u001b[1;33m=\u001b[0m\u001b[1;32mFalse\u001b[0m\u001b[1;33m)\u001b[0m\u001b[1;33m:\u001b[0m\u001b[1;33m\u001b[0m\u001b[1;33m\u001b[0m\u001b[0m\n\u001b[0m\u001b[0;32m     23\u001b[0m         \u001b[1;32mreturn\u001b[0m \u001b[0mcodecs\u001b[0m\u001b[1;33m.\u001b[0m\u001b[0mcharmap_decode\u001b[0m\u001b[1;33m(\u001b[0m\u001b[0minput\u001b[0m\u001b[1;33m,\u001b[0m\u001b[0mself\u001b[0m\u001b[1;33m.\u001b[0m\u001b[0merrors\u001b[0m\u001b[1;33m,\u001b[0m\u001b[0mdecoding_table\u001b[0m\u001b[1;33m)\u001b[0m\u001b[1;33m[\u001b[0m\u001b[1;36m0\u001b[0m\u001b[1;33m]\u001b[0m\u001b[1;33m\u001b[0m\u001b[1;33m\u001b[0m\u001b[0m\n\u001b[0;32m     24\u001b[0m \u001b[1;33m\u001b[0m\u001b[0m\n",
      "\u001b[1;31mKeyboardInterrupt\u001b[0m: "
     ]
    }
   ],
   "source": [
    "%%time\n",
    "\n",
    "for sec_num in security_numbers[215 : 300]:\n",
    "    print(sec_num)\n",
    "    download_corporate_actions(sec_num)"
   ]
  },
  {
   "cell_type": "code",
   "execution_count": null,
   "metadata": {},
   "outputs": [],
   "source": []
  }
 ],
 "metadata": {
  "kernelspec": {
   "display_name": "Python 3",
   "language": "python",
   "name": "python3"
  },
  "language_info": {
   "codemirror_mode": {
    "name": "ipython",
    "version": 3
   },
   "file_extension": ".py",
   "mimetype": "text/x-python",
   "name": "python",
   "nbconvert_exporter": "python",
   "pygments_lexer": "ipython3",
   "version": "3.8.8"
  }
 },
 "nbformat": 4,
 "nbformat_minor": 4
}
