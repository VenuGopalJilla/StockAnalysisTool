{
 "cells": [
  {
   "cell_type": "code",
   "execution_count": 28,
   "metadata": {},
   "outputs": [],
   "source": [
    "import numpy as np \n",
    "import pandas as pd\n",
    "import os\n",
    "import re\n",
    "import math\n",
    "import calendar\n",
    "import time\n",
    "import datetime\n",
    "from datetime import datetime"
   ]
  },
  {
   "cell_type": "code",
   "execution_count": 29,
   "metadata": {},
   "outputs": [],
   "source": [
    "path = os.path.join(os.getcwd(),\"Data\")\n",
    "stockspath = os.path.join(path,\"Stock\")\n",
    "corporateactionspath = os.path.join(path,\"Corporate Actions\")"
   ]
  },
  {
   "cell_type": "code",
   "execution_count": 30,
   "metadata": {},
   "outputs": [],
   "source": [
    "def create_index():\n",
    "    ind = pd.read_csv(os.path.join(path,\"Index.csv\"))\n",
    "    ind[\"% Return\"] = ((ind[\"Close\"] / ind['Close'].shift(1))-1)*100\n",
    "    ind[\"% YTD\"] = ((ind.tail(1)['Close'].values[0]/ind[\"Close\"])-1)*100\n",
    "    ind.to_csv(os.path.join(path,\"modIndex.csv\"),index=None)"
   ]
  },
  {
   "cell_type": "code",
   "execution_count": 31,
   "metadata": {},
   "outputs": [],
   "source": [
    "def calculate_beta(stock):\n",
    "    stock[\"% Return of Company\"] = ((stock[\"Close Price\"] / stock['Close Price'].shift(1))-1)*100\n",
    "    stock.fillna(method = \"ffill\", inplace = True)\n",
    "    stock.fillna(method = \"bfill\", inplace = True)\n",
    "    ind = pd.read_csv(os.path.join(path,\"modIndex.csv\"))\n",
    "    ind[\"Date\"] = pd.to_datetime(ind[\"Date\"])\n",
    "    s = stock.Date.head(1).values[0]\n",
    "    e = stock.Date.tail(1).values[0]\n",
    "#     print(s, e)\n",
    "#     print(\"s , e : -------------------------------------\")\n",
    "    ind = ind[ind.Date.between(s,e)]\n",
    "    ind.rename(columns={'Close':'Close Price of SP500', '% Return':'% Return of SP500'}, inplace=True)\n",
    "    ind.drop(['Open', 'High', 'Low', '% YTD'], axis = 1,inplace=True)\n",
    "#     print(ind, \"ind\")\n",
    "#     print(\"-------------------------\")\n",
    "    ind[\"Date\"] = pd.to_datetime(ind[\"Date\"])\n",
    "    stock[\"Date\"] = pd.to_datetime(stock[\"Date\"])\n",
    "    stock = pd.merge(stock, ind, on=\"Date\", how = \"left\")\n",
    "#     print(stock, \"stock\")\n",
    "#     print(\"--------------------------\")\n",
    "\n",
    "    sp500 = stock[\"% Return of SP500\"]\n",
    "    company = stock[\"% Return of Company\"]\n",
    "    results = list()\n",
    "    for i in range(stock.shape[0]):\n",
    "        # cov = np.cov(company[i:],sp500[i:])[0][1]\n",
    "        cov = np.ma.cov(np.ma.masked_invalid(np.array(company[i:],sp500[i:])),rowvar=False)\n",
    "        var = np.nanvar(sp500[i:])\n",
    "        res = var/cov\n",
    "        results.append(res)\n",
    "    stock[\"Beta\"] = results\n",
    "    stock.fillna(method = \"ffill\", inplace = True)\n",
    "    stock.fillna(method = \"bfill\", inplace = True)\n",
    "    return stock"
   ]
  },
  {
   "cell_type": "code",
   "execution_count": 32,
   "metadata": {},
   "outputs": [],
   "source": [
    "def calculate_alpha(stock):\n",
    "    stock[\"% YTD of Company\"] = ((stock.tail(1)['Close Price'].values[0]/stock[\"Close Price\"])-1)*100\n",
    "    stock.fillna(method = \"ffill\", inplace = True)\n",
    "    stock.fillna(method = \"bfill\", inplace = True)\n",
    "    ind = pd.read_csv(os.path.join(path,\"modIndex.csv\"))\n",
    "    ind[\"Date\"] = pd.to_datetime(ind[\"Date\"])\n",
    "    s = stock.Date.head(1).values[0]\n",
    "    e = stock.Date.tail(1).values[0]\n",
    "#     print(s, e)\n",
    "#     print(\"-----------------------------\")\n",
    "    ind = ind[ind.Date.between(s,e)]\n",
    "    ind.drop(['Open', 'High', 'Low', \"Close\", \"% Return\"], axis = 1,inplace=True) \n",
    "    ind.rename(columns={'% YTD':'% YTD of SP500'}, inplace=True)\n",
    "    ind[\"Date\"] = pd.to_datetime(ind[\"Date\"])\n",
    "#     print(ind)\n",
    "#     print(\"----------------------------------\")\n",
    "    stock[\"Date\"] = pd.to_datetime(stock[\"Date\"])\n",
    "    stock = pd.merge(stock, ind, on=\"Date\", how = \"left\")\n",
    "    stock[\"Beta\"] = pd.to_numeric(stock[\"Beta\"],errors='coerce')\n",
    "    stock[\"Alpha\"] = stock[\"% YTD of Company\"]-(stock[\"Rate\"]+(stock[\"Beta\"]*(stock[\"% YTD of SP500\"] - stock[\"Rate\"])))\n",
    "    stock.fillna(method = \"ffill\", inplace = True)\n",
    "    stock.fillna(method = \"bfill\", inplace = True)\n",
    "    return stock"
   ]
  },
  {
   "cell_type": "code",
   "execution_count": 33,
   "metadata": {},
   "outputs": [],
   "source": [
    "def add_risk_free_column(stock):\n",
    "    riskrates = pd.read_csv(os.path.join(path,\"RiskFreeRate.csv\"))\n",
    "    riskrates[\"Date\"] = pd.to_datetime(riskrates[\"Date\"])\n",
    "    stock[\"Date\"] = pd.to_datetime(stock[\"Date\"])\n",
    "    riskrates[\"Rate\"] = pd.to_numeric(riskrates[\"Rate\"])\n",
    "    res = pd.merge(stock, riskrates, on=\"Date\", how = \"left\")\n",
    "    res.fillna(method = \"bfill\", inplace = True)\n",
    "    res.fillna(method = \"ffill\", inplace = True)\n",
    "    return res\n"
   ]
  },
  {
   "cell_type": "code",
   "execution_count": 34,
   "metadata": {},
   "outputs": [],
   "source": [
    "def unixTimeConversion(data):\n",
    "    data['Date'] = pd.to_datetime(data['Date'], errors='coerce')\n",
    "    data['Date'] = data['Date'].dt.strftime('%d-%m-%Y')\n",
    "    if 'Unix Date' not in data.columns:\n",
    "        data.insert(loc=1, column='Unix Date', value=['' for i in range(data.shape[0])])\n",
    "    for each in range(data.shape[0]):\n",
    "        date = data.at[each, 'Date']\n",
    "        unix_date = int(time.mktime(datetime.strptime(date, \"%d-%m-%Y\").timetuple()))\n",
    "        data.at[each, \"Unix Date\"] = unix_date\n",
    "    return data"
   ]
  },
  {
   "cell_type": "code",
   "execution_count": 35,
   "metadata": {},
   "outputs": [],
   "source": [
    "def create_lower_upper_bands(data, mf):\n",
    "    data[\"Upper Band\"] = \"\"\n",
    "    data[\"Lower Band\"] = \"\"\n",
    "    data[\"Band Area\"] = \"\"\n",
    "    cols = data.columns\n",
    "    if (mf.size != 0):\n",
    "        mft = mf[cols]\n",
    "        data = data.append(mft, ignore_index = True)\n",
    "    data['Date'] = pd.to_datetime(data['Date'], errors = 'coerce')\n",
    "    data = data.sort_values(['Date'], ascending = True, ignore_index = True)\n",
    "#     print(mft)\n",
    "#     print(data)\n",
    "    \n",
    "    data = createLowerBand(data)\n",
    "    data = createUpperBand(data)\n",
    "    data = calculate_band_area(data)\n",
    "    \n",
    "    pd.to_numeric(data[\"Lower Band\"])\n",
    "    pd.to_numeric(data[\"Upper Band\"])\n",
    "    return data"
   ]
  },
  {
   "cell_type": "code",
   "execution_count": 36,
   "metadata": {},
   "outputs": [],
   "source": [
    "def createUpperBand(data):\n",
    "    \n",
    "    if (data.loc[0, \"Upper Band\"] != \"\"):\n",
    "        for each in range(1, data.shape[0]):\n",
    "            dt = data.iloc[0 : each + 1]\n",
    "            m = max(dt[\"Close Price\"])\n",
    "            n = dt[\"Upper Band\"].iloc[each - 1]\n",
    "            close_price_value = max(m, n)\n",
    "    #         close_price_value = max(data.iloc[0 : each].loc[\"Close Price\"])\n",
    "            data.loc[each, \"Upper Band\"] = close_price_value\n",
    "    else:\n",
    "        for each in range(data.shape[0]):\n",
    "            dt = data.iloc[0 : each + 1]\n",
    "            m = max(dt[\"Close Price\"])\n",
    "            close_price_value = m\n",
    "    #         close_price_value = max(data.iloc[0 : each].loc[\"Close Price\"])\n",
    "            data.loc[each, \"Upper Band\"] = close_price_value\n",
    "    return data"
   ]
  },
  {
   "cell_type": "code",
   "execution_count": 37,
   "metadata": {},
   "outputs": [],
   "source": [
    "def createLowerBand(data):\n",
    "    if (data.loc[0, \"Lower Band\"] != \"\"):\n",
    "        for each in range(1, data.shape[0]):\n",
    "            dt = data.iloc[0 : each + 1]\n",
    "            m = min(dt[\"Close Price\"])\n",
    "            n = dt[\"Lower Band\"].iloc[each - 1]\n",
    "            close_price_value = min(m, n)\n",
    "    #         close_price_value = min(data.iloc[0 : each].loc[\"Close Price\"])\n",
    "            data.loc[each, \"Lower Band\"] = close_price_value\n",
    "    else:\n",
    "        for each in range(data.shape[0]):\n",
    "            dt = data.iloc[0 : each + 1]\n",
    "            m = min(dt[\"Close Price\"])\n",
    "            close_price_value = m\n",
    "    #         close_price_value = min(data.iloc[0 : each].loc[\"Close Price\"])\n",
    "            data.loc[each, \"Lower Band\"] = close_price_value\n",
    "    \n",
    "    return data"
   ]
  },
  {
   "cell_type": "code",
   "execution_count": 38,
   "metadata": {},
   "outputs": [],
   "source": [
    "def calculate_band_area(stock):\n",
    "    stock[\"Upper Band\"] = pd.to_numeric(stock[\"Upper Band\"])\n",
    "    stock[\"Lower Band\"] = pd.to_numeric(stock[\"Lower Band\"])\n",
    "    stock[\"Band Area\"] = stock[\"Upper Band\"]-stock[\"Lower Band\"]\n",
    "    return stock"
   ]
  },
  {
   "cell_type": "code",
   "execution_count": 39,
   "metadata": {},
   "outputs": [],
   "source": [
    "def create_dividend(corporate,stock):\n",
    "    corporate['Ex Date'] = pd.to_datetime(corporate['Ex Date'], errors='coerce')\n",
    "    stock['Date'] = pd.to_datetime(stock['Date'], errors='coerce')\n",
    "\n",
    "    dividend = corporate[corporate['Purpose'].str.contains(\"Dividend\")]\n",
    "    result = {}\n",
    "    for index,row in dividend.iterrows():\n",
    "        year = row[\"Ex Date\"].year\n",
    "        month = row[\"Ex Date\"].month\n",
    "        amount = re.findall(r\"\\d+.?\\d*\",row[\"Purpose\"])[0]\n",
    "        res = result.get(year,{})\n",
    "        q = \"1q\" if 1 <= month <= 3 else \"2q\" if 4 <= month <= 6 else \"3q\" if 6 <= month <= 9 else \"4q\"\n",
    "        val = res.get(q,[])\n",
    "        val.append(float(amount))\n",
    "        res[q] = val\n",
    "        result[year] = res\n",
    "    for year,quaters in result.items():\n",
    "        for q, a in quaters.items():\n",
    "            quaters[q] = sum(a)/len(a)\n",
    "        result[year] = quaters\n",
    "    divList = list()\n",
    "    for index,row in stock.iterrows():\n",
    "        year = row[\"Date\"].year\n",
    "        month = row[\"Date\"].month\n",
    "        q = \"1q\" if 1 <= month <= 3 else \"2q\" if 4 <= month <= 6 else \"3q\" if 6 <= month <= 9 else \"4q\"\n",
    "        if result.get(year) != None:\n",
    "            if result.get(year).get(q) != None:\n",
    "                divList.append(result.get(year).get(q))\n",
    "            else:\n",
    "                divList.append(0)\n",
    "        else:\n",
    "            divList.append(0)\n",
    "    stock[\"Dividend Value\"] = divList\n",
    "    return stock"
   ]
  },
  {
   "cell_type": "code",
   "execution_count": 40,
   "metadata": {},
   "outputs": [],
   "source": [
    "def add_next_day_columns(stock):\n",
    "    new_columns = [\"Next Day Open Price\",\"Next Day High Price\",\"Next Day Low Price\",\"Next Day Close Price\"]\n",
    "    columns = [\"Open Price\",\"High Price\",\"Low Price\",\"Close Price\"]\n",
    "    stock[new_columns] = pd.DataFrame([[0,0,0,0]], index=stock.index)\n",
    "    stock[new_columns] = stock[columns].shift(-1)\n",
    "    return stock"
   ]
  },
  {
   "cell_type": "code",
   "execution_count": 41,
   "metadata": {},
   "outputs": [],
   "source": [
    "# st = pd.read_csv(\"C:\\\\Users\\\\venu\\\\Desktop\\\\Stock Market Analysis\\\\Data\\\\aftereps.csv\")\n",
    "# mf = pd.read_csv(\"C:\\\\Users\\\\venu\\\\Desktop\\\\Stock Market Analysis\\\\Data\\\\Stock\\\\mod500112.csv\")\n",
    "# mf.tail(1)\n",
    "# mf = pd.DataFrame()\n",
    "# mf.tail(1).size"
   ]
  },
  {
   "cell_type": "code",
   "execution_count": 42,
   "metadata": {},
   "outputs": [],
   "source": [
    "# dt = create_lower_upper_bands(st, mf.tail(1))\n",
    "# dt"
   ]
  },
  {
   "cell_type": "code",
   "execution_count": 43,
   "metadata": {},
   "outputs": [],
   "source": [
    "# dt = calculate_band_area(dt)\n",
    "# dt"
   ]
  },
  {
   "cell_type": "code",
   "execution_count": null,
   "metadata": {},
   "outputs": [],
   "source": []
  },
  {
   "cell_type": "code",
   "execution_count": null,
   "metadata": {},
   "outputs": [],
   "source": []
  }
 ],
 "metadata": {
  "kernelspec": {
   "display_name": "Python 3",
   "language": "python",
   "name": "python3"
  },
  "language_info": {
   "codemirror_mode": {
    "name": "ipython",
    "version": 3
   },
   "file_extension": ".py",
   "mimetype": "text/x-python",
   "name": "python",
   "nbconvert_exporter": "python",
   "pygments_lexer": "ipython3",
   "version": "3.8.3"
  }
 },
 "nbformat": 4,
 "nbformat_minor": 4
}
