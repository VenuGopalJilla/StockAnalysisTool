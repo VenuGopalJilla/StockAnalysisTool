{
 "cells": [
  {
   "cell_type": "code",
   "execution_count": 49,
   "metadata": {},
   "outputs": [],
   "source": [
    "import csv\n",
    "import numpy as np\n",
    "import pandas as pd\n",
    "import glob, os\n",
    "import matplotlib.pyplot as plt\n",
    "from sklearn.model_selection import train_test_split\n",
    "from datetime import *\n",
    "from sklearn.svm import SVR\n",
    "from sklearn import svm\n",
    "from sklearn.metrics import mean_absolute_error,mean_squared_error\n",
    "import seaborn as sns\n",
    "from sklearn.model_selection import GridSearchCV\n",
    "import warnings; warnings.simplefilter('ignore')\n",
    "from sklearn.metrics import r2_score\n",
    "from sklearn.metrics import median_absolute_error\n",
    "from sklearn.metrics import explained_variance_score"
   ]
  },
  {
   "cell_type": "code",
   "execution_count": 50,
   "metadata": {},
   "outputs": [
    {
     "data": {
      "text/plain": [
       "'C:\\\\Users\\\\venu\\\\Desktop\\\\Stock Market Analysis'"
      ]
     },
     "execution_count": 50,
     "metadata": {},
     "output_type": "execute_result"
    }
   ],
   "source": [
    "path = os.getcwd()\n",
    "path"
   ]
  },
  {
   "cell_type": "markdown",
   "metadata": {},
   "source": [
    "# Pre-processing the Data"
   ]
  },
  {
   "cell_type": "code",
   "execution_count": 51,
   "metadata": {},
   "outputs": [],
   "source": [
    "def pre_process_data(data,null_threshold):\n",
    "    data.drop(columns=['Unixtime','Date'],axis=1,inplace=True)\n",
    "    total = data.shape[0]\n",
    "    for col in data.columns:\n",
    "        if null_threshold * total / 100 <= data[col].isnull().sum():\n",
    "            data.drop(columns=[col],axis=1,inplace=True)\n",
    "    data.replace([np.inf, -np.inf], np.nan, inplace=True)\n",
    "    data.dropna(axis=0,inplace=True)\n",
    "    return data"
   ]
  },
  {
   "cell_type": "markdown",
   "metadata": {},
   "source": [
    "# Removing columns based on the dependent column"
   ]
  },
  {
   "cell_type": "code",
   "execution_count": 52,
   "metadata": {},
   "outputs": [],
   "source": [
    "def dependent_column(data,column):\n",
    "    cols = [col for col in data.columns if \"next\" not in col.lower()]\n",
    "    cols.append(column)\n",
    "    data = data[cols]\n",
    "    return (data,column)"
   ]
  },
  {
   "cell_type": "markdown",
   "metadata": {},
   "source": [
    "# ---"
   ]
  },
  {
   "cell_type": "code",
   "execution_count": 53,
   "metadata": {},
   "outputs": [],
   "source": [
    "def Model(dataset,y):\n",
    "    X = dataset.loc[:, dataset.columns != y]\n",
    "    Y = dataset.loc[:, dataset.columns == y]\n",
    "    count = 3\n",
    "    step = 1000\n",
    "    start = 1\n",
    "    end = 10000\n",
    "    while(count >= 0):\n",
    "        print(\"start--------->\"+str(start))\n",
    "        print(\"end------------>\"+str(end))\n",
    "        print(\"step----------->\"+str(step))\n",
    "        best,step = bestParameters(start,end,step,X,Y)\n",
    "        for key in best:\n",
    "            if key == 'C':\n",
    "                c = best[key]\n",
    "                print(c)\n",
    "        if(count == 3):\n",
    "            start = c - 1000\n",
    "            end = c + 1000\n",
    "        if(count == 2):\n",
    "            start = c - 100\n",
    "            end = c + 100\n",
    "        if(count == 1):\n",
    "            start = c - 10\n",
    "            end = c + 10\n",
    "        step = step/10\n",
    "        count = count - 1 \n",
    "    return c"
   ]
  },
  {
   "cell_type": "code",
   "execution_count": 54,
   "metadata": {},
   "outputs": [],
   "source": [
    "def bestParameters(start,end,step,X,Y):\n",
    "    parameters = {'kernel': ['rbf'], 'C': np.arange(start,end,step),'gamma': [0.0001],'epsilon':[0.01]}\n",
    "    print(\"parameters \", parameters)\n",
    "    svr = svm.SVR(parameters['gamma'][0])\n",
    "    clf = GridSearchCV(svr, parameters, scoring = 'neg_mean_squared_error')\n",
    "    X_train, X_test, y_train, y_test = train_test_split(X, Y, test_size=0.3, random_state=42)\n",
    "    clf.fit(X_train,y_train)\n",
    "    best = clf.best_params_\n",
    "    print(\"best \", best)\n",
    "    return (best,step)"
   ]
  },
  {
   "cell_type": "code",
   "execution_count": 55,
   "metadata": {},
   "outputs": [
    {
     "name": "stdout",
     "output_type": "stream",
     "text": [
      "mod500112GR.csv\n",
      "start--------->1\n",
      "end------------>10000\n",
      "step----------->1000\n",
      "parameters  {'kernel': ['rbf'], 'C': array([   1, 1001, 2001, 3001, 4001, 5001, 6001, 7001, 8001, 9001]), 'gamma': [0.0001], 'epsilon': [0.01]}\n",
      "best  {'C': 1, 'epsilon': 0.01, 'gamma': 0.0001, 'kernel': 'rbf'}\n",
      "1\n",
      "start--------->-999\n",
      "end------------>1001\n",
      "step----------->100.0\n",
      "parameters  {'kernel': ['rbf'], 'C': array([-999., -899., -799., -699., -599., -499., -399., -299., -199.,\n",
      "        -99.,    1.,  101.,  201.,  301.,  401.,  501.,  601.,  701.,\n",
      "        801.,  901.]), 'gamma': [0.0001], 'epsilon': [0.01]}\n",
      "best  {'C': 1.0, 'epsilon': 0.01, 'gamma': 0.0001, 'kernel': 'rbf'}\n",
      "1.0\n",
      "start--------->-99.0\n",
      "end------------>101.0\n",
      "step----------->10.0\n",
      "parameters  {'kernel': ['rbf'], 'C': array([-99., -89., -79., -69., -59., -49., -39., -29., -19.,  -9.,   1.,\n",
      "        11.,  21.,  31.,  41.,  51.,  61.,  71.,  81.,  91.]), 'gamma': [0.0001], 'epsilon': [0.01]}\n",
      "best  {'C': 1.0, 'epsilon': 0.01, 'gamma': 0.0001, 'kernel': 'rbf'}\n",
      "1.0\n",
      "start--------->-9.0\n",
      "end------------>11.0\n",
      "step----------->1.0\n",
      "parameters  {'kernel': ['rbf'], 'C': array([-9., -8., -7., -6., -5., -4., -3., -2., -1.,  0.,  1.,  2.,  3.,\n",
      "        4.,  5.,  6.,  7.,  8.,  9., 10.]), 'gamma': [0.0001], 'epsilon': [0.01]}\n",
      "best  {'C': 1.0, 'epsilon': 0.01, 'gamma': 0.0001, 'kernel': 'rbf'}\n",
      "1.0\n",
      "1.0\n",
      "R square -0.001454825169932894\n",
      "-------\n",
      "mean sqauare error ----------->0.001584458536218896\n",
      "-------\n",
      "mean absolute error --------->0.018314746854472\n",
      "-------\n",
      "median absolute error ------------>0.012380220036347856\n",
      "-------\n",
      "explained variance score ------------>0.0\n",
      "Wall time: 1min 13s\n"
     ]
    }
   ],
   "source": [
    "%%time\n",
    "for filename in os.listdir(os.path.join(path,\"Data/Stock\")):\n",
    "    if filename.startswith(\"mod\") and filename.endswith(\"GR.csv\"):\n",
    "        print(filename)\n",
    "        name = filename.split(\".\")[0]\n",
    "        df = pd.read_csv(os.path.join(path,\"Data\\Stock\\\\\" + filename))\n",
    "        df = pre_process_data(df,60)\n",
    "        dataframe, y = dependent_column(df, \"Next Day Close Price GR\")\n",
    "        \n",
    "        c = Model(dataframe,y)\n",
    "        print(c)\n",
    "        \n",
    "        X = dataframe.loc[:, dataframe.columns != y]\n",
    "        Y = dataframe.loc[:, dataframe.columns == y]\n",
    "        X_train, X_test, y_train, y_test = train_test_split(X, Y, test_size=0.3, random_state=42)\n",
    "        svr_rbf = SVR(kernel='rbf', C = 144, gamma = 0.0001, epsilon = 0.01)\n",
    "        y_rbf = svr_rbf.fit(X_train, y_train).predict(X_test)\n",
    "        \n",
    "        \n",
    "        r = r2_score(y_test, y_rbf)\n",
    "        mse = mean_squared_error(y_test, y_rbf)\n",
    "        mae = mean_absolute_error(y_test, y_rbf)\n",
    "        med = median_absolute_error(y_test, y_rbf)\n",
    "        var = explained_variance_score(y_test, y_rbf)\n",
    "        print(\"R square \"+str(r))\n",
    "        print('-------')\n",
    "        print(\"mean sqauare error ----------->\"+str(mse))\n",
    "        print('-------')\n",
    "        print(\"mean absolute error --------->\"+str(mae))\n",
    "        print('-------')\n",
    "        print(\"median absolute error ------------>\"+str(med))\n",
    "        print('-------')\n",
    "        print(\"explained variance score ------------>\"+str(var))\n",
    "        \n",
    "        break"
   ]
  },
  {
   "cell_type": "code",
   "execution_count": null,
   "metadata": {},
   "outputs": [],
   "source": []
  },
  {
   "cell_type": "code",
   "execution_count": null,
   "metadata": {},
   "outputs": [],
   "source": []
  }
 ],
 "metadata": {
  "kernelspec": {
   "display_name": "Python 3",
   "language": "python",
   "name": "python3"
  },
  "language_info": {
   "codemirror_mode": {
    "name": "ipython",
    "version": 3
   },
   "file_extension": ".py",
   "mimetype": "text/x-python",
   "name": "python",
   "nbconvert_exporter": "python",
   "pygments_lexer": "ipython3",
   "version": "3.8.3"
  }
 },
 "nbformat": 4,
 "nbformat_minor": 4
}
