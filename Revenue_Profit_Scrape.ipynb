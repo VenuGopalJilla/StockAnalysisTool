{
 "cells": [
  {
   "cell_type": "code",
   "execution_count": 7,
   "metadata": {},
   "outputs": [],
   "source": [
    "import os\n",
    "from selenium import webdriver\n",
    "from selenium.webdriver.common.keys import Keys\n",
    "from selenium.webdriver.support.ui import Select\n",
    "from webdriver_manager.chrome import ChromeDriverManager\n",
    "import pandas as pd\n",
    "import time\n",
    "import calendar\n",
    "import datetime\n",
    "import requests\n",
    "from bs4 import BeautifulSoup"
   ]
  },
  {
   "cell_type": "code",
   "execution_count": 8,
   "metadata": {},
   "outputs": [],
   "source": [
    "path = os.path.join(os.getcwd(),\"Data\")\n",
    "revenuepath = os.path.join(path,\"Revenue\")\n",
    "# print(revenuepath)\n",
    "# print(path)"
   ]
  },
  {
   "cell_type": "code",
   "execution_count": 9,
   "metadata": {},
   "outputs": [],
   "source": [
    "# equity = pd.read_csv(os.path.join(path,\"Equity.csv\"))\n",
    "# equity = equity[[\"Security Code\",\"Security Id\",\"Security Name\"]]\n",
    "# equity_samp = equity.head(7)\n",
    "# equity_samp"
   ]
  },
  {
   "cell_type": "code",
   "execution_count": 10,
   "metadata": {},
   "outputs": [],
   "source": [
    "url = \"https://www.bseindia.com/corporates/results.aspx?Code=500003&Company=AEGIS+LOGISTICS+LTD.&qtr=104.00&RType=D\""
   ]
  },
  {
   "cell_type": "code",
   "execution_count": 11,
   "metadata": {},
   "outputs": [],
   "source": [
    "def download_revenue_profit(code,name): \n",
    "\n",
    "    def create_driver():\n",
    "        chromeOptions = webdriver.ChromeOptions()\n",
    "#         chromeOptions.add_argument(\"--headless\")\n",
    "        chromeOptions.add_experimental_option(\"prefs\",{\"download.default_directory\":revenuepath})\n",
    "        driver = webdriver.Chrome(ChromeDriverManager().install(), options = chromeOptions)\n",
    "        return driver\n",
    "\n",
    "    def download():\n",
    "        columns = [\"security code\",\"security name\",'total income','net sales/revenue from operations','expenditure','net profit','basic eps for continuing operation','basic & diluted eps before extraordinary items',\"year\",\"quartile\"]\n",
    "        code_df = pd.DataFrame(columns=columns)\n",
    "        for q in range(55,104):\n",
    "            url = \"https://www.bseindia.com/corporates/results.aspx?Code=\" + str(code) +\"&Company=\"+ str(name) +\"&qtr=\"+ str(q) +\"&RType=D\"\n",
    "            driver.get(url)\n",
    "            time.sleep(1)\n",
    "            html = driver.page_source\n",
    "            soup = BeautifulSoup(html, \"html\")\n",
    "\n",
    "            table = soup.find_all(\"table\",attrs={\"id\":\"ContentPlaceHolder1_tbl_typeID\"})\n",
    "            table = pd.read_html(str(table))[0]\n",
    "            table = table[[0,1]]\n",
    "            table.dropna(inplace=True)\n",
    "            table = table.transpose()\n",
    "            table.columns = table.iloc[0]\n",
    "            table = table[1:]\n",
    "            table.columns = map(str.lower, table.columns)\n",
    "            table.drop([\"description\"],inplace=True,axis=1)\n",
    "            try:\n",
    "                table[\"date begin\"] = pd.to_datetime(table[\"date begin\"])\n",
    "                date = table.iloc[0][\"date begin\"]\n",
    "                table[\"quartile\"] =  (date.month-1)//3 + 1\n",
    "                table[\"year\"] = date.year\n",
    "                table[\"security name\"] = name\n",
    "                table[\"security code\"] = code\n",
    "                code_df = code_df.append(table,ignore_index=True)\n",
    "            except Exception as e:\n",
    "                pass\n",
    "\n",
    "            \n",
    "#         print(code_df)\n",
    "#         print(\"--------------------------------------------------------\")\n",
    "        code_df[\"eps\"] = code_df['basic eps for continuing operation'].fillna('') + code_df['basic & diluted eps before extraordinary items'].fillna('')\n",
    "#         print(code_df)\n",
    "#         print(\"--------------------------------------------------------\")\n",
    "        keep_columns = ['security code', 'security name', 'total income','net sales/revenue from operations', 'expenditure', 'net profit','year', 'quartile','eps']\n",
    "        res = [\"other operating income\",\"other income\",\"net sales / income from operations\",\"total income\"]\n",
    "        code_df[res] = code_df[res].apply(pd.to_numeric)\n",
    "        code_df = code_df.fillna(0)\n",
    "        code_df[\"total income\"] = code_df[\"total income\"] + code_df[\"other operating income\"] + code_df[\"other income\"] + code_df[\"net sales / income from operations\"]\n",
    "        code_df = code_df[keep_columns]\n",
    "#         code_df.fillna(method = \"pad\", inplace = True)\n",
    "#         code_df.replace({'eps' : {' ' : 0}})\n",
    "#         print(code_df)\n",
    "#         print(\"--------------------------------------------------------\")\n",
    "        code_df.to_csv(os.path.join(revenuepath,str(code)+\".csv\"),index=None)\n",
    "    driver = create_driver()\n",
    "    download()\n",
    "    driver.quit()"
   ]
  },
  {
   "cell_type": "code",
   "execution_count": 12,
   "metadata": {},
   "outputs": [],
   "source": [
    "# download_revenue_profit(\"500002\",\"ABB India Limited\")"
   ]
  },
  {
   "cell_type": "code",
   "execution_count": null,
   "metadata": {},
   "outputs": [],
   "source": []
  },
  {
   "cell_type": "code",
   "execution_count": null,
   "metadata": {},
   "outputs": [],
   "source": []
  },
  {
   "cell_type": "code",
   "execution_count": null,
   "metadata": {},
   "outputs": [],
   "source": []
  },
  {
   "cell_type": "code",
   "execution_count": null,
   "metadata": {},
   "outputs": [],
   "source": []
  },
  {
   "cell_type": "code",
   "execution_count": null,
   "metadata": {},
   "outputs": [],
   "source": []
  }
 ],
 "metadata": {
  "kernelspec": {
   "display_name": "Python 3",
   "language": "python",
   "name": "python3"
  },
  "language_info": {
   "codemirror_mode": {
    "name": "ipython",
    "version": 3
   },
   "file_extension": ".py",
   "mimetype": "text/x-python",
   "name": "python",
   "nbconvert_exporter": "python",
   "pygments_lexer": "ipython3",
   "version": "3.8.3"
  }
 },
 "nbformat": 4,
 "nbformat_minor": 4
}
