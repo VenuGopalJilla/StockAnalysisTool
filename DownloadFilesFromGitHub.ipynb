{
 "cells": [
  {
   "cell_type": "code",
   "execution_count": 1,
   "id": "earned-trick",
   "metadata": {},
   "outputs": [],
   "source": [
    "import pandas as pd\n",
    "import os"
   ]
  },
  {
   "cell_type": "code",
   "execution_count": 2,
   "id": "divine-angel",
   "metadata": {},
   "outputs": [],
   "source": [
    "sp500_url = \"https://raw.githubusercontent.com/saikr789/stock-analysis-tool-1011/master/SP500companies.csv\""
   ]
  },
  {
   "cell_type": "code",
   "execution_count": 3,
   "id": "interim-moscow",
   "metadata": {},
   "outputs": [
    {
     "name": "stdout",
     "output_type": "stream",
     "text": [
      "     Security Code                              Security Name\n",
      "0           500002                             ABB India Ltd.\n",
      "1           500003                       Aegis Logistics Ltd.\n",
      "2           500008                  Amara Raja Batteries Ltd.\n",
      "3           500010    Housing Development Finance Corpn. Ltd.\n",
      "4           500020              Bombay Dyeing & Mfg. Co. Ltd.\n",
      "..             ...                                        ...\n",
      "496         542920          Sumitomo Chemical India Pvt. Ltd.\n",
      "497         543064                  Suven Pharmaceutical Ltd.\n",
      "498         543066         SBI Cards & Payments Services Ltd.\n",
      "499         543187  ABB Power Products and Systems India Ltd.\n",
      "500         570001                            Tata Motors DVR\n",
      "\n",
      "[501 rows x 2 columns]\n"
     ]
    }
   ],
   "source": [
    "sp500 = pd.read_csv(sp500_url)\n",
    "sp500.to_csv(\"C:\\\\Users\\\\venu\\\\Desktop\\\\Stock Market Analysis\\\\Data\\\\SP500companies.csv\", index=False)\n",
    "print(sp500)"
   ]
  },
  {
   "cell_type": "code",
   "execution_count": 4,
   "id": "standard-landing",
   "metadata": {},
   "outputs": [],
   "source": [
    "# print(sp500.columns)\n",
    "sp500_ids = list(sp500['Security Code'])\n",
    "# print(sp500_ids[430])"
   ]
  },
  {
   "cell_type": "code",
   "execution_count": 77,
   "id": "nuclear-tourism",
   "metadata": {},
   "outputs": [],
   "source": [
    "# for id in sp500_ids[430 : ]:\n",
    "#     try :\n",
    "#         df = pd.read_csv(\"C:\\\\Users\\\\venu\\\\Desktop\\\\Stock Market Analysis\\\\Data\\\\SP500_GRStock\\\\gr\" + str(id) + \".csv\")\n",
    "#     #     print(df)\n",
    "#         df.drop(['Unnamed: 0'], axis = 1, inplace = True)\n",
    "#     #     print(df)\n",
    "#         df.to_csv(\"C:\\\\Users\\\\venu\\\\Desktop\\\\Stock Market Analysis\\\\Data\\\\SP500_GRStock\\\\gr\" + str(id) + \".csv\", index = False)\n",
    "#     except Exception as e:\n",
    "#         print(id, e)\n",
    "#         continue"
   ]
  },
  {
   "cell_type": "code",
   "execution_count": 49,
   "id": "auburn-donna",
   "metadata": {},
   "outputs": [],
   "source": [
    "for id in sp500_ids:\n",
    "    df = pd.read_csv(\"https://raw.githubusercontent.com//saikr789/stock-analysis-tool-1011/master/Data/Stock/\" + str(id) + \".csv\")\n",
    "    df.to_csv(\"C:\\\\Users\\\\venu\\\\Desktop\\\\Stock Market Analysis\\\\Data\\\\SP500_Stock\\\\\" + str(id) + \".csv\")"
   ]
  },
  {
   "cell_type": "code",
   "execution_count": 63,
   "id": "suitable-concept",
   "metadata": {},
   "outputs": [
    {
     "name": "stdout",
     "output_type": "stream",
     "text": [
      "540133 HTTP Error 404: Not Found\n",
      "540716 HTTP Error 404: Not Found\n",
      "540719 HTTP Error 404: Not Found\n",
      "540755 HTTP Error 404: Not Found\n",
      "540769 HTTP Error 404: Not Found\n",
      "540777 HTTP Error 404: Not Found\n",
      "542759 HTTP Error 404: Not Found\n",
      "542772 HTTP Error 404: Not Found\n",
      "543066 HTTP Error 404: Not Found\n"
     ]
    }
   ],
   "source": [
    "for id in sp500_ids:\n",
    "    try :\n",
    "        if (os.path.exists(\"C:\\\\Users\\\\venu\\\\Desktop\\\\Stock Market Analysis\\\\Data\\\\SP500_GRStock\\\\gr\" + str(id) + \".csv\")):\n",
    "#             print(id)\n",
    "            continue\n",
    "        df = pd.read_csv(\"https://raw.githubusercontent.com//saikr789/stock-analysis-tool-1011/master/Data/GRStock/gr\" + str(id) + \".csv\")\n",
    "        df.to_csv(\"C:\\\\Users\\\\venu\\\\Desktop\\\\Stock Market Analysis\\\\Data\\\\SP500_GRStock\\\\gr\" + str(id) + \".csv\")\n",
    "    except Exception as e:\n",
    "        print(id, e)\n",
    "        continue"
   ]
  },
  {
   "cell_type": "code",
   "execution_count": 61,
   "id": "hispanic-rates",
   "metadata": {},
   "outputs": [],
   "source": [
    "for id in sp500_ids:\n",
    "    try :\n",
    "        if (os.path.exists(\"C:\\\\Users\\\\venu\\\\Desktop\\\\Stock Market Analysis\\\\Data\\\\SP500_CorporateActions\\\\\" + str(id) + \".csv\")):\n",
    "            print(id)\n",
    "            continue\n",
    "        df = pd.read_csv(\"https://raw.githubusercontent.com//saikr789/stock-analysis-tool-1011/master/Data/CorporateActions/\" + str(id) + \".csv\")\n",
    "        df.to_csv(\"C:\\\\Users\\\\venu\\\\Desktop\\\\Stock Market Analysis\\\\Data\\\\SP500_CorporateActions\\\\\" + str(id) + \".csv\")\n",
    "    except Exception as e:\n",
    "        print(id, e)\n",
    "        continue"
   ]
  },
  {
   "cell_type": "code",
   "execution_count": 62,
   "id": "nasty-unknown",
   "metadata": {},
   "outputs": [],
   "source": [
    "for id in sp500_ids:\n",
    "    try :\n",
    "        if (os.path.exists(\"C:\\\\Users\\\\venu\\\\Desktop\\\\Stock Market Analysis\\\\Data\\\\SP500_Revenue\\\\\" + str(id) + \".csv\")):\n",
    "            print(id)\n",
    "            continue\n",
    "        df = pd.read_csv(\"https://raw.githubusercontent.com//saikr789/stock-analysis-tool-1011/master/Data/Revenue/\" + str(id) + \".csv\")\n",
    "        df.to_csv(\"C:\\\\Users\\\\venu\\\\Desktop\\\\Stock Market Analysis\\\\Data\\\\SP500_Revenue\\\\\" + str(id) + \".csv\")\n",
    "    except Exception as e:\n",
    "        print(id, e)\n",
    "        continue"
   ]
  },
  {
   "cell_type": "code",
   "execution_count": 5,
   "id": "generous-chapel",
   "metadata": {},
   "outputs": [
    {
     "name": "stdout",
     "output_type": "stream",
     "text": [
      "540133 HTTP Error 404: Not Found\n",
      "540716 HTTP Error 404: Not Found\n",
      "540719 HTTP Error 404: Not Found\n",
      "540755 HTTP Error 404: Not Found\n",
      "540769 HTTP Error 404: Not Found\n",
      "540777 HTTP Error 404: Not Found\n",
      "542759 HTTP Error 404: Not Found\n",
      "542772 HTTP Error 404: Not Found\n",
      "543066 HTTP Error 404: Not Found\n"
     ]
    }
   ],
   "source": [
    "for id in sp500_ids:\n",
    "    try :\n",
    "        if (os.path.exists(\"C:\\\\Users\\\\venu\\\\Desktop\\\\Stock Market Analysis\\\\Data\\\\SP500_simulation_input_files\\\\simulation\\\\\" + str(id) + \".csv\")):\n",
    "            print(id)\n",
    "            continue\n",
    "        df = pd.read_csv(\"https://raw.githubusercontent.com/saikr789/stock-index-risk/master/Data/Simulation/\" + str(id) + \".csv\")\n",
    "        df.to_csv(\"C:\\\\Users\\\\venu\\\\Desktop\\\\Stock Market Analysis\\\\Data\\\\SP500_simulation_input_files\\\\simulation\\\\\" + str(id) + \".csv\")\n",
    "    except Exception as e:\n",
    "        print(id, e)\n",
    "        continue"
   ]
  },
  {
   "cell_type": "code",
   "execution_count": null,
   "id": "informational-madison",
   "metadata": {},
   "outputs": [],
   "source": []
  }
 ],
 "metadata": {
  "kernelspec": {
   "display_name": "Python 3",
   "language": "python",
   "name": "python3"
  },
  "language_info": {
   "codemirror_mode": {
    "name": "ipython",
    "version": 3
   },
   "file_extension": ".py",
   "mimetype": "text/x-python",
   "name": "python",
   "nbconvert_exporter": "python",
   "pygments_lexer": "ipython3",
   "version": "3.8.8"
  }
 },
 "nbformat": 4,
 "nbformat_minor": 5
}
