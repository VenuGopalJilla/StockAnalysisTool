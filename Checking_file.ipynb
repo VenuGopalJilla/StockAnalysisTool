{
 "cells": [
  {
   "cell_type": "code",
   "execution_count": 2,
   "id": "convinced-witness",
   "metadata": {},
   "outputs": [
    {
     "name": "stdout",
     "output_type": "stream",
     "text": [
      "134 0 0 16\n",
      "[]\n",
      "[]\n",
      "[500285, 500317, 500319, 500356, 500358, 500388, 500414, 500456, 500458, 500890, 501110, 501144, 501242, 501261, 501421, 501477]\n"
     ]
    }
   ],
   "source": [
    "import os\n",
    "import pandas as pd\n",
    "\n",
    "stock_files = os.listdir(\"C:\\\\Users\\\\venu\\\\Desktop\\\\Stock Market Analysis\\\\Data\\\\Stock\")\n",
    "revenue_files = os.listdir(\"C:\\\\Users\\\\venu\\\\Desktop\\\\Stock Market Analysis\\\\Data\\\\Revenue\")\n",
    "corporate_files = os.listdir(\"C:\\\\Users\\\\venu\\\\Desktop\\\\Stock Market Analysis\\\\Data\\\\Corporate Actions\")\n",
    "\n",
    "all_present = []\n",
    "stock_not_present = []\n",
    "revenue_not_present = []\n",
    "corporate_not_present = []\n",
    "\n",
    "df_equity = pd.read_csv(\"C:\\\\Users\\\\venu\\\\Desktop\\\\Stock Market Analysis\\\\Data\\\\Equity.csv\")\n",
    "security_numbers = df_equity[\"Security Code\"].tolist()\n",
    "\n",
    "for num in security_numbers[149 : 299]:\n",
    "    st = False\n",
    "    rev = False\n",
    "    cor = False\n",
    "    if (str(num) + \".csv\" in stock_files):\n",
    "        st = True\n",
    "    if (str(num) + \".csv\" in revenue_files):\n",
    "        rev = True\n",
    "    if (\"Corporate_Actions_\" + str(num) + \".csv\" in corporate_files):\n",
    "        cor = True\n",
    "    \n",
    "#     print(num, st, rev, cor)\n",
    "    \n",
    "    if (st and rev and cor):\n",
    "        all_present.append(num)\n",
    "    else:\n",
    "        if (not st):\n",
    "            stock_not_present.append(num)\n",
    "        if (not rev):\n",
    "            revenue_not_present.append(num)\n",
    "        if (not cor):\n",
    "            corporate_not_present.append(num)\n",
    "    \n",
    "\n",
    "print(len(all_present), len(stock_not_present), len(revenue_not_present), len(corporate_not_present))\n",
    "print(stock_not_present)\n",
    "print(revenue_not_present)\n",
    "print(corporate_not_present)\n",
    "\n",
    "    "
   ]
  },
  {
   "cell_type": "code",
   "execution_count": 5,
   "id": "emotional-norman",
   "metadata": {},
   "outputs": [],
   "source": [
    "df_equity1 = pd.read_csv(\"C:\\\\Users\\\\venu\\\\Desktop\\\\Stock Market Analysis\\\\Data\\\\Equity.csv\")\n",
    "new_df = df_equity1[149 : 299]\n",
    "new_df.to_csv(\"C:\\\\Users\\\\venu\\\\Desktop\\\\Stock Market Analysis\\\\Data\\\\New_Equity.csv\")"
   ]
  },
  {
   "cell_type": "code",
   "execution_count": null,
   "id": "characteristic-dollar",
   "metadata": {},
   "outputs": [],
   "source": []
  }
 ],
 "metadata": {
  "kernelspec": {
   "display_name": "Python 3",
   "language": "python",
   "name": "python3"
  },
  "language_info": {
   "codemirror_mode": {
    "name": "ipython",
    "version": 3
   },
   "file_extension": ".py",
   "mimetype": "text/x-python",
   "name": "python",
   "nbconvert_exporter": "python",
   "pygments_lexer": "ipython3",
   "version": "3.8.8"
  }
 },
 "nbformat": 4,
 "nbformat_minor": 5
}
